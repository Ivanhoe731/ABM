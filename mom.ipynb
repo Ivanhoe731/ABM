{
 "cells": [
  {
   "cell_type": "code",
   "execution_count": 6,
   "metadata": {},
   "outputs": [],
   "source": [
    "### Adjusting the disposable_incomes "
   ]
  },
  {
   "cell_type": "code",
   "execution_count": 11,
   "metadata": {},
   "outputs": [
    {
     "name": "stderr",
     "output_type": "stream",
     "text": [
      "C:\\Users\\novak\\AppData\\Local\\Temp\\ipykernel_19080\\1246809703.py:89: RuntimeWarning: overflow encountered in double_scalars\n",
      "  agent.disposable_income *= mid\n"
     ]
    }
   ],
   "source": [
    "from mesa import Agent, Model\n",
    "from mesa.time import RandomActivation\n",
    "from mesa.datacollection import DataCollector\n",
    "import numpy as np\n",
    "import scipy.stats as stats\n",
    "\n",
    "class WealthAgent(Agent):\n",
    "    def __init__(self, unique_id, model, disposable_income, dwelling, technology):\n",
    "        super().__init__(unique_id, model)\n",
    "        self.disposable_income = disposable_income\n",
    "        self.dwelling = dwelling\n",
    "        self.technology = technology\n",
    "\n",
    "    @property\n",
    "    def energy_cost(self):\n",
    "        \"\"\"Calculate and return the current energy cost for the agent.\"\"\"\n",
    "        return self.model.energy_price * (self.dwelling + self.technology)\n",
    "\n",
    "    @property\n",
    "    def inability(self):\n",
    "        \"\"\"Check if the agent has inability to keep home adequately warm.\"\"\"\n",
    "        return self.energy_cost > self.model.inability_threshold * self.disposable_income\n",
    "\n",
    "    def step(self):\n",
    "        \"\"\"Define the agent's behavior in a single step of the model.\"\"\"\n",
    "        pass\n",
    "\n",
    "\n",
    "class WealthModel(Model):\n",
    "    def __init__(self, N, median_income, gini, rate, energy_price_x, share_fuel_x, energy_price_y, share_fuel_y, inability_target):\n",
    "        self.num_agents = N\n",
    "        self.median_income = median_income\n",
    "        self.gini = gini\n",
    "        self.rate = rate\n",
    "        self.energy_price_x = energy_price_x\n",
    "        self.share_fuel_x = share_fuel_x\n",
    "        self.energy_price_y = energy_price_y\n",
    "        self.share_fuel_y = share_fuel_y\n",
    "        self.inability_target = inability_target\n",
    "        self.inability_threshold = 0.1  # Initialize inability_threshold to 0.1\n",
    "\n",
    "        self.schedule = RandomActivation(self)\n",
    "        self.datacollector = DataCollector(\n",
    "            agent_reporters={\"Inability\": \"inability\",\n",
    "                             \"DisposableIncome\": \"disposable_income\"}\n",
    "        )\n",
    "\n",
    "        # Generate disposable incomes according to a gamma distribution shaped by the Gini coefficient\n",
    "        incomes = self.generate_income_distribution(self.num_agents, self.median_income, self.gini)\n",
    "\n",
    "        # Create agents\n",
    "        for i in range(self.num_agents):\n",
    "            # Initialize dwelling and technology as zeros for simplicity. \n",
    "            # You can add the specific logic to initialize these attributes later.\n",
    "            a = WealthAgent(i, self, disposable_income=incomes[i], dwelling=0, technology=0)\n",
    "            self.schedule.add(a)\n",
    "\n",
    "    @property\n",
    "    def energy_price(self):\n",
    "        \"\"\"Calculate and return the current energy price in the model.\"\"\"\n",
    "        return self.energy_price_x * self.share_fuel_x + self.energy_price_y * self.share_fuel_y\n",
    "    \n",
    "\n",
    "    def scale_incomes(self, factor):\n",
    "        \"\"\"Scale all disposable incomes by the given factor.\"\"\"\n",
    "        for agent in self.schedule.agents:\n",
    "            agent.disposable_income *= factor\n",
    "\n",
    "    @staticmethod\n",
    "    def generate_income_distribution(num_people, median_income, gini):\n",
    "        alpha = (gini + 1) / (2 - gini)\n",
    "        incomes = stats.gamma.rvs(alpha, scale=median_income/alpha, size=num_people)\n",
    "        return incomes\n",
    "\n",
    "    def step(self):\n",
    "        \"\"\"Advance the model by one step.\"\"\"\n",
    "        self.schedule.step()\n",
    "        self.datacollector.collect(self)\n",
    "\n",
    "        # Set initial bounds for binary search\n",
    "        low, high = 0.5, 1.5  # Assume that the incomes need to be scaled by a factor in the range [0.5, 1.5]\n",
    "\n",
    "        # Binary search for the scaling factor that will result in an inability share close to the target\n",
    "        for _ in range(100):  # Limit the number of iterations to prevent infinite loops\n",
    "            mid = (low + high) / 2\n",
    "\n",
    "            # Scale disposable incomes by mid\n",
    "            for agent in self.schedule.agents:\n",
    "                agent.disposable_income *= mid\n",
    "\n",
    "            # Recalculate inability_share\n",
    "            inability_share = sum(agent.inability for agent in self.schedule.agents) / self.num_agents\n",
    "\n",
    "            # Check if inability share is close enough to the target\n",
    "            if abs(inability_share - self.inability_target) <= 0.01:\n",
    "                break\n",
    "\n",
    "            # Update low or high based on whether inability share is lower or higher than the target, respectively\n",
    "            if inability_share < self.inability_target:\n",
    "                low = mid\n",
    "            else:\n",
    "                high = mid\n",
    "\n",
    "\n",
    "# Instantiate the model with hypothetical parameters and run for a certain number of steps\n",
    "model = WealthModel(100, 60000, 0.3, [0.01, 0.05], 1, 0.5, 1, 0.5, 0.2)\n",
    "\n",
    "for i in range(100):\n",
    "    model.step()\n",
    "\n",
    "# Collect data\n",
    "agent_data = model.datacollector.get_agent_vars_dataframe()\n"
   ]
  },
  {
   "cell_type": "code",
   "execution_count": 12,
   "metadata": {},
   "outputs": [
    {
     "data": {
      "text/plain": [
       "0"
      ]
     },
     "execution_count": 12,
     "metadata": {},
     "output_type": "execute_result"
    }
   ],
   "source": [
    "agent_data.Inability.tail(99).sum()"
   ]
  },
  {
   "cell_type": "code",
   "execution_count": null,
   "metadata": {},
   "outputs": [],
   "source": []
  }
 ],
 "metadata": {
  "kernelspec": {
   "display_name": "Python 3",
   "language": "python",
   "name": "python3"
  },
  "language_info": {
   "codemirror_mode": {
    "name": "ipython",
    "version": 3
   },
   "file_extension": ".py",
   "mimetype": "text/x-python",
   "name": "python",
   "nbconvert_exporter": "python",
   "pygments_lexer": "ipython3",
   "version": "3.8.10"
  },
  "orig_nbformat": 4
 },
 "nbformat": 4,
 "nbformat_minor": 2
}
