{
 "cells": [
  {
   "cell_type": "code",
   "execution_count": 2,
   "metadata": {},
   "outputs": [],
   "source": [
    "from mesa import Agent, Model\n",
    "from mesa.time import RandomActivation\n",
    "from mesa.datacollection import DataCollector\n",
    "import numpy as np\n",
    "import scipy.stats as stats\n",
    "import pandas as pd\n",
    "import random\n",
    "import plotly.graph_objects as go\n",
    "import plotly.subplots as sp\n",
    "import plotly.express as px\n",
    "import seaborn as sns\n",
    "\n",
    "COST_INSULATION = 0.45\n",
    "TRESHOLD_LEVEL = 0.25 \n",
    "RESTORATION_COST = 1122 * COST_INSULATION\n",
    "DWELLING_RESTORATION_LIMIT = 900\n",
    "RESTORATION_DWELLING_REDUCTION = 0.5\n",
    "RESTORATION_STEP = 7\n",
    "GRANULARITY = 'MONTH'  ## ELABORATE ON THIS IN THE FURTHER VERSION\n",
    "INABILITY_TRESHOLD = 0.1\n",
    "ARREARS_TRESHOLD = 0.75\n",
    "MPS_VALUES = [0.1, 0.13, 0.17, 0.20, 0.25] # Marginal Propensity to Save\n",
    "SHOCK_INDEX = 0\n",
    "SHOCK_MAGNITUDE = 0.5\n",
    "SHOCK_STEP = 5\n",
    "ALLOWENCE_CHEQUE = 50\n",
    "RESTORATION_BUDGET = 12000\n",
    "ALLOWENCE_BUDGET = 50000\n",
    "ALLOWENCE_FROM = 9\n",
    "\n",
    "class Household(Agent):\n",
    "    def __init__(self, unique_id, model, disposable_income, dwelling, inability=False, restoration_recieved = False):\n",
    "        super().__init__(unique_id, model)\n",
    "        self.disposable_income = disposable_income\n",
    "        self.dwelling = dwelling\n",
    "        self.inability = inability\n",
    "        self.savings = 0  # savings is initialized as 0\n",
    "        self.arrears = 0\n",
    "        self.x = random.uniform(0, 1)\n",
    "        self.y = random.uniform(0, 1)\n",
    "        self.restoration_recieved = restoration_recieved\n",
    "        self.allowence_recieved = False\n",
    "        self.allowence_cheques_sum = 0\n",
    "        self.mps = 0\n",
    "        self.daai = 0\n",
    "\n",
    "    @property\n",
    "    def energy_cost(self):\n",
    "        \"\"\"Calculate and return the current energy cost for the agent.\"\"\"\n",
    "        return self.model.energy_price * (self.dwelling)\n",
    "    \n",
    "    # Add a new method to update MPS\n",
    "    def update_mps(self):\n",
    "        # Get all agent incomes\n",
    "        incomes = [a.disposable_income for a in self.model.schedule.agents]\n",
    "\n",
    "        # Calculate the quintile thresholds\n",
    "        thresholds = np.quantile(incomes, [0.2, 0.4, 0.6, 0.8])\n",
    "\n",
    "        # Determine which quintile the agent's income belongs to\n",
    "        quintile = np.digitize(self.disposable_income, thresholds)\n",
    "\n",
    "        # Set the MPS based on the quintile\n",
    "        self.mps = MPS_VALUES[quintile]\n",
    "        \n",
    "    def step(self):\n",
    "        \"\"\"Update the agent's savings in a step.\"\"\"\n",
    "        # Calculate energy costs\n",
    "        energy_costs = self.energy_cost\n",
    "\n",
    "        self.update_mps()\n",
    "\n",
    "        # Check if the agent is in arrears\n",
    "        if energy_costs > self.disposable_income * ARREARS_TRESHOLD:  # now considering arrears if energy cost exceeds 30% of disposable income\n",
    "            self.arrears += energy_costs\n",
    "        else:\n",
    "            self.savings += (self.disposable_income - energy_costs) * self.mps\n",
    "\n",
    "        # If the agent has arrears\n",
    "        if self.arrears > 0:\n",
    "            if self.savings >= self.arrears:  # and if savings can cover it\n",
    "                self.savings -= self.arrears\n",
    "                self.arrears = 0\n",
    "            else:  # if savings cannot cover it\n",
    "                self.arrears = self.arrears - self.savings  # set arrears to remaining amount\n",
    "                self.savings = 0\n",
    "\n",
    "        self.inability = self.energy_cost > self.disposable_income * INABILITY_TRESHOLD  # agent is in inability state if energy costs exceed 10% of income\n",
    "\n",
    "        # Update disposable income based on growth rate\n",
    "        growth_rate = np.random.uniform(self.model.growth_boundaries[0], self.model.growth_boundaries[1])\n",
    "        self.disposable_income *= (1 + growth_rate)\n",
    "\n",
    "\n",
    "class Country(Model):\n",
    "    \n",
    "    @classmethod\n",
    "    def calculate_gini(cls, incomes):\n",
    "        incomes = np.sort(incomes)\n",
    "        n = len(incomes)\n",
    "        index = np.arange(1, n + 1)\n",
    "        return ((np.sum((2 * index - n  - 1) * incomes)) / (n * np.sum(incomes)))\n",
    "\n",
    "    @classmethod\n",
    "    def generate_income_distribution(cls, num_people, median_income, gini_target, lower_bound):\n",
    "        alpha = (gini_target + 1) / (2 - gini_target)\n",
    "        for _ in range(10000):\n",
    "            incomes = stats.gamma.rvs(alpha, scale=median_income/alpha, size=num_people)\n",
    "            incomes = np.clip(incomes, lower_bound, None)  # None means there is no upper bound\n",
    "            gini_current = cls.calculate_gini(incomes)\n",
    "            if np.isclose(gini_current, gini_target, atol=0.01):\n",
    "                return incomes\n",
    "            elif gini_current < gini_target:\n",
    "                alpha *= 0.9\n",
    "            else:\n",
    "                alpha *= 1.1\n",
    "\n",
    "        raise Exception(f\"Failed to reach target Gini coefficient in 1000 iterations. Current Gini: {gini_current}\")\n",
    "    \n",
    "    def restoration_program(self):\n",
    "\n",
    "        global RESTORATION_DWELLING_REDUCTION\n",
    "\n",
    "        # Sort the agents by income in ascending order\n",
    "        sorted_agents = sorted(self.schedule.agents, key=lambda agent: (agent.disposable_income, -agent.dwelling))\n",
    "\n",
    "        for agent in sorted_agents:\n",
    "            if self.restoration_budget >= self.restoration_cost:\n",
    "                # Assign the restoration\n",
    "                agent.restoration_recieved = True\n",
    "\n",
    "                agent.dwelling *= (1- RESTORATION_DWELLING_REDUCTION)\n",
    "\n",
    "                # Deduct the restoration cost from the budget\n",
    "                self.restoration_budget -= self.restoration_cost\n",
    "            else:\n",
    "                # If the budget is not sufficient for another restoration, break the loop\n",
    "                break\n",
    "\n",
    "    def allowence_program(self):\n",
    "\n",
    "        # Get a list of all agents' incomes\n",
    "        incomes = [agent.disposable_income for agent in self.schedule.agents]\n",
    "\n",
    "        # Compute the 40th percentile of income, which will serve as the cutoff\n",
    "        income_cutoff = np.percentile(incomes, 40)\n",
    "\n",
    "        # Sort the agents by income in ascending order\n",
    "        sorted_agents = sorted(self.schedule.agents, key=lambda agent: (agent.disposable_income))\n",
    "\n",
    "        for agent in sorted_agents:\n",
    "            # Check if the agent's income is below the cutoff\n",
    "            if agent.disposable_income <= income_cutoff and agent.inability:\n",
    "                if self.allowence_budget >= self.allowence_cheque:\n",
    "                    # Assign the allowance\n",
    "                    agent.allowence_recieved = True\n",
    "                    agent.allowence_cheques_sum += self.allowence_cheque\n",
    "                    agent.daai = agent.disposable_income - self.allowence_cheque \n",
    "                    agent.disposable_income += self.allowence_cheque\n",
    "\n",
    "                    # Deduct the restoration cost from the budget\n",
    "                    self.allowence_budget -= self.allowence_cheque\n",
    "                else:\n",
    "                    # If the budget is not sufficient for another restoration, break the loop\n",
    "                    agent.daai = agent.disposable_income\n",
    "                    break\n",
    "            else:\n",
    "                agent.daai = agent.disposable_income\n",
    "\n",
    "    @staticmethod\n",
    "    def assign_inability(agents, inability_start):\n",
    "        \"\"\"\n",
    "        Assigns the inability to the agents.\n",
    "        \"\"\"\n",
    "        agents.sort(key=lambda x: x.disposable_income)\n",
    "\n",
    "        num_agents = len(agents)\n",
    "        num_unable = int(inability_start * num_agents)\n",
    "        inability_per_quintile = np.array([2, 1.6, 1.2, 0.8, 0])\n",
    "        inability_per_quintile *= num_unable / np.sum(inability_per_quintile)\n",
    "        inability_per_quintile = inability_per_quintile.astype(int)\n",
    "\n",
    "        assigned_unable = 0\n",
    "        for i in range(5):  # For each quintile\n",
    "            start = i * num_agents // 5\n",
    "            end = (i + 1) * num_agents // 5 if i < 4 else num_agents\n",
    "            quintile = agents[start:end]\n",
    "            num_unable_quintile = min(inability_per_quintile[i], len(quintile))\n",
    "            unable_agents = np.random.choice(quintile, num_unable_quintile, replace=False)\n",
    "            for agent in unable_agents:\n",
    "                agent.inability = True\n",
    "            assigned_unable += num_unable_quintile\n",
    "\n",
    "        # Assign remaining inability if any\n",
    "        i = 0\n",
    "        while assigned_unable < num_unable:\n",
    "            start = i * num_agents // 5\n",
    "            end = (i + 1) * num_agents // 5 if i < 4 else num_agents\n",
    "            quintile = [agent for agent in agents[start:end] if not agent.inability]\n",
    "            if quintile:\n",
    "                agent = np.random.choice(quintile)\n",
    "                agent.inability = True\n",
    "                assigned_unable += 1\n",
    "            else:\n",
    "                i += 1\n",
    "\n",
    "    @staticmethod\n",
    "    def assign_arrears(agents, arrears_start):\n",
    "        \"\"\"\n",
    "        Assigns the arrears to the agents.\n",
    "        \"\"\"\n",
    "        agents.sort(key=lambda x: x.disposable_income)\n",
    "\n",
    "        num_agents = len(agents)\n",
    "        num_arrears = int(arrears_start * num_agents)\n",
    "        arrears_per_quintile = np.array([2, 1.6, 0, 0, 0])\n",
    "        arrears_per_quintile *= num_arrears / np.sum(arrears_per_quintile)\n",
    "        arrears_per_quintile = arrears_per_quintile.astype(int)\n",
    "\n",
    "        assigned_arrears = 0\n",
    "        for i in range(5):  # For each quintile\n",
    "            start = i * num_agents // 5\n",
    "            end = (i + 1) * num_agents // 5 if i < 4 else num_agents\n",
    "            quintile = agents[start:end]\n",
    "            num_arrears_quintile = min(arrears_per_quintile[i], len(quintile))\n",
    "            arrears_agents = np.random.choice(quintile, num_arrears_quintile, replace=False)\n",
    "            for agent in arrears_agents:\n",
    "                agent.arrears = 2 * ARREARS_TRESHOLD * agent.disposable_income  # assign 0.6 * disposable_income\n",
    "            assigned_arrears += num_arrears_quintile\n",
    "\n",
    "        # Assign remaining arrears if any\n",
    "        i = 0\n",
    "        while assigned_arrears < num_arrears:\n",
    "            start = i * num_agents // 5\n",
    "            end = (i + 1) * num_agents // 5 if i < 4 else num_agents\n",
    "            quintile = [agent for agent in agents[start:end] if not agent.arrears > 0]\n",
    "            if quintile:\n",
    "                agent = np.random.choice(quintile)\n",
    "                agent.arrears = ARREARS_TRESHOLD * agent.disposable_income  # assign 0.6 * disposable_income\n",
    "                assigned_arrears += 1\n",
    "            else:\n",
    "                i += 1\n",
    "\n",
    "\n",
    "    @staticmethod\n",
    "    def assign_dwelling(agents, energy_price):\n",
    "        \"\"\"\n",
    "        Assigns the dwelling to the agents.\n",
    "        \"\"\"\n",
    "        buffer = 0.02  # 2% buffer or margin\n",
    "        all_incomes = [agent.disposable_income for agent in agents]\n",
    "        quintile_thresholds = np.quantile(all_incomes, [0.2, 0.4])  # Calculate income thresholds for the bottom two quintiles\n",
    "        for agent in agents:\n",
    "            min_dwelling, max_dwelling = 500, 2000\n",
    "            if agent.inability:\n",
    "                min_dwelling = max(min_dwelling, int(np.ceil((agent.disposable_income * (INABILITY_TRESHOLD + buffer)) / energy_price)))\n",
    "            else:\n",
    "                max_dwelling = min(max_dwelling, int((agent.disposable_income * (INABILITY_TRESHOLD - buffer)) / energy_price))\n",
    "\n",
    "            # Generate a list of feasible dwelling values\n",
    "            feasible_dwelling = list(range(min_dwelling, max_dwelling + 1))\n",
    "\n",
    "            # If the list is not empty, select a random dwelling from the list\n",
    "            if feasible_dwelling:\n",
    "                agent.dwelling = np.random.choice(feasible_dwelling)\n",
    "            else:\n",
    "                agent.dwelling = min_dwelling  # fallback to the min_dwelling if no other options\n",
    "\n",
    "            # Check income quintile of the agent and if in inability state, increase dwelling size\n",
    "            if agent.disposable_income < quintile_thresholds[1] and agent.inability:  # If in bottom two quintiles and inability is True\n",
    "                agent.dwelling = min(max_dwelling, int(agent.dwelling * 1.25))  # Increase dwelling size by 25%, but not more than max_dwelling\n",
    "\n",
    "    def __init__(self, N, median_income, min_disposal, gini_target, inability_target, arrears_target, growth_boundaries, prices, shares_p, growth_rate_lower_bound, growth_rate_upper_bound, restoration_ACTIVE = False, allowence_ACTIVE = False, price_shock = False):\n",
    "        self.num_agents = N\n",
    "        self.median_income = median_income\n",
    "        self.min_disposal = min_disposal\n",
    "        self.gini_target = gini_target\n",
    "        self.inability_target = inability_target\n",
    "        self.growth_boundaries = growth_boundaries\n",
    "        self.prices = prices\n",
    "        self.shares_p = shares_p\n",
    "        self.growth_rate_lower_bound = growth_rate_lower_bound\n",
    "        self.growth_rate_upper_bound = growth_rate_upper_bound\n",
    "        self.price_shock = price_shock\n",
    "        self.restoration_ACTIVE = restoration_ACTIVE\n",
    "        self.allowence_ACTIVE = allowence_ACTIVE\n",
    "        self.restoration_cost = RESTORATION_COST\n",
    "        self.restoration_budget = RESTORATION_BUDGET\n",
    "        self.allowence_budget = ALLOWENCE_BUDGET\n",
    "        self.allowence_cheque = ALLOWENCE_CHEQUE\n",
    "        self.arrears_target = arrears_target\n",
    "        # Other initialization code...\n",
    "        self.schedule = RandomActivation(self)\n",
    "        self.datacollector = DataCollector(\n",
    "        agent_reporters={\"Dwelling\": \"dwelling\", \n",
    "                        \"Income\": \"disposable_income\",\n",
    "                        \"Inability\": \"inability\",\n",
    "                        \"Savings\":\"savings\",\n",
    "                        \"X\":\"x\",\n",
    "                        \"Y\":\"y\",\n",
    "                        \"MPS\":\"mps\",\n",
    "                        \"DAAI\":\"daai\",\n",
    "                        \"Allowence\":\"allowence_cheques_sum\",\n",
    "                        \"Restoration Aid Recieved\":\"restoration_recieved\",\n",
    "                        \"Arrears\":\"arrears\",\n",
    "                        \"EnergyCost\": \"energy_cost\"},\n",
    "        model_reporters = {\n",
    "                        \"Inability\": lambda model: sum(agent.inability for agent in model.schedule.agents) / model.num_agents,\n",
    "                        \"Arrears\": lambda model: sum(agent.arrears for agent in model.schedule.agents) / model.num_agents,\n",
    "                        \"Allowences\": lambda model: sum(agent.allowence_cheques_sum for agent in model.schedule.agents) / model.num_agents,\n",
    "                        \"Energy Price\": lambda model: model.energy_price,\n",
    "                        \"Price Yellow Fuel\": lambda model: model.prices[0],\n",
    "                        \"Price Brown Fuel\": lambda model: model.prices[1],\n",
    "                        \"Average Dwelling Over Time\": lambda model: sum(agent.dwelling for agent in model.schedule.agents) / model.num_agents,\n",
    "                        \"Restorations\": lambda m: sum([agent.restoration_recieved for agent in m.schedule.agents])}\n",
    "                        )\n",
    "\n",
    "        # Generate disposable incomes and assign dwelling and technology\n",
    "        incomes = self.generate_income_distribution(self.num_agents, self.median_income, self.gini_target, self.min_disposal)\n",
    "\n",
    "        self.initial_energy_price = np.dot(self.prices, self.shares_p)\n",
    "\n",
    " \n",
    "        # Create agents\n",
    "        agents = []\n",
    "        for i in range(self.num_agents):\n",
    "            a = Household(i, self, disposable_income=incomes[i], dwelling=0, inability=False)\n",
    "            agents.append(a)\n",
    "\n",
    "        \n",
    "        self.assign_inability(agents, self.inability_target)\n",
    "        self.assign_dwelling(agents, self.energy_price)\n",
    "        self.assign_arrears(agents, self.arrears_target)\n",
    "        self.assign_mps(agents)\n",
    "\n",
    "        # Add agents to the model\n",
    "        for a in agents:\n",
    "            self.schedule.add(a)\n",
    "\n",
    "    @staticmethod\n",
    "    def assign_mps(agents):\n",
    "        \"\"\"\n",
    "        Assigns the MPS to the agents based on their income quintile.\n",
    "        \"\"\"\n",
    "        agents.sort(key=lambda x: x.disposable_income)\n",
    "\n",
    "        num_agents = len(agents)\n",
    "        for i in range(5):  # For each quintile\n",
    "            start = i * num_agents // 5\n",
    "            end = (i + 1) * num_agents // 5 if i < 4 else num_agents\n",
    "            quintile_agents = agents[start:end]\n",
    "            for agent in quintile_agents:\n",
    "                agent.mps = MPS_VALUES[i]\n",
    "\n",
    "    @property\n",
    "    def energy_price(self):\n",
    "        \"\"\"Calculate and return the current energy price.\"\"\"\n",
    "        return np.dot(self.prices, self.shares_p)\n",
    "\n",
    "    def step(self):\n",
    "        \"\"\"Advance the model by one step.\"\"\"\n",
    "        self.datacollector.collect(self)  # Collect data before updating the prices\n",
    "\n",
    "        # Update prices based on unique growth rates\n",
    "        growth_rates = np.random.uniform(self.growth_rate_lower_bound, self.growth_rate_upper_bound)\n",
    "\n",
    "        self.prices = self.prices * (1 + growth_rates)\n",
    "\n",
    "        if self.schedule.steps == SHOCK_STEP and self.price_shock == True:\n",
    "            self.prices[SHOCK_INDEX] *= (1 + SHOCK_MAGNITUDE)\n",
    "\n",
    "        # Execute the restoration program if it is enabled\n",
    "        if self.schedule.steps == RESTORATION_STEP and self.restoration_ACTIVE:\n",
    "            self.restoration_program()\n",
    "\n",
    "        if self.schedule.steps >= ALLOWENCE_FROM and self.allowence_ACTIVE:\n",
    "            self.allowence_program()\n",
    "\n",
    "        self.schedule.step()"
   ]
  },
  {
   "cell_type": "markdown",
   "metadata": {},
   "source": [
    "N, median_income, min_disposal, gini_target, inability_target, arrears_target, growth_boundaries, prices, shares_p, growth_rate_lower_bound, growth_rate_upper_bound, restoration_budget, restoration_ACTIVE = False"
   ]
  },
  {
   "cell_type": "code",
   "execution_count": 3,
   "metadata": {},
   "outputs": [],
   "source": [
    "\n",
    "model = Country(1000, 1700, 900, 0.30, 0.2, 0.07, [0,0.05], np.array([0.2, 0.06]), np.array([0.7, 0.3]), np.array([-0.01, -0.01]), np.array([0.02, 0.01]), allowence_ACTIVE = True, restoration_ACTIVE= True, price_shock= True)\n",
    " \n",
    "for i in range(15):\n",
    "    model.step()\n",
    "\n",
    "\n",
    "agent_data = model.datacollector.get_agent_vars_dataframe()\n",
    "model_data = model.datacollector.get_model_vars_dataframe()\n"
   ]
  },
  {
   "cell_type": "code",
   "execution_count": 4,
   "metadata": {},
   "outputs": [
    {
     "data": {
      "text/html": [
       "<div>\n",
       "<style scoped>\n",
       "    .dataframe tbody tr th:only-of-type {\n",
       "        vertical-align: middle;\n",
       "    }\n",
       "\n",
       "    .dataframe tbody tr th {\n",
       "        vertical-align: top;\n",
       "    }\n",
       "\n",
       "    .dataframe thead th {\n",
       "        text-align: right;\n",
       "    }\n",
       "</style>\n",
       "<table border=\"1\" class=\"dataframe\">\n",
       "  <thead>\n",
       "    <tr style=\"text-align: right;\">\n",
       "      <th></th>\n",
       "      <th></th>\n",
       "      <th>Dwelling</th>\n",
       "      <th>Income</th>\n",
       "      <th>Inability</th>\n",
       "      <th>Savings</th>\n",
       "      <th>X</th>\n",
       "      <th>Y</th>\n",
       "      <th>MPS</th>\n",
       "      <th>DAAI</th>\n",
       "      <th>Allowence</th>\n",
       "      <th>Restoration Aid Recieved</th>\n",
       "      <th>Arrears</th>\n",
       "      <th>EnergyCost</th>\n",
       "    </tr>\n",
       "    <tr>\n",
       "      <th>Step</th>\n",
       "      <th>AgentID</th>\n",
       "      <th></th>\n",
       "      <th></th>\n",
       "      <th></th>\n",
       "      <th></th>\n",
       "      <th></th>\n",
       "      <th></th>\n",
       "      <th></th>\n",
       "      <th></th>\n",
       "      <th></th>\n",
       "      <th></th>\n",
       "      <th></th>\n",
       "      <th></th>\n",
       "    </tr>\n",
       "  </thead>\n",
       "  <tbody>\n",
       "    <tr>\n",
       "      <th rowspan=\"5\" valign=\"top\">8</th>\n",
       "      <th>16</th>\n",
       "      <td>820.0</td>\n",
       "      <td>1032.886602</td>\n",
       "      <td>True</td>\n",
       "      <td>0.000000</td>\n",
       "      <td>0.682177</td>\n",
       "      <td>0.390436</td>\n",
       "      <td>0.10</td>\n",
       "      <td>0.000000</td>\n",
       "      <td>0</td>\n",
       "      <td>True</td>\n",
       "      <td>830.143816</td>\n",
       "      <td>195.478014</td>\n",
       "    </tr>\n",
       "    <tr>\n",
       "      <th>104</th>\n",
       "      <td>1000.0</td>\n",
       "      <td>1017.100923</td>\n",
       "      <td>True</td>\n",
       "      <td>483.104565</td>\n",
       "      <td>0.901101</td>\n",
       "      <td>0.543715</td>\n",
       "      <td>0.10</td>\n",
       "      <td>0.000000</td>\n",
       "      <td>0</td>\n",
       "      <td>True</td>\n",
       "      <td>0.000000</td>\n",
       "      <td>238.387822</td>\n",
       "    </tr>\n",
       "    <tr>\n",
       "      <th>115</th>\n",
       "      <td>1000.0</td>\n",
       "      <td>1034.233040</td>\n",
       "      <td>True</td>\n",
       "      <td>477.975186</td>\n",
       "      <td>0.997938</td>\n",
       "      <td>0.115201</td>\n",
       "      <td>0.10</td>\n",
       "      <td>0.000000</td>\n",
       "      <td>0</td>\n",
       "      <td>True</td>\n",
       "      <td>0.000000</td>\n",
       "      <td>238.387822</td>\n",
       "    </tr>\n",
       "    <tr>\n",
       "      <th>144</th>\n",
       "      <td>250.0</td>\n",
       "      <td>992.312717</td>\n",
       "      <td>False</td>\n",
       "      <td>0.000000</td>\n",
       "      <td>0.185849</td>\n",
       "      <td>0.858285</td>\n",
       "      <td>0.10</td>\n",
       "      <td>0.000000</td>\n",
       "      <td>0</td>\n",
       "      <td>True</td>\n",
       "      <td>640.202917</td>\n",
       "      <td>59.596955</td>\n",
       "    </tr>\n",
       "    <tr>\n",
       "      <th>207</th>\n",
       "      <td>833.0</td>\n",
       "      <td>1009.556913</td>\n",
       "      <td>True</td>\n",
       "      <td>0.000000</td>\n",
       "      <td>0.461229</td>\n",
       "      <td>0.357630</td>\n",
       "      <td>0.10</td>\n",
       "      <td>0.000000</td>\n",
       "      <td>0</td>\n",
       "      <td>True</td>\n",
       "      <td>829.910329</td>\n",
       "      <td>198.577055</td>\n",
       "    </tr>\n",
       "    <tr>\n",
       "      <th>...</th>\n",
       "      <th>...</th>\n",
       "      <td>...</td>\n",
       "      <td>...</td>\n",
       "      <td>...</td>\n",
       "      <td>...</td>\n",
       "      <td>...</td>\n",
       "      <td>...</td>\n",
       "      <td>...</td>\n",
       "      <td>...</td>\n",
       "      <td>...</td>\n",
       "      <td>...</td>\n",
       "      <td>...</td>\n",
       "      <td>...</td>\n",
       "    </tr>\n",
       "    <tr>\n",
       "      <th rowspan=\"5\" valign=\"top\">14</th>\n",
       "      <th>855</th>\n",
       "      <td>1000.0</td>\n",
       "      <td>1396.810158</td>\n",
       "      <td>True</td>\n",
       "      <td>1017.632026</td>\n",
       "      <td>0.574428</td>\n",
       "      <td>0.422281</td>\n",
       "      <td>0.10</td>\n",
       "      <td>1255.139635</td>\n",
       "      <td>250</td>\n",
       "      <td>True</td>\n",
       "      <td>0.000000</td>\n",
       "      <td>245.530926</td>\n",
       "    </tr>\n",
       "    <tr>\n",
       "      <th>879</th>\n",
       "      <td>966.0</td>\n",
       "      <td>1466.910629</td>\n",
       "      <td>True</td>\n",
       "      <td>1136.979206</td>\n",
       "      <td>0.698279</td>\n",
       "      <td>0.917347</td>\n",
       "      <td>0.13</td>\n",
       "      <td>1322.352538</td>\n",
       "      <td>250</td>\n",
       "      <td>True</td>\n",
       "      <td>0.000000</td>\n",
       "      <td>237.182874</td>\n",
       "    </tr>\n",
       "    <tr>\n",
       "      <th>899</th>\n",
       "      <td>250.0</td>\n",
       "      <td>1224.138746</td>\n",
       "      <td>False</td>\n",
       "      <td>1328.244880</td>\n",
       "      <td>0.964778</td>\n",
       "      <td>0.784749</td>\n",
       "      <td>0.10</td>\n",
       "      <td>1173.411783</td>\n",
       "      <td>0</td>\n",
       "      <td>True</td>\n",
       "      <td>0.000000</td>\n",
       "      <td>61.382731</td>\n",
       "    </tr>\n",
       "    <tr>\n",
       "      <th>921</th>\n",
       "      <td>250.0</td>\n",
       "      <td>1130.672941</td>\n",
       "      <td>False</td>\n",
       "      <td>1277.285492</td>\n",
       "      <td>0.822785</td>\n",
       "      <td>0.607798</td>\n",
       "      <td>0.10</td>\n",
       "      <td>1109.701629</td>\n",
       "      <td>0</td>\n",
       "      <td>True</td>\n",
       "      <td>0.000000</td>\n",
       "      <td>61.382731</td>\n",
       "    </tr>\n",
       "    <tr>\n",
       "      <th>959</th>\n",
       "      <td>250.0</td>\n",
       "      <td>1142.158218</td>\n",
       "      <td>False</td>\n",
       "      <td>1278.436892</td>\n",
       "      <td>0.552560</td>\n",
       "      <td>0.160493</td>\n",
       "      <td>0.10</td>\n",
       "      <td>1092.674743</td>\n",
       "      <td>0</td>\n",
       "      <td>True</td>\n",
       "      <td>0.000000</td>\n",
       "      <td>61.382731</td>\n",
       "    </tr>\n",
       "  </tbody>\n",
       "</table>\n",
       "<p>161 rows × 12 columns</p>\n",
       "</div>"
      ],
      "text/plain": [
       "              Dwelling       Income  Inability      Savings         X  \\\n",
       "Step AgentID                                                            \n",
       "8    16          820.0  1032.886602       True     0.000000  0.682177   \n",
       "     104        1000.0  1017.100923       True   483.104565  0.901101   \n",
       "     115        1000.0  1034.233040       True   477.975186  0.997938   \n",
       "     144         250.0   992.312717      False     0.000000  0.185849   \n",
       "     207         833.0  1009.556913       True     0.000000  0.461229   \n",
       "...                ...          ...        ...          ...       ...   \n",
       "14   855        1000.0  1396.810158       True  1017.632026  0.574428   \n",
       "     879         966.0  1466.910629       True  1136.979206  0.698279   \n",
       "     899         250.0  1224.138746      False  1328.244880  0.964778   \n",
       "     921         250.0  1130.672941      False  1277.285492  0.822785   \n",
       "     959         250.0  1142.158218      False  1278.436892  0.552560   \n",
       "\n",
       "                     Y   MPS         DAAI  Allowence  \\\n",
       "Step AgentID                                           \n",
       "8    16       0.390436  0.10     0.000000          0   \n",
       "     104      0.543715  0.10     0.000000          0   \n",
       "     115      0.115201  0.10     0.000000          0   \n",
       "     144      0.858285  0.10     0.000000          0   \n",
       "     207      0.357630  0.10     0.000000          0   \n",
       "...                ...   ...          ...        ...   \n",
       "14   855      0.422281  0.10  1255.139635        250   \n",
       "     879      0.917347  0.13  1322.352538        250   \n",
       "     899      0.784749  0.10  1173.411783          0   \n",
       "     921      0.607798  0.10  1109.701629          0   \n",
       "     959      0.160493  0.10  1092.674743          0   \n",
       "\n",
       "              Restoration Aid Recieved     Arrears  EnergyCost  \n",
       "Step AgentID                                                    \n",
       "8    16                           True  830.143816  195.478014  \n",
       "     104                          True    0.000000  238.387822  \n",
       "     115                          True    0.000000  238.387822  \n",
       "     144                          True  640.202917   59.596955  \n",
       "     207                          True  829.910329  198.577055  \n",
       "...                                ...         ...         ...  \n",
       "14   855                          True    0.000000  245.530926  \n",
       "     879                          True    0.000000  237.182874  \n",
       "     899                          True    0.000000   61.382731  \n",
       "     921                          True    0.000000   61.382731  \n",
       "     959                          True    0.000000   61.382731  \n",
       "\n",
       "[161 rows x 12 columns]"
      ]
     },
     "execution_count": 4,
     "metadata": {},
     "output_type": "execute_result"
    }
   ],
   "source": [
    "agent_data[agent_data['Restoration Aid Recieved'] == True]"
   ]
  },
  {
   "cell_type": "code",
   "execution_count": 5,
   "metadata": {},
   "outputs": [],
   "source": [
    "# agent_data[agent_data['Allowence'] > 0]"
   ]
  },
  {
   "cell_type": "code",
   "execution_count": 6,
   "metadata": {},
   "outputs": [],
   "source": [
    "# import matplotlib.pyplot as plt\n",
    "# from ipywidgets import interact\n",
    "\n",
    "\n",
    "# # reset index to make X, Y, Inability into columns\n",
    "# df = agent_data.reset_index()\n",
    "\n",
    "# def plot_step(step):\n",
    "#     df_step = df[df['Step'] == step]\n",
    "#     fig, ax = plt.subplots()\n",
    "#     colors = ['red' if inability else 'green' for inability in df_step['Inability']]\n",
    "#     ax.scatter(df_step['X'], df_step['Y'], color=colors)\n",
    "#     plt.show()\n",
    "\n",
    "# # create slider for steps\n",
    "# interact(plot_step, step=(0, df['Step'].max()))"
   ]
  },
  {
   "cell_type": "code",
   "execution_count": 7,
   "metadata": {},
   "outputs": [
    {
     "data": {
      "text/html": [
       "<div>\n",
       "<style scoped>\n",
       "    .dataframe tbody tr th:only-of-type {\n",
       "        vertical-align: middle;\n",
       "    }\n",
       "\n",
       "    .dataframe tbody tr th {\n",
       "        vertical-align: top;\n",
       "    }\n",
       "\n",
       "    .dataframe thead th {\n",
       "        text-align: right;\n",
       "    }\n",
       "</style>\n",
       "<table border=\"1\" class=\"dataframe\">\n",
       "  <thead>\n",
       "    <tr style=\"text-align: right;\">\n",
       "      <th></th>\n",
       "      <th>Dwelling</th>\n",
       "      <th>Income</th>\n",
       "      <th>Inability</th>\n",
       "      <th>Savings</th>\n",
       "      <th>X</th>\n",
       "      <th>Y</th>\n",
       "      <th>MPS</th>\n",
       "      <th>DAAI</th>\n",
       "      <th>Allowence</th>\n",
       "      <th>Restoration Aid Recieved</th>\n",
       "      <th>Arrears</th>\n",
       "      <th>EnergyCost</th>\n",
       "    </tr>\n",
       "    <tr>\n",
       "      <th>Step</th>\n",
       "      <th></th>\n",
       "      <th></th>\n",
       "      <th></th>\n",
       "      <th></th>\n",
       "      <th></th>\n",
       "      <th></th>\n",
       "      <th></th>\n",
       "      <th></th>\n",
       "      <th></th>\n",
       "      <th></th>\n",
       "      <th></th>\n",
       "      <th></th>\n",
       "    </tr>\n",
       "  </thead>\n",
       "  <tbody>\n",
       "    <tr>\n",
       "      <th>0</th>\n",
       "      <td>1871.0</td>\n",
       "      <td>1295.242754</td>\n",
       "      <td>True</td>\n",
       "      <td>0.000000</td>\n",
       "      <td>0.014335</td>\n",
       "      <td>0.271409</td>\n",
       "      <td>0.17</td>\n",
       "      <td>0.000000</td>\n",
       "      <td>0</td>\n",
       "      <td>False</td>\n",
       "      <td>0.0</td>\n",
       "      <td>295.618000</td>\n",
       "    </tr>\n",
       "    <tr>\n",
       "      <th>1</th>\n",
       "      <td>1871.0</td>\n",
       "      <td>1355.375208</td>\n",
       "      <td>True</td>\n",
       "      <td>169.754692</td>\n",
       "      <td>0.014335</td>\n",
       "      <td>0.271409</td>\n",
       "      <td>0.17</td>\n",
       "      <td>0.000000</td>\n",
       "      <td>0</td>\n",
       "      <td>False</td>\n",
       "      <td>0.0</td>\n",
       "      <td>296.685744</td>\n",
       "    </tr>\n",
       "    <tr>\n",
       "      <th>2</th>\n",
       "      <td>1871.0</td>\n",
       "      <td>1375.533046</td>\n",
       "      <td>True</td>\n",
       "      <td>349.634133</td>\n",
       "      <td>0.014335</td>\n",
       "      <td>0.271409</td>\n",
       "      <td>0.17</td>\n",
       "      <td>0.000000</td>\n",
       "      <td>0</td>\n",
       "      <td>False</td>\n",
       "      <td>0.0</td>\n",
       "      <td>297.260846</td>\n",
       "    </tr>\n",
       "    <tr>\n",
       "      <th>3</th>\n",
       "      <td>1871.0</td>\n",
       "      <td>1441.335055</td>\n",
       "      <td>True</td>\n",
       "      <td>533.289870</td>\n",
       "      <td>0.014335</td>\n",
       "      <td>0.271409</td>\n",
       "      <td>0.17</td>\n",
       "      <td>0.000000</td>\n",
       "      <td>0</td>\n",
       "      <td>False</td>\n",
       "      <td>0.0</td>\n",
       "      <td>295.205183</td>\n",
       "    </tr>\n",
       "    <tr>\n",
       "      <th>4</th>\n",
       "      <td>1871.0</td>\n",
       "      <td>1510.137337</td>\n",
       "      <td>True</td>\n",
       "      <td>727.334173</td>\n",
       "      <td>0.014335</td>\n",
       "      <td>0.271409</td>\n",
       "      <td>0.17</td>\n",
       "      <td>0.000000</td>\n",
       "      <td>0</td>\n",
       "      <td>False</td>\n",
       "      <td>0.0</td>\n",
       "      <td>299.897976</td>\n",
       "    </tr>\n",
       "    <tr>\n",
       "      <th>5</th>\n",
       "      <td>1871.0</td>\n",
       "      <td>1515.758660</td>\n",
       "      <td>True</td>\n",
       "      <td>933.207082</td>\n",
       "      <td>0.014335</td>\n",
       "      <td>0.271409</td>\n",
       "      <td>0.17</td>\n",
       "      <td>0.000000</td>\n",
       "      <td>0</td>\n",
       "      <td>False</td>\n",
       "      <td>0.0</td>\n",
       "      <td>299.120225</td>\n",
       "    </tr>\n",
       "    <tr>\n",
       "      <th>6</th>\n",
       "      <td>1871.0</td>\n",
       "      <td>1587.901307</td>\n",
       "      <td>True</td>\n",
       "      <td>1117.323494</td>\n",
       "      <td>0.014335</td>\n",
       "      <td>0.271409</td>\n",
       "      <td>0.17</td>\n",
       "      <td>0.000000</td>\n",
       "      <td>0</td>\n",
       "      <td>False</td>\n",
       "      <td>0.0</td>\n",
       "      <td>432.720946</td>\n",
       "    </tr>\n",
       "    <tr>\n",
       "      <th>7</th>\n",
       "      <td>1871.0</td>\n",
       "      <td>1627.161958</td>\n",
       "      <td>True</td>\n",
       "      <td>1312.397981</td>\n",
       "      <td>0.014335</td>\n",
       "      <td>0.271409</td>\n",
       "      <td>0.17</td>\n",
       "      <td>0.000000</td>\n",
       "      <td>0</td>\n",
       "      <td>False</td>\n",
       "      <td>0.0</td>\n",
       "      <td>440.404322</td>\n",
       "    </tr>\n",
       "    <tr>\n",
       "      <th>8</th>\n",
       "      <td>1871.0</td>\n",
       "      <td>1656.983038</td>\n",
       "      <td>True</td>\n",
       "      <td>1513.191499</td>\n",
       "      <td>0.014335</td>\n",
       "      <td>0.271409</td>\n",
       "      <td>0.17</td>\n",
       "      <td>0.000000</td>\n",
       "      <td>0</td>\n",
       "      <td>False</td>\n",
       "      <td>0.0</td>\n",
       "      <td>446.023614</td>\n",
       "    </tr>\n",
       "    <tr>\n",
       "      <th>9</th>\n",
       "      <td>1871.0</td>\n",
       "      <td>1710.175795</td>\n",
       "      <td>True</td>\n",
       "      <td>1719.435845</td>\n",
       "      <td>0.014335</td>\n",
       "      <td>0.271409</td>\n",
       "      <td>0.17</td>\n",
       "      <td>0.000000</td>\n",
       "      <td>0</td>\n",
       "      <td>False</td>\n",
       "      <td>0.0</td>\n",
       "      <td>443.781007</td>\n",
       "    </tr>\n",
       "    <tr>\n",
       "      <th>10</th>\n",
       "      <td>1871.0</td>\n",
       "      <td>1734.659535</td>\n",
       "      <td>True</td>\n",
       "      <td>1935.136677</td>\n",
       "      <td>0.014335</td>\n",
       "      <td>0.271409</td>\n",
       "      <td>0.17</td>\n",
       "      <td>1710.175795</td>\n",
       "      <td>0</td>\n",
       "      <td>False</td>\n",
       "      <td>0.0</td>\n",
       "      <td>441.347370</td>\n",
       "    </tr>\n",
       "    <tr>\n",
       "      <th>11</th>\n",
       "      <td>1871.0</td>\n",
       "      <td>1800.144068</td>\n",
       "      <td>True</td>\n",
       "      <td>2153.613448</td>\n",
       "      <td>0.014335</td>\n",
       "      <td>0.271409</td>\n",
       "      <td>0.17</td>\n",
       "      <td>1734.659535</td>\n",
       "      <td>0</td>\n",
       "      <td>False</td>\n",
       "      <td>0.0</td>\n",
       "      <td>449.502056</td>\n",
       "    </tr>\n",
       "    <tr>\n",
       "      <th>12</th>\n",
       "      <td>1871.0</td>\n",
       "      <td>1843.090634</td>\n",
       "      <td>True</td>\n",
       "      <td>2383.168626</td>\n",
       "      <td>0.014335</td>\n",
       "      <td>0.271409</td>\n",
       "      <td>0.17</td>\n",
       "      <td>1800.144068</td>\n",
       "      <td>0</td>\n",
       "      <td>False</td>\n",
       "      <td>0.0</td>\n",
       "      <td>449.819492</td>\n",
       "    </tr>\n",
       "    <tr>\n",
       "      <th>13</th>\n",
       "      <td>1871.0</td>\n",
       "      <td>1916.859376</td>\n",
       "      <td>True</td>\n",
       "      <td>2619.190151</td>\n",
       "      <td>0.014335</td>\n",
       "      <td>0.271409</td>\n",
       "      <td>0.17</td>\n",
       "      <td>1843.090634</td>\n",
       "      <td>0</td>\n",
       "      <td>False</td>\n",
       "      <td>0.0</td>\n",
       "      <td>454.728727</td>\n",
       "    </tr>\n",
       "    <tr>\n",
       "      <th>14</th>\n",
       "      <td>1871.0</td>\n",
       "      <td>1984.508651</td>\n",
       "      <td>True</td>\n",
       "      <td>2866.960223</td>\n",
       "      <td>0.014335</td>\n",
       "      <td>0.271409</td>\n",
       "      <td>0.17</td>\n",
       "      <td>1916.859376</td>\n",
       "      <td>0</td>\n",
       "      <td>False</td>\n",
       "      <td>0.0</td>\n",
       "      <td>459.388362</td>\n",
       "    </tr>\n",
       "  </tbody>\n",
       "</table>\n",
       "</div>"
      ],
      "text/plain": [
       "      Dwelling       Income  Inability      Savings         X         Y   MPS  \\\n",
       "Step                                                                            \n",
       "0       1871.0  1295.242754       True     0.000000  0.014335  0.271409  0.17   \n",
       "1       1871.0  1355.375208       True   169.754692  0.014335  0.271409  0.17   \n",
       "2       1871.0  1375.533046       True   349.634133  0.014335  0.271409  0.17   \n",
       "3       1871.0  1441.335055       True   533.289870  0.014335  0.271409  0.17   \n",
       "4       1871.0  1510.137337       True   727.334173  0.014335  0.271409  0.17   \n",
       "5       1871.0  1515.758660       True   933.207082  0.014335  0.271409  0.17   \n",
       "6       1871.0  1587.901307       True  1117.323494  0.014335  0.271409  0.17   \n",
       "7       1871.0  1627.161958       True  1312.397981  0.014335  0.271409  0.17   \n",
       "8       1871.0  1656.983038       True  1513.191499  0.014335  0.271409  0.17   \n",
       "9       1871.0  1710.175795       True  1719.435845  0.014335  0.271409  0.17   \n",
       "10      1871.0  1734.659535       True  1935.136677  0.014335  0.271409  0.17   \n",
       "11      1871.0  1800.144068       True  2153.613448  0.014335  0.271409  0.17   \n",
       "12      1871.0  1843.090634       True  2383.168626  0.014335  0.271409  0.17   \n",
       "13      1871.0  1916.859376       True  2619.190151  0.014335  0.271409  0.17   \n",
       "14      1871.0  1984.508651       True  2866.960223  0.014335  0.271409  0.17   \n",
       "\n",
       "             DAAI  Allowence  Restoration Aid Recieved  Arrears  EnergyCost  \n",
       "Step                                                                         \n",
       "0        0.000000          0                     False      0.0  295.618000  \n",
       "1        0.000000          0                     False      0.0  296.685744  \n",
       "2        0.000000          0                     False      0.0  297.260846  \n",
       "3        0.000000          0                     False      0.0  295.205183  \n",
       "4        0.000000          0                     False      0.0  299.897976  \n",
       "5        0.000000          0                     False      0.0  299.120225  \n",
       "6        0.000000          0                     False      0.0  432.720946  \n",
       "7        0.000000          0                     False      0.0  440.404322  \n",
       "8        0.000000          0                     False      0.0  446.023614  \n",
       "9        0.000000          0                     False      0.0  443.781007  \n",
       "10    1710.175795          0                     False      0.0  441.347370  \n",
       "11    1734.659535          0                     False      0.0  449.502056  \n",
       "12    1800.144068          0                     False      0.0  449.819492  \n",
       "13    1843.090634          0                     False      0.0  454.728727  \n",
       "14    1916.859376          0                     False      0.0  459.388362  "
      ]
     },
     "execution_count": 7,
     "metadata": {},
     "output_type": "execute_result"
    }
   ],
   "source": [
    "agent_id_8_data = agent_data.xs(915, level=\"AgentID\")\n",
    "agent_id_8_data"
   ]
  },
  {
   "cell_type": "code",
   "execution_count": 8,
   "metadata": {},
   "outputs": [
    {
     "data": {
      "application/vnd.plotly.v1+json": {
       "config": {
        "plotlyServerURL": "https://plot.ly"
       },
       "data": [
        {
         "line": {
          "color": "#636EFA"
         },
         "mode": "lines",
         "name": "Inability",
         "type": "scatter",
         "x": [
          0,
          1,
          2,
          3,
          4,
          5,
          6,
          7,
          8,
          9,
          10,
          11,
          12,
          13,
          14
         ],
         "xaxis": "x",
         "y": [
          0.2,
          0.2,
          0.2,
          0.2,
          0.2,
          0.2,
          0.471,
          0.46,
          0.436,
          0.396,
          0.308,
          0.228,
          0.2,
          0.2,
          0.2
         ],
         "yaxis": "y"
        },
        {
         "line": {
          "color": "#EF553B"
         },
         "mode": "lines",
         "name": "Arrears",
         "type": "scatter",
         "x": [
          0,
          1,
          2,
          3,
          4,
          5,
          6,
          7,
          8,
          9,
          10,
          11,
          12,
          13,
          14
         ],
         "xaxis": "x2",
         "y": [
          97.84733990144693,
          91.35812116893014,
          84.89801353223423,
          78.23478262574804,
          71.34466585324199,
          64.20225952313075,
          57.32505347221146,
          50.30701523550757,
          42.98742252520447,
          35.58553294887959,
          27.770621523611776,
          19.739875347428633,
          13.045610515307073,
          7.1398166622728265,
          3.0876067182849485
         ],
         "yaxis": "y2"
        },
        {
         "line": {
          "color": "#00CC96"
         },
         "mode": "lines",
         "name": "Allowences",
         "type": "scatter",
         "x": [
          0,
          1,
          2,
          3,
          4,
          5,
          6,
          7,
          8,
          9,
          10,
          11,
          12,
          13,
          14
         ],
         "xaxis": "x3",
         "y": [
          0,
          0,
          0,
          0,
          0,
          0,
          0,
          0,
          0,
          0,
          16.1,
          27.9,
          35.6,
          41.7,
          47.65
         ],
         "yaxis": "y3"
        },
        {
         "line": {
          "color": "#AB63FA"
         },
         "mode": "lines",
         "name": "Energy Price",
         "type": "scatter",
         "x": [
          0,
          1,
          2,
          3,
          4,
          5,
          6,
          7,
          8,
          9,
          10,
          11,
          12,
          13,
          14
         ],
         "xaxis": "x4",
         "y": [
          0.15799999999999997,
          0.15857068113577935,
          0.15887805754811068,
          0.1577793602446924,
          0.1602875337379856,
          0.1598718466736725,
          0.23127789761656692,
          0.23538445883631054,
          0.23838782164610198,
          0.2371892074850421,
          0.23588849288405328,
          0.2402469565700475,
          0.2404166176142255,
          0.2430404738914977,
          0.2455309256175756
         ],
         "yaxis": "y4"
        },
        {
         "line": {
          "color": "#FFA15A"
         },
         "mode": "lines",
         "name": "Price Yellow Fuel",
         "type": "scatter",
         "x": [
          0,
          1,
          2,
          3,
          4,
          5,
          6,
          7,
          8,
          9,
          10,
          11,
          12,
          13,
          14
         ],
         "xaxis": "x5",
         "y": [
          0.2,
          0.2008546680046247,
          0.20113782725468787,
          0.19937588314769888,
          0.20313108607475985,
          0.20240695445987145,
          0.3045304049610197,
          0.31053031895117567,
          0.3148824851266224,
          0.3130401279655207,
          0.31101589996138496,
          0.31714240466620025,
          0.3173298337208434,
          0.3210598668361302,
          0.3247625454649402
         ],
         "yaxis": "y5"
        },
        {
         "line": {
          "color": "#19D3F3"
         },
         "mode": "lines",
         "name": "Price Brown Fuel",
         "type": "scatter",
         "x": [
          0,
          1,
          2,
          3,
          4,
          5,
          6,
          7,
          8,
          9,
          10,
          11,
          12,
          13,
          14
         ],
         "xaxis": "x6",
         "y": [
          0.06,
          0.0599080451084735,
          0.06027192823276401,
          0.06072080680434401,
          0.06031924495217908,
          0.06062326183920832,
          0.0603553804795105,
          0.060044118568291976,
          0.05990027352488771,
          0.06020372636392535,
          0.06059120970361271,
          0.06082424434569116,
          0.06095244669878384,
          0.06099522368735521,
          0.06065714597372498
         ],
         "yaxis": "y6"
        },
        {
         "line": {
          "color": "#FF6692"
         },
         "mode": "lines",
         "name": "Average Dwelling Over Time",
         "type": "scatter",
         "x": [
          0,
          1,
          2,
          3,
          4,
          5,
          6,
          7,
          8,
          9,
          10,
          11,
          12,
          13,
          14
         ],
         "xaxis": "x7",
         "y": [
          916.935,
          916.935,
          916.935,
          916.935,
          916.935,
          916.935,
          916.935,
          916.935,
          904.9395,
          904.9395,
          904.9395,
          904.9395,
          904.9395,
          904.9395,
          904.9395
         ],
         "yaxis": "y7"
        },
        {
         "line": {
          "color": "#B6E880"
         },
         "mode": "lines",
         "name": "Restorations",
         "type": "scatter",
         "x": [
          0,
          1,
          2,
          3,
          4,
          5,
          6,
          7,
          8,
          9,
          10,
          11,
          12,
          13,
          14
         ],
         "xaxis": "x8",
         "y": [
          0,
          0,
          0,
          0,
          0,
          0,
          0,
          0,
          23,
          23,
          23,
          23,
          23,
          23,
          23
         ],
         "yaxis": "y8"
        }
       ],
       "layout": {
        "annotations": [
         {
          "font": {
           "size": 16
          },
          "showarrow": false,
          "text": "Inability",
          "x": 0.225,
          "xanchor": "center",
          "xref": "paper",
          "y": 1,
          "yanchor": "bottom",
          "yref": "paper"
         },
         {
          "font": {
           "size": 16
          },
          "showarrow": false,
          "text": "Arrears",
          "x": 0.775,
          "xanchor": "center",
          "xref": "paper",
          "y": 1,
          "yanchor": "bottom",
          "yref": "paper"
         },
         {
          "font": {
           "size": 16
          },
          "showarrow": false,
          "text": "Allowences",
          "x": 0.225,
          "xanchor": "center",
          "xref": "paper",
          "y": 0.71875,
          "yanchor": "bottom",
          "yref": "paper"
         },
         {
          "font": {
           "size": 16
          },
          "showarrow": false,
          "text": "Energy Price",
          "x": 0.775,
          "xanchor": "center",
          "xref": "paper",
          "y": 0.71875,
          "yanchor": "bottom",
          "yref": "paper"
         },
         {
          "font": {
           "size": 16
          },
          "showarrow": false,
          "text": "Price Yellow Fuel",
          "x": 0.225,
          "xanchor": "center",
          "xref": "paper",
          "y": 0.4375,
          "yanchor": "bottom",
          "yref": "paper"
         },
         {
          "font": {
           "size": 16
          },
          "showarrow": false,
          "text": "Price Brown Fuel",
          "x": 0.775,
          "xanchor": "center",
          "xref": "paper",
          "y": 0.4375,
          "yanchor": "bottom",
          "yref": "paper"
         },
         {
          "font": {
           "size": 16
          },
          "showarrow": false,
          "text": "Average Dwelling Over Time",
          "x": 0.225,
          "xanchor": "center",
          "xref": "paper",
          "y": 0.15625,
          "yanchor": "bottom",
          "yref": "paper"
         },
         {
          "font": {
           "size": 16
          },
          "showarrow": false,
          "text": "Restorations",
          "x": 0.775,
          "xanchor": "center",
          "xref": "paper",
          "y": 0.15625,
          "yanchor": "bottom",
          "yref": "paper"
         }
        ],
        "height": 1600,
        "showlegend": false,
        "template": {
         "data": {
          "bar": [
           {
            "error_x": {
             "color": "#2a3f5f"
            },
            "error_y": {
             "color": "#2a3f5f"
            },
            "marker": {
             "line": {
              "color": "#E5ECF6",
              "width": 0.5
             },
             "pattern": {
              "fillmode": "overlay",
              "size": 10,
              "solidity": 0.2
             }
            },
            "type": "bar"
           }
          ],
          "barpolar": [
           {
            "marker": {
             "line": {
              "color": "#E5ECF6",
              "width": 0.5
             },
             "pattern": {
              "fillmode": "overlay",
              "size": 10,
              "solidity": 0.2
             }
            },
            "type": "barpolar"
           }
          ],
          "carpet": [
           {
            "aaxis": {
             "endlinecolor": "#2a3f5f",
             "gridcolor": "white",
             "linecolor": "white",
             "minorgridcolor": "white",
             "startlinecolor": "#2a3f5f"
            },
            "baxis": {
             "endlinecolor": "#2a3f5f",
             "gridcolor": "white",
             "linecolor": "white",
             "minorgridcolor": "white",
             "startlinecolor": "#2a3f5f"
            },
            "type": "carpet"
           }
          ],
          "choropleth": [
           {
            "colorbar": {
             "outlinewidth": 0,
             "ticks": ""
            },
            "type": "choropleth"
           }
          ],
          "contour": [
           {
            "colorbar": {
             "outlinewidth": 0,
             "ticks": ""
            },
            "colorscale": [
             [
              0,
              "#0d0887"
             ],
             [
              0.1111111111111111,
              "#46039f"
             ],
             [
              0.2222222222222222,
              "#7201a8"
             ],
             [
              0.3333333333333333,
              "#9c179e"
             ],
             [
              0.4444444444444444,
              "#bd3786"
             ],
             [
              0.5555555555555556,
              "#d8576b"
             ],
             [
              0.6666666666666666,
              "#ed7953"
             ],
             [
              0.7777777777777778,
              "#fb9f3a"
             ],
             [
              0.8888888888888888,
              "#fdca26"
             ],
             [
              1,
              "#f0f921"
             ]
            ],
            "type": "contour"
           }
          ],
          "contourcarpet": [
           {
            "colorbar": {
             "outlinewidth": 0,
             "ticks": ""
            },
            "type": "contourcarpet"
           }
          ],
          "heatmap": [
           {
            "colorbar": {
             "outlinewidth": 0,
             "ticks": ""
            },
            "colorscale": [
             [
              0,
              "#0d0887"
             ],
             [
              0.1111111111111111,
              "#46039f"
             ],
             [
              0.2222222222222222,
              "#7201a8"
             ],
             [
              0.3333333333333333,
              "#9c179e"
             ],
             [
              0.4444444444444444,
              "#bd3786"
             ],
             [
              0.5555555555555556,
              "#d8576b"
             ],
             [
              0.6666666666666666,
              "#ed7953"
             ],
             [
              0.7777777777777778,
              "#fb9f3a"
             ],
             [
              0.8888888888888888,
              "#fdca26"
             ],
             [
              1,
              "#f0f921"
             ]
            ],
            "type": "heatmap"
           }
          ],
          "heatmapgl": [
           {
            "colorbar": {
             "outlinewidth": 0,
             "ticks": ""
            },
            "colorscale": [
             [
              0,
              "#0d0887"
             ],
             [
              0.1111111111111111,
              "#46039f"
             ],
             [
              0.2222222222222222,
              "#7201a8"
             ],
             [
              0.3333333333333333,
              "#9c179e"
             ],
             [
              0.4444444444444444,
              "#bd3786"
             ],
             [
              0.5555555555555556,
              "#d8576b"
             ],
             [
              0.6666666666666666,
              "#ed7953"
             ],
             [
              0.7777777777777778,
              "#fb9f3a"
             ],
             [
              0.8888888888888888,
              "#fdca26"
             ],
             [
              1,
              "#f0f921"
             ]
            ],
            "type": "heatmapgl"
           }
          ],
          "histogram": [
           {
            "marker": {
             "pattern": {
              "fillmode": "overlay",
              "size": 10,
              "solidity": 0.2
             }
            },
            "type": "histogram"
           }
          ],
          "histogram2d": [
           {
            "colorbar": {
             "outlinewidth": 0,
             "ticks": ""
            },
            "colorscale": [
             [
              0,
              "#0d0887"
             ],
             [
              0.1111111111111111,
              "#46039f"
             ],
             [
              0.2222222222222222,
              "#7201a8"
             ],
             [
              0.3333333333333333,
              "#9c179e"
             ],
             [
              0.4444444444444444,
              "#bd3786"
             ],
             [
              0.5555555555555556,
              "#d8576b"
             ],
             [
              0.6666666666666666,
              "#ed7953"
             ],
             [
              0.7777777777777778,
              "#fb9f3a"
             ],
             [
              0.8888888888888888,
              "#fdca26"
             ],
             [
              1,
              "#f0f921"
             ]
            ],
            "type": "histogram2d"
           }
          ],
          "histogram2dcontour": [
           {
            "colorbar": {
             "outlinewidth": 0,
             "ticks": ""
            },
            "colorscale": [
             [
              0,
              "#0d0887"
             ],
             [
              0.1111111111111111,
              "#46039f"
             ],
             [
              0.2222222222222222,
              "#7201a8"
             ],
             [
              0.3333333333333333,
              "#9c179e"
             ],
             [
              0.4444444444444444,
              "#bd3786"
             ],
             [
              0.5555555555555556,
              "#d8576b"
             ],
             [
              0.6666666666666666,
              "#ed7953"
             ],
             [
              0.7777777777777778,
              "#fb9f3a"
             ],
             [
              0.8888888888888888,
              "#fdca26"
             ],
             [
              1,
              "#f0f921"
             ]
            ],
            "type": "histogram2dcontour"
           }
          ],
          "mesh3d": [
           {
            "colorbar": {
             "outlinewidth": 0,
             "ticks": ""
            },
            "type": "mesh3d"
           }
          ],
          "parcoords": [
           {
            "line": {
             "colorbar": {
              "outlinewidth": 0,
              "ticks": ""
             }
            },
            "type": "parcoords"
           }
          ],
          "pie": [
           {
            "automargin": true,
            "type": "pie"
           }
          ],
          "scatter": [
           {
            "fillpattern": {
             "fillmode": "overlay",
             "size": 10,
             "solidity": 0.2
            },
            "type": "scatter"
           }
          ],
          "scatter3d": [
           {
            "line": {
             "colorbar": {
              "outlinewidth": 0,
              "ticks": ""
             }
            },
            "marker": {
             "colorbar": {
              "outlinewidth": 0,
              "ticks": ""
             }
            },
            "type": "scatter3d"
           }
          ],
          "scattercarpet": [
           {
            "marker": {
             "colorbar": {
              "outlinewidth": 0,
              "ticks": ""
             }
            },
            "type": "scattercarpet"
           }
          ],
          "scattergeo": [
           {
            "marker": {
             "colorbar": {
              "outlinewidth": 0,
              "ticks": ""
             }
            },
            "type": "scattergeo"
           }
          ],
          "scattergl": [
           {
            "marker": {
             "colorbar": {
              "outlinewidth": 0,
              "ticks": ""
             }
            },
            "type": "scattergl"
           }
          ],
          "scattermapbox": [
           {
            "marker": {
             "colorbar": {
              "outlinewidth": 0,
              "ticks": ""
             }
            },
            "type": "scattermapbox"
           }
          ],
          "scatterpolar": [
           {
            "marker": {
             "colorbar": {
              "outlinewidth": 0,
              "ticks": ""
             }
            },
            "type": "scatterpolar"
           }
          ],
          "scatterpolargl": [
           {
            "marker": {
             "colorbar": {
              "outlinewidth": 0,
              "ticks": ""
             }
            },
            "type": "scatterpolargl"
           }
          ],
          "scatterternary": [
           {
            "marker": {
             "colorbar": {
              "outlinewidth": 0,
              "ticks": ""
             }
            },
            "type": "scatterternary"
           }
          ],
          "surface": [
           {
            "colorbar": {
             "outlinewidth": 0,
             "ticks": ""
            },
            "colorscale": [
             [
              0,
              "#0d0887"
             ],
             [
              0.1111111111111111,
              "#46039f"
             ],
             [
              0.2222222222222222,
              "#7201a8"
             ],
             [
              0.3333333333333333,
              "#9c179e"
             ],
             [
              0.4444444444444444,
              "#bd3786"
             ],
             [
              0.5555555555555556,
              "#d8576b"
             ],
             [
              0.6666666666666666,
              "#ed7953"
             ],
             [
              0.7777777777777778,
              "#fb9f3a"
             ],
             [
              0.8888888888888888,
              "#fdca26"
             ],
             [
              1,
              "#f0f921"
             ]
            ],
            "type": "surface"
           }
          ],
          "table": [
           {
            "cells": {
             "fill": {
              "color": "#EBF0F8"
             },
             "line": {
              "color": "white"
             }
            },
            "header": {
             "fill": {
              "color": "#C8D4E3"
             },
             "line": {
              "color": "white"
             }
            },
            "type": "table"
           }
          ]
         },
         "layout": {
          "annotationdefaults": {
           "arrowcolor": "#2a3f5f",
           "arrowhead": 0,
           "arrowwidth": 1
          },
          "autotypenumbers": "strict",
          "coloraxis": {
           "colorbar": {
            "outlinewidth": 0,
            "ticks": ""
           }
          },
          "colorscale": {
           "diverging": [
            [
             0,
             "#8e0152"
            ],
            [
             0.1,
             "#c51b7d"
            ],
            [
             0.2,
             "#de77ae"
            ],
            [
             0.3,
             "#f1b6da"
            ],
            [
             0.4,
             "#fde0ef"
            ],
            [
             0.5,
             "#f7f7f7"
            ],
            [
             0.6,
             "#e6f5d0"
            ],
            [
             0.7,
             "#b8e186"
            ],
            [
             0.8,
             "#7fbc41"
            ],
            [
             0.9,
             "#4d9221"
            ],
            [
             1,
             "#276419"
            ]
           ],
           "sequential": [
            [
             0,
             "#0d0887"
            ],
            [
             0.1111111111111111,
             "#46039f"
            ],
            [
             0.2222222222222222,
             "#7201a8"
            ],
            [
             0.3333333333333333,
             "#9c179e"
            ],
            [
             0.4444444444444444,
             "#bd3786"
            ],
            [
             0.5555555555555556,
             "#d8576b"
            ],
            [
             0.6666666666666666,
             "#ed7953"
            ],
            [
             0.7777777777777778,
             "#fb9f3a"
            ],
            [
             0.8888888888888888,
             "#fdca26"
            ],
            [
             1,
             "#f0f921"
            ]
           ],
           "sequentialminus": [
            [
             0,
             "#0d0887"
            ],
            [
             0.1111111111111111,
             "#46039f"
            ],
            [
             0.2222222222222222,
             "#7201a8"
            ],
            [
             0.3333333333333333,
             "#9c179e"
            ],
            [
             0.4444444444444444,
             "#bd3786"
            ],
            [
             0.5555555555555556,
             "#d8576b"
            ],
            [
             0.6666666666666666,
             "#ed7953"
            ],
            [
             0.7777777777777778,
             "#fb9f3a"
            ],
            [
             0.8888888888888888,
             "#fdca26"
            ],
            [
             1,
             "#f0f921"
            ]
           ]
          },
          "colorway": [
           "#636efa",
           "#EF553B",
           "#00cc96",
           "#ab63fa",
           "#FFA15A",
           "#19d3f3",
           "#FF6692",
           "#B6E880",
           "#FF97FF",
           "#FECB52"
          ],
          "font": {
           "color": "#2a3f5f"
          },
          "geo": {
           "bgcolor": "white",
           "lakecolor": "white",
           "landcolor": "#E5ECF6",
           "showlakes": true,
           "showland": true,
           "subunitcolor": "white"
          },
          "hoverlabel": {
           "align": "left"
          },
          "hovermode": "closest",
          "mapbox": {
           "style": "light"
          },
          "paper_bgcolor": "white",
          "plot_bgcolor": "#E5ECF6",
          "polar": {
           "angularaxis": {
            "gridcolor": "white",
            "linecolor": "white",
            "ticks": ""
           },
           "bgcolor": "#E5ECF6",
           "radialaxis": {
            "gridcolor": "white",
            "linecolor": "white",
            "ticks": ""
           }
          },
          "scene": {
           "xaxis": {
            "backgroundcolor": "#E5ECF6",
            "gridcolor": "white",
            "gridwidth": 2,
            "linecolor": "white",
            "showbackground": true,
            "ticks": "",
            "zerolinecolor": "white"
           },
           "yaxis": {
            "backgroundcolor": "#E5ECF6",
            "gridcolor": "white",
            "gridwidth": 2,
            "linecolor": "white",
            "showbackground": true,
            "ticks": "",
            "zerolinecolor": "white"
           },
           "zaxis": {
            "backgroundcolor": "#E5ECF6",
            "gridcolor": "white",
            "gridwidth": 2,
            "linecolor": "white",
            "showbackground": true,
            "ticks": "",
            "zerolinecolor": "white"
           }
          },
          "shapedefaults": {
           "line": {
            "color": "#2a3f5f"
           }
          },
          "ternary": {
           "aaxis": {
            "gridcolor": "white",
            "linecolor": "white",
            "ticks": ""
           },
           "baxis": {
            "gridcolor": "white",
            "linecolor": "white",
            "ticks": ""
           },
           "bgcolor": "#E5ECF6",
           "caxis": {
            "gridcolor": "white",
            "linecolor": "white",
            "ticks": ""
           }
          },
          "title": {
           "x": 0.05
          },
          "xaxis": {
           "automargin": true,
           "gridcolor": "white",
           "linecolor": "white",
           "ticks": "",
           "title": {
            "standoff": 15
           },
           "zerolinecolor": "white",
           "zerolinewidth": 2
          },
          "yaxis": {
           "automargin": true,
           "gridcolor": "white",
           "linecolor": "white",
           "ticks": "",
           "title": {
            "standoff": 15
           },
           "zerolinecolor": "white",
           "zerolinewidth": 2
          }
         }
        },
        "title": {
         "text": ""
        },
        "width": 1600,
        "xaxis": {
         "anchor": "y",
         "domain": [
          0,
          0.45
         ]
        },
        "xaxis2": {
         "anchor": "y2",
         "domain": [
          0.55,
          1
         ]
        },
        "xaxis3": {
         "anchor": "y3",
         "domain": [
          0,
          0.45
         ]
        },
        "xaxis4": {
         "anchor": "y4",
         "domain": [
          0.55,
          1
         ]
        },
        "xaxis5": {
         "anchor": "y5",
         "domain": [
          0,
          0.45
         ]
        },
        "xaxis6": {
         "anchor": "y6",
         "domain": [
          0.55,
          1
         ]
        },
        "xaxis7": {
         "anchor": "y7",
         "domain": [
          0,
          0.45
         ]
        },
        "xaxis8": {
         "anchor": "y8",
         "domain": [
          0.55,
          1
         ]
        },
        "yaxis": {
         "anchor": "x",
         "domain": [
          0.84375,
          1
         ]
        },
        "yaxis2": {
         "anchor": "x2",
         "domain": [
          0.84375,
          1
         ]
        },
        "yaxis3": {
         "anchor": "x3",
         "domain": [
          0.5625,
          0.71875
         ]
        },
        "yaxis4": {
         "anchor": "x4",
         "domain": [
          0.5625,
          0.71875
         ]
        },
        "yaxis5": {
         "anchor": "x5",
         "domain": [
          0.28125,
          0.4375
         ]
        },
        "yaxis6": {
         "anchor": "x6",
         "domain": [
          0.28125,
          0.4375
         ]
        },
        "yaxis7": {
         "anchor": "x7",
         "domain": [
          0,
          0.15625
         ]
        },
        "yaxis8": {
         "anchor": "x8",
         "domain": [
          0,
          0.15625
         ]
        }
       }
      }
     },
     "metadata": {},
     "output_type": "display_data"
    },
    {
     "data": {
      "application/vnd.plotly.v1+json": {
       "config": {
        "plotlyServerURL": "https://plot.ly"
       },
       "data": [
        {
         "line": {
          "color": "gold"
         },
         "mode": "lines",
         "name": "Price Yellow Fuel",
         "type": "scatter",
         "x": [
          0,
          1,
          2,
          3,
          4,
          5,
          6,
          7,
          8,
          9,
          10,
          11,
          12,
          13,
          14
         ],
         "y": [
          0.2,
          0.2008546680046247,
          0.20113782725468787,
          0.19937588314769888,
          0.20313108607475985,
          0.20240695445987145,
          0.3045304049610197,
          0.31053031895117567,
          0.3148824851266224,
          0.3130401279655207,
          0.31101589996138496,
          0.31714240466620025,
          0.3173298337208434,
          0.3210598668361302,
          0.3247625454649402
         ]
        },
        {
         "line": {
          "color": "brown"
         },
         "mode": "lines",
         "name": "Price Brown Fuel",
         "type": "scatter",
         "x": [
          0,
          1,
          2,
          3,
          4,
          5,
          6,
          7,
          8,
          9,
          10,
          11,
          12,
          13,
          14
         ],
         "y": [
          0.06,
          0.0599080451084735,
          0.06027192823276401,
          0.06072080680434401,
          0.06031924495217908,
          0.06062326183920832,
          0.0603553804795105,
          0.060044118568291976,
          0.05990027352488771,
          0.06020372636392535,
          0.06059120970361271,
          0.06082424434569116,
          0.06095244669878384,
          0.06099522368735521,
          0.06065714597372498
         ]
        },
        {
         "line": {
          "color": "green"
         },
         "mode": "lines",
         "name": "Energy Price",
         "type": "scatter",
         "x": [
          0,
          1,
          2,
          3,
          4,
          5,
          6,
          7,
          8,
          9,
          10,
          11,
          12,
          13,
          14
         ],
         "y": [
          0.15799999999999997,
          0.15857068113577935,
          0.15887805754811068,
          0.1577793602446924,
          0.1602875337379856,
          0.1598718466736725,
          0.23127789761656692,
          0.23538445883631054,
          0.23838782164610198,
          0.2371892074850421,
          0.23588849288405328,
          0.2402469565700475,
          0.2404166176142255,
          0.2430404738914977,
          0.2455309256175756
         ]
        }
       ],
       "layout": {
        "showlegend": false,
        "template": {
         "data": {
          "bar": [
           {
            "error_x": {
             "color": "#2a3f5f"
            },
            "error_y": {
             "color": "#2a3f5f"
            },
            "marker": {
             "line": {
              "color": "#E5ECF6",
              "width": 0.5
             },
             "pattern": {
              "fillmode": "overlay",
              "size": 10,
              "solidity": 0.2
             }
            },
            "type": "bar"
           }
          ],
          "barpolar": [
           {
            "marker": {
             "line": {
              "color": "#E5ECF6",
              "width": 0.5
             },
             "pattern": {
              "fillmode": "overlay",
              "size": 10,
              "solidity": 0.2
             }
            },
            "type": "barpolar"
           }
          ],
          "carpet": [
           {
            "aaxis": {
             "endlinecolor": "#2a3f5f",
             "gridcolor": "white",
             "linecolor": "white",
             "minorgridcolor": "white",
             "startlinecolor": "#2a3f5f"
            },
            "baxis": {
             "endlinecolor": "#2a3f5f",
             "gridcolor": "white",
             "linecolor": "white",
             "minorgridcolor": "white",
             "startlinecolor": "#2a3f5f"
            },
            "type": "carpet"
           }
          ],
          "choropleth": [
           {
            "colorbar": {
             "outlinewidth": 0,
             "ticks": ""
            },
            "type": "choropleth"
           }
          ],
          "contour": [
           {
            "colorbar": {
             "outlinewidth": 0,
             "ticks": ""
            },
            "colorscale": [
             [
              0,
              "#0d0887"
             ],
             [
              0.1111111111111111,
              "#46039f"
             ],
             [
              0.2222222222222222,
              "#7201a8"
             ],
             [
              0.3333333333333333,
              "#9c179e"
             ],
             [
              0.4444444444444444,
              "#bd3786"
             ],
             [
              0.5555555555555556,
              "#d8576b"
             ],
             [
              0.6666666666666666,
              "#ed7953"
             ],
             [
              0.7777777777777778,
              "#fb9f3a"
             ],
             [
              0.8888888888888888,
              "#fdca26"
             ],
             [
              1,
              "#f0f921"
             ]
            ],
            "type": "contour"
           }
          ],
          "contourcarpet": [
           {
            "colorbar": {
             "outlinewidth": 0,
             "ticks": ""
            },
            "type": "contourcarpet"
           }
          ],
          "heatmap": [
           {
            "colorbar": {
             "outlinewidth": 0,
             "ticks": ""
            },
            "colorscale": [
             [
              0,
              "#0d0887"
             ],
             [
              0.1111111111111111,
              "#46039f"
             ],
             [
              0.2222222222222222,
              "#7201a8"
             ],
             [
              0.3333333333333333,
              "#9c179e"
             ],
             [
              0.4444444444444444,
              "#bd3786"
             ],
             [
              0.5555555555555556,
              "#d8576b"
             ],
             [
              0.6666666666666666,
              "#ed7953"
             ],
             [
              0.7777777777777778,
              "#fb9f3a"
             ],
             [
              0.8888888888888888,
              "#fdca26"
             ],
             [
              1,
              "#f0f921"
             ]
            ],
            "type": "heatmap"
           }
          ],
          "heatmapgl": [
           {
            "colorbar": {
             "outlinewidth": 0,
             "ticks": ""
            },
            "colorscale": [
             [
              0,
              "#0d0887"
             ],
             [
              0.1111111111111111,
              "#46039f"
             ],
             [
              0.2222222222222222,
              "#7201a8"
             ],
             [
              0.3333333333333333,
              "#9c179e"
             ],
             [
              0.4444444444444444,
              "#bd3786"
             ],
             [
              0.5555555555555556,
              "#d8576b"
             ],
             [
              0.6666666666666666,
              "#ed7953"
             ],
             [
              0.7777777777777778,
              "#fb9f3a"
             ],
             [
              0.8888888888888888,
              "#fdca26"
             ],
             [
              1,
              "#f0f921"
             ]
            ],
            "type": "heatmapgl"
           }
          ],
          "histogram": [
           {
            "marker": {
             "pattern": {
              "fillmode": "overlay",
              "size": 10,
              "solidity": 0.2
             }
            },
            "type": "histogram"
           }
          ],
          "histogram2d": [
           {
            "colorbar": {
             "outlinewidth": 0,
             "ticks": ""
            },
            "colorscale": [
             [
              0,
              "#0d0887"
             ],
             [
              0.1111111111111111,
              "#46039f"
             ],
             [
              0.2222222222222222,
              "#7201a8"
             ],
             [
              0.3333333333333333,
              "#9c179e"
             ],
             [
              0.4444444444444444,
              "#bd3786"
             ],
             [
              0.5555555555555556,
              "#d8576b"
             ],
             [
              0.6666666666666666,
              "#ed7953"
             ],
             [
              0.7777777777777778,
              "#fb9f3a"
             ],
             [
              0.8888888888888888,
              "#fdca26"
             ],
             [
              1,
              "#f0f921"
             ]
            ],
            "type": "histogram2d"
           }
          ],
          "histogram2dcontour": [
           {
            "colorbar": {
             "outlinewidth": 0,
             "ticks": ""
            },
            "colorscale": [
             [
              0,
              "#0d0887"
             ],
             [
              0.1111111111111111,
              "#46039f"
             ],
             [
              0.2222222222222222,
              "#7201a8"
             ],
             [
              0.3333333333333333,
              "#9c179e"
             ],
             [
              0.4444444444444444,
              "#bd3786"
             ],
             [
              0.5555555555555556,
              "#d8576b"
             ],
             [
              0.6666666666666666,
              "#ed7953"
             ],
             [
              0.7777777777777778,
              "#fb9f3a"
             ],
             [
              0.8888888888888888,
              "#fdca26"
             ],
             [
              1,
              "#f0f921"
             ]
            ],
            "type": "histogram2dcontour"
           }
          ],
          "mesh3d": [
           {
            "colorbar": {
             "outlinewidth": 0,
             "ticks": ""
            },
            "type": "mesh3d"
           }
          ],
          "parcoords": [
           {
            "line": {
             "colorbar": {
              "outlinewidth": 0,
              "ticks": ""
             }
            },
            "type": "parcoords"
           }
          ],
          "pie": [
           {
            "automargin": true,
            "type": "pie"
           }
          ],
          "scatter": [
           {
            "fillpattern": {
             "fillmode": "overlay",
             "size": 10,
             "solidity": 0.2
            },
            "type": "scatter"
           }
          ],
          "scatter3d": [
           {
            "line": {
             "colorbar": {
              "outlinewidth": 0,
              "ticks": ""
             }
            },
            "marker": {
             "colorbar": {
              "outlinewidth": 0,
              "ticks": ""
             }
            },
            "type": "scatter3d"
           }
          ],
          "scattercarpet": [
           {
            "marker": {
             "colorbar": {
              "outlinewidth": 0,
              "ticks": ""
             }
            },
            "type": "scattercarpet"
           }
          ],
          "scattergeo": [
           {
            "marker": {
             "colorbar": {
              "outlinewidth": 0,
              "ticks": ""
             }
            },
            "type": "scattergeo"
           }
          ],
          "scattergl": [
           {
            "marker": {
             "colorbar": {
              "outlinewidth": 0,
              "ticks": ""
             }
            },
            "type": "scattergl"
           }
          ],
          "scattermapbox": [
           {
            "marker": {
             "colorbar": {
              "outlinewidth": 0,
              "ticks": ""
             }
            },
            "type": "scattermapbox"
           }
          ],
          "scatterpolar": [
           {
            "marker": {
             "colorbar": {
              "outlinewidth": 0,
              "ticks": ""
             }
            },
            "type": "scatterpolar"
           }
          ],
          "scatterpolargl": [
           {
            "marker": {
             "colorbar": {
              "outlinewidth": 0,
              "ticks": ""
             }
            },
            "type": "scatterpolargl"
           }
          ],
          "scatterternary": [
           {
            "marker": {
             "colorbar": {
              "outlinewidth": 0,
              "ticks": ""
             }
            },
            "type": "scatterternary"
           }
          ],
          "surface": [
           {
            "colorbar": {
             "outlinewidth": 0,
             "ticks": ""
            },
            "colorscale": [
             [
              0,
              "#0d0887"
             ],
             [
              0.1111111111111111,
              "#46039f"
             ],
             [
              0.2222222222222222,
              "#7201a8"
             ],
             [
              0.3333333333333333,
              "#9c179e"
             ],
             [
              0.4444444444444444,
              "#bd3786"
             ],
             [
              0.5555555555555556,
              "#d8576b"
             ],
             [
              0.6666666666666666,
              "#ed7953"
             ],
             [
              0.7777777777777778,
              "#fb9f3a"
             ],
             [
              0.8888888888888888,
              "#fdca26"
             ],
             [
              1,
              "#f0f921"
             ]
            ],
            "type": "surface"
           }
          ],
          "table": [
           {
            "cells": {
             "fill": {
              "color": "#EBF0F8"
             },
             "line": {
              "color": "white"
             }
            },
            "header": {
             "fill": {
              "color": "#C8D4E3"
             },
             "line": {
              "color": "white"
             }
            },
            "type": "table"
           }
          ]
         },
         "layout": {
          "annotationdefaults": {
           "arrowcolor": "#2a3f5f",
           "arrowhead": 0,
           "arrowwidth": 1
          },
          "autotypenumbers": "strict",
          "coloraxis": {
           "colorbar": {
            "outlinewidth": 0,
            "ticks": ""
           }
          },
          "colorscale": {
           "diverging": [
            [
             0,
             "#8e0152"
            ],
            [
             0.1,
             "#c51b7d"
            ],
            [
             0.2,
             "#de77ae"
            ],
            [
             0.3,
             "#f1b6da"
            ],
            [
             0.4,
             "#fde0ef"
            ],
            [
             0.5,
             "#f7f7f7"
            ],
            [
             0.6,
             "#e6f5d0"
            ],
            [
             0.7,
             "#b8e186"
            ],
            [
             0.8,
             "#7fbc41"
            ],
            [
             0.9,
             "#4d9221"
            ],
            [
             1,
             "#276419"
            ]
           ],
           "sequential": [
            [
             0,
             "#0d0887"
            ],
            [
             0.1111111111111111,
             "#46039f"
            ],
            [
             0.2222222222222222,
             "#7201a8"
            ],
            [
             0.3333333333333333,
             "#9c179e"
            ],
            [
             0.4444444444444444,
             "#bd3786"
            ],
            [
             0.5555555555555556,
             "#d8576b"
            ],
            [
             0.6666666666666666,
             "#ed7953"
            ],
            [
             0.7777777777777778,
             "#fb9f3a"
            ],
            [
             0.8888888888888888,
             "#fdca26"
            ],
            [
             1,
             "#f0f921"
            ]
           ],
           "sequentialminus": [
            [
             0,
             "#0d0887"
            ],
            [
             0.1111111111111111,
             "#46039f"
            ],
            [
             0.2222222222222222,
             "#7201a8"
            ],
            [
             0.3333333333333333,
             "#9c179e"
            ],
            [
             0.4444444444444444,
             "#bd3786"
            ],
            [
             0.5555555555555556,
             "#d8576b"
            ],
            [
             0.6666666666666666,
             "#ed7953"
            ],
            [
             0.7777777777777778,
             "#fb9f3a"
            ],
            [
             0.8888888888888888,
             "#fdca26"
            ],
            [
             1,
             "#f0f921"
            ]
           ]
          },
          "colorway": [
           "#636efa",
           "#EF553B",
           "#00cc96",
           "#ab63fa",
           "#FFA15A",
           "#19d3f3",
           "#FF6692",
           "#B6E880",
           "#FF97FF",
           "#FECB52"
          ],
          "font": {
           "color": "#2a3f5f"
          },
          "geo": {
           "bgcolor": "white",
           "lakecolor": "white",
           "landcolor": "#E5ECF6",
           "showlakes": true,
           "showland": true,
           "subunitcolor": "white"
          },
          "hoverlabel": {
           "align": "left"
          },
          "hovermode": "closest",
          "mapbox": {
           "style": "light"
          },
          "paper_bgcolor": "white",
          "plot_bgcolor": "#E5ECF6",
          "polar": {
           "angularaxis": {
            "gridcolor": "white",
            "linecolor": "white",
            "ticks": ""
           },
           "bgcolor": "#E5ECF6",
           "radialaxis": {
            "gridcolor": "white",
            "linecolor": "white",
            "ticks": ""
           }
          },
          "scene": {
           "xaxis": {
            "backgroundcolor": "#E5ECF6",
            "gridcolor": "white",
            "gridwidth": 2,
            "linecolor": "white",
            "showbackground": true,
            "ticks": "",
            "zerolinecolor": "white"
           },
           "yaxis": {
            "backgroundcolor": "#E5ECF6",
            "gridcolor": "white",
            "gridwidth": 2,
            "linecolor": "white",
            "showbackground": true,
            "ticks": "",
            "zerolinecolor": "white"
           },
           "zaxis": {
            "backgroundcolor": "#E5ECF6",
            "gridcolor": "white",
            "gridwidth": 2,
            "linecolor": "white",
            "showbackground": true,
            "ticks": "",
            "zerolinecolor": "white"
           }
          },
          "shapedefaults": {
           "line": {
            "color": "#2a3f5f"
           }
          },
          "ternary": {
           "aaxis": {
            "gridcolor": "white",
            "linecolor": "white",
            "ticks": ""
           },
           "baxis": {
            "gridcolor": "white",
            "linecolor": "white",
            "ticks": ""
           },
           "bgcolor": "#E5ECF6",
           "caxis": {
            "gridcolor": "white",
            "linecolor": "white",
            "ticks": ""
           }
          },
          "title": {
           "x": 0.05
          },
          "xaxis": {
           "automargin": true,
           "gridcolor": "white",
           "linecolor": "white",
           "ticks": "",
           "title": {
            "standoff": 15
           },
           "zerolinecolor": "white",
           "zerolinewidth": 2
          },
          "yaxis": {
           "automargin": true,
           "gridcolor": "white",
           "linecolor": "white",
           "ticks": "",
           "title": {
            "standoff": 15
           },
           "zerolinecolor": "white",
           "zerolinewidth": 2
          }
         }
        },
        "title": {
         "text": "Prices over time"
        },
        "xaxis": {
         "title": {
          "text": "Time (steps)"
         }
        },
        "yaxis": {
         "title": {
          "text": "Price"
         }
        }
       }
      }
     },
     "metadata": {},
     "output_type": "display_data"
    }
   ],
   "source": [
    "# Model-level data\n",
    "fig = sp.make_subplots(rows=int(len(model_data.columns)/2), cols=2, subplot_titles=model_data.columns)\n",
    "color_discrete_sequence=px.colors.qualitative.Plotly  # Default color sequence\n",
    "\n",
    "for i, col in enumerate(model_data.columns, start=1):\n",
    "    fig.add_trace(go.Scatter(x=model_data.index, y=model_data[col], mode='lines', name=col, line=dict(color=color_discrete_sequence[(i-1) % len(color_discrete_sequence)])), row=int((i-1)/2)+1, col=((i-1)%2)+1)\n",
    "\n",
    "fig.update_layout(height=400*int(len(model_data.columns)/2), width=1600, title_text=\"\", showlegend=False)\n",
    "fig.show()\n",
    "\n",
    "# For Price1, Price2, and Energy Price\n",
    "fig = go.Figure()\n",
    "fig.add_trace(go.Scatter(x=model_data.index, y=model_data['Price Yellow Fuel'], mode='lines', name='Price Yellow Fuel', line=dict(color='gold')))\n",
    "fig.add_trace(go.Scatter(x=model_data.index, y=model_data['Price Brown Fuel'], mode='lines', name='Price Brown Fuel', line=dict(color='brown')))\n",
    "fig.add_trace(go.Scatter(x=model_data.index, y=model_data['Energy Price'], mode='lines', name='Energy Price', line=dict(color='green')))\n",
    "\n",
    "fig.update_layout(title='Prices over time', xaxis_title='Time (steps)', yaxis_title='Price', showlegend=False)\n",
    "fig.show()\n"
   ]
  },
  {
   "cell_type": "code",
   "execution_count": 20,
   "metadata": {},
   "outputs": [
    {
     "data": {
      "application/vnd.plotly.v1+json": {
       "config": {
        "plotlyServerURL": "https://plot.ly"
       },
       "data": [
        {
         "line": {
          "color": "#636EFA"
         },
         "mode": "lines",
         "name": "Inability",
         "type": "scatter",
         "x": [
          0,
          1,
          2,
          3,
          4,
          5,
          6,
          7,
          8,
          9,
          10,
          11,
          12,
          13,
          14
         ],
         "xaxis": "x",
         "y": [
          0.2,
          0.2,
          0.2,
          0.2,
          0.2,
          0.2,
          0.471,
          0.46,
          0.436,
          0.396,
          0.308,
          0.228,
          0.2,
          0.2,
          0.2
         ],
         "yaxis": "y"
        },
        {
         "line": {
          "color": "#EF553B"
         },
         "mode": "lines",
         "name": "Arrears",
         "type": "scatter",
         "x": [
          0,
          1,
          2,
          3,
          4,
          5,
          6,
          7,
          8,
          9,
          10,
          11,
          12,
          13,
          14
         ],
         "xaxis": "x2",
         "y": [
          97.84733990144693,
          91.35812116893014,
          84.89801353223423,
          78.23478262574804,
          71.34466585324199,
          64.20225952313075,
          57.32505347221146,
          50.30701523550757,
          42.98742252520447,
          35.58553294887959,
          27.770621523611776,
          19.739875347428633,
          13.045610515307073,
          7.1398166622728265,
          3.0876067182849485
         ],
         "yaxis": "y2"
        },
        {
         "line": {
          "color": "#00CC96"
         },
         "mode": "lines",
         "name": "Allowences",
         "type": "scatter",
         "x": [
          0,
          1,
          2,
          3,
          4,
          5,
          6,
          7,
          8,
          9,
          10,
          11,
          12,
          13,
          14
         ],
         "xaxis": "x3",
         "y": [
          0,
          0,
          0,
          0,
          0,
          0,
          0,
          0,
          0,
          0,
          16.1,
          27.9,
          35.6,
          41.7,
          47.65
         ],
         "yaxis": "y3"
        },
        {
         "line": {
          "color": "#AB63FA"
         },
         "mode": "lines",
         "name": "Energy Price",
         "type": "scatter",
         "x": [
          0,
          1,
          2,
          3,
          4,
          5,
          6,
          7,
          8,
          9,
          10,
          11,
          12,
          13,
          14
         ],
         "xaxis": "x4",
         "y": [
          0.15799999999999997,
          0.15857068113577935,
          0.15887805754811068,
          0.1577793602446924,
          0.1602875337379856,
          0.1598718466736725,
          0.23127789761656692,
          0.23538445883631054,
          0.23838782164610198,
          0.2371892074850421,
          0.23588849288405328,
          0.2402469565700475,
          0.2404166176142255,
          0.2430404738914977,
          0.2455309256175756
         ],
         "yaxis": "y4"
        },
        {
         "line": {
          "color": "#FFA15A"
         },
         "mode": "lines",
         "name": "Price Yellow Fuel",
         "type": "scatter",
         "x": [
          0,
          1,
          2,
          3,
          4,
          5,
          6,
          7,
          8,
          9,
          10,
          11,
          12,
          13,
          14
         ],
         "xaxis": "x5",
         "y": [
          0.2,
          0.2008546680046247,
          0.20113782725468787,
          0.19937588314769888,
          0.20313108607475985,
          0.20240695445987145,
          0.3045304049610197,
          0.31053031895117567,
          0.3148824851266224,
          0.3130401279655207,
          0.31101589996138496,
          0.31714240466620025,
          0.3173298337208434,
          0.3210598668361302,
          0.3247625454649402
         ],
         "yaxis": "y5"
        },
        {
         "line": {
          "color": "#19D3F3"
         },
         "mode": "lines",
         "name": "Price Brown Fuel",
         "type": "scatter",
         "x": [
          0,
          1,
          2,
          3,
          4,
          5,
          6,
          7,
          8,
          9,
          10,
          11,
          12,
          13,
          14
         ],
         "xaxis": "x6",
         "y": [
          0.06,
          0.0599080451084735,
          0.06027192823276401,
          0.06072080680434401,
          0.06031924495217908,
          0.06062326183920832,
          0.0603553804795105,
          0.060044118568291976,
          0.05990027352488771,
          0.06020372636392535,
          0.06059120970361271,
          0.06082424434569116,
          0.06095244669878384,
          0.06099522368735521,
          0.06065714597372498
         ],
         "yaxis": "y6"
        },
        {
         "line": {
          "color": "#FF6692"
         },
         "mode": "lines",
         "name": "Average Dwelling Over Time",
         "type": "scatter",
         "x": [
          0,
          1,
          2,
          3,
          4,
          5,
          6,
          7,
          8,
          9,
          10,
          11,
          12,
          13,
          14
         ],
         "xaxis": "x7",
         "y": [
          916.935,
          916.935,
          916.935,
          916.935,
          916.935,
          916.935,
          916.935,
          916.935,
          904.9395,
          904.9395,
          904.9395,
          904.9395,
          904.9395,
          904.9395,
          904.9395
         ],
         "yaxis": "y7"
        },
        {
         "line": {
          "color": "#B6E880"
         },
         "mode": "lines",
         "name": "Restorations",
         "type": "scatter",
         "x": [
          0,
          1,
          2,
          3,
          4,
          5,
          6,
          7,
          8,
          9,
          10,
          11,
          12,
          13,
          14
         ],
         "xaxis": "x8",
         "y": [
          0,
          0,
          0,
          0,
          0,
          0,
          0,
          0,
          23,
          23,
          23,
          23,
          23,
          23,
          23
         ],
         "yaxis": "y8"
        }
       ],
       "layout": {
        "annotations": [
         {
          "font": {
           "color": "black",
           "family": "Arial",
           "size": 24
          },
          "showarrow": false,
          "text": "Inability",
          "x": 0.225,
          "xanchor": "center",
          "xref": "paper",
          "y": 1,
          "yanchor": "bottom",
          "yref": "paper"
         },
         {
          "font": {
           "color": "black",
           "family": "Arial",
           "size": 24
          },
          "showarrow": false,
          "text": "Arrears",
          "x": 0.775,
          "xanchor": "center",
          "xref": "paper",
          "y": 1,
          "yanchor": "bottom",
          "yref": "paper"
         },
         {
          "font": {
           "color": "black",
           "family": "Arial",
           "size": 24
          },
          "showarrow": false,
          "text": "Allowences",
          "x": 0.225,
          "xanchor": "center",
          "xref": "paper",
          "y": 0.71875,
          "yanchor": "bottom",
          "yref": "paper"
         },
         {
          "font": {
           "color": "black",
           "family": "Arial",
           "size": 24
          },
          "showarrow": false,
          "text": "Energy Price",
          "x": 0.775,
          "xanchor": "center",
          "xref": "paper",
          "y": 0.71875,
          "yanchor": "bottom",
          "yref": "paper"
         },
         {
          "font": {
           "color": "black",
           "family": "Arial",
           "size": 24
          },
          "showarrow": false,
          "text": "Price Yellow Fuel",
          "x": 0.225,
          "xanchor": "center",
          "xref": "paper",
          "y": 0.4375,
          "yanchor": "bottom",
          "yref": "paper"
         },
         {
          "font": {
           "color": "black",
           "family": "Arial",
           "size": 24
          },
          "showarrow": false,
          "text": "Price Brown Fuel",
          "x": 0.775,
          "xanchor": "center",
          "xref": "paper",
          "y": 0.4375,
          "yanchor": "bottom",
          "yref": "paper"
         },
         {
          "font": {
           "color": "black",
           "family": "Arial",
           "size": 24
          },
          "showarrow": false,
          "text": "Average Dwelling Over Time",
          "x": 0.225,
          "xanchor": "center",
          "xref": "paper",
          "y": 0.15625,
          "yanchor": "bottom",
          "yref": "paper"
         },
         {
          "font": {
           "color": "black",
           "family": "Arial",
           "size": 24
          },
          "showarrow": false,
          "text": "Restorations",
          "x": 0.775,
          "xanchor": "center",
          "xref": "paper",
          "y": 0.15625,
          "yanchor": "bottom",
          "yref": "paper"
         }
        ],
        "height": 1600,
        "showlegend": false,
        "template": {
         "data": {
          "bar": [
           {
            "error_x": {
             "color": "#2a3f5f"
            },
            "error_y": {
             "color": "#2a3f5f"
            },
            "marker": {
             "line": {
              "color": "#E5ECF6",
              "width": 0.5
             },
             "pattern": {
              "fillmode": "overlay",
              "size": 10,
              "solidity": 0.2
             }
            },
            "type": "bar"
           }
          ],
          "barpolar": [
           {
            "marker": {
             "line": {
              "color": "#E5ECF6",
              "width": 0.5
             },
             "pattern": {
              "fillmode": "overlay",
              "size": 10,
              "solidity": 0.2
             }
            },
            "type": "barpolar"
           }
          ],
          "carpet": [
           {
            "aaxis": {
             "endlinecolor": "#2a3f5f",
             "gridcolor": "white",
             "linecolor": "white",
             "minorgridcolor": "white",
             "startlinecolor": "#2a3f5f"
            },
            "baxis": {
             "endlinecolor": "#2a3f5f",
             "gridcolor": "white",
             "linecolor": "white",
             "minorgridcolor": "white",
             "startlinecolor": "#2a3f5f"
            },
            "type": "carpet"
           }
          ],
          "choropleth": [
           {
            "colorbar": {
             "outlinewidth": 0,
             "ticks": ""
            },
            "type": "choropleth"
           }
          ],
          "contour": [
           {
            "colorbar": {
             "outlinewidth": 0,
             "ticks": ""
            },
            "colorscale": [
             [
              0,
              "#0d0887"
             ],
             [
              0.1111111111111111,
              "#46039f"
             ],
             [
              0.2222222222222222,
              "#7201a8"
             ],
             [
              0.3333333333333333,
              "#9c179e"
             ],
             [
              0.4444444444444444,
              "#bd3786"
             ],
             [
              0.5555555555555556,
              "#d8576b"
             ],
             [
              0.6666666666666666,
              "#ed7953"
             ],
             [
              0.7777777777777778,
              "#fb9f3a"
             ],
             [
              0.8888888888888888,
              "#fdca26"
             ],
             [
              1,
              "#f0f921"
             ]
            ],
            "type": "contour"
           }
          ],
          "contourcarpet": [
           {
            "colorbar": {
             "outlinewidth": 0,
             "ticks": ""
            },
            "type": "contourcarpet"
           }
          ],
          "heatmap": [
           {
            "colorbar": {
             "outlinewidth": 0,
             "ticks": ""
            },
            "colorscale": [
             [
              0,
              "#0d0887"
             ],
             [
              0.1111111111111111,
              "#46039f"
             ],
             [
              0.2222222222222222,
              "#7201a8"
             ],
             [
              0.3333333333333333,
              "#9c179e"
             ],
             [
              0.4444444444444444,
              "#bd3786"
             ],
             [
              0.5555555555555556,
              "#d8576b"
             ],
             [
              0.6666666666666666,
              "#ed7953"
             ],
             [
              0.7777777777777778,
              "#fb9f3a"
             ],
             [
              0.8888888888888888,
              "#fdca26"
             ],
             [
              1,
              "#f0f921"
             ]
            ],
            "type": "heatmap"
           }
          ],
          "heatmapgl": [
           {
            "colorbar": {
             "outlinewidth": 0,
             "ticks": ""
            },
            "colorscale": [
             [
              0,
              "#0d0887"
             ],
             [
              0.1111111111111111,
              "#46039f"
             ],
             [
              0.2222222222222222,
              "#7201a8"
             ],
             [
              0.3333333333333333,
              "#9c179e"
             ],
             [
              0.4444444444444444,
              "#bd3786"
             ],
             [
              0.5555555555555556,
              "#d8576b"
             ],
             [
              0.6666666666666666,
              "#ed7953"
             ],
             [
              0.7777777777777778,
              "#fb9f3a"
             ],
             [
              0.8888888888888888,
              "#fdca26"
             ],
             [
              1,
              "#f0f921"
             ]
            ],
            "type": "heatmapgl"
           }
          ],
          "histogram": [
           {
            "marker": {
             "pattern": {
              "fillmode": "overlay",
              "size": 10,
              "solidity": 0.2
             }
            },
            "type": "histogram"
           }
          ],
          "histogram2d": [
           {
            "colorbar": {
             "outlinewidth": 0,
             "ticks": ""
            },
            "colorscale": [
             [
              0,
              "#0d0887"
             ],
             [
              0.1111111111111111,
              "#46039f"
             ],
             [
              0.2222222222222222,
              "#7201a8"
             ],
             [
              0.3333333333333333,
              "#9c179e"
             ],
             [
              0.4444444444444444,
              "#bd3786"
             ],
             [
              0.5555555555555556,
              "#d8576b"
             ],
             [
              0.6666666666666666,
              "#ed7953"
             ],
             [
              0.7777777777777778,
              "#fb9f3a"
             ],
             [
              0.8888888888888888,
              "#fdca26"
             ],
             [
              1,
              "#f0f921"
             ]
            ],
            "type": "histogram2d"
           }
          ],
          "histogram2dcontour": [
           {
            "colorbar": {
             "outlinewidth": 0,
             "ticks": ""
            },
            "colorscale": [
             [
              0,
              "#0d0887"
             ],
             [
              0.1111111111111111,
              "#46039f"
             ],
             [
              0.2222222222222222,
              "#7201a8"
             ],
             [
              0.3333333333333333,
              "#9c179e"
             ],
             [
              0.4444444444444444,
              "#bd3786"
             ],
             [
              0.5555555555555556,
              "#d8576b"
             ],
             [
              0.6666666666666666,
              "#ed7953"
             ],
             [
              0.7777777777777778,
              "#fb9f3a"
             ],
             [
              0.8888888888888888,
              "#fdca26"
             ],
             [
              1,
              "#f0f921"
             ]
            ],
            "type": "histogram2dcontour"
           }
          ],
          "mesh3d": [
           {
            "colorbar": {
             "outlinewidth": 0,
             "ticks": ""
            },
            "type": "mesh3d"
           }
          ],
          "parcoords": [
           {
            "line": {
             "colorbar": {
              "outlinewidth": 0,
              "ticks": ""
             }
            },
            "type": "parcoords"
           }
          ],
          "pie": [
           {
            "automargin": true,
            "type": "pie"
           }
          ],
          "scatter": [
           {
            "fillpattern": {
             "fillmode": "overlay",
             "size": 10,
             "solidity": 0.2
            },
            "type": "scatter"
           }
          ],
          "scatter3d": [
           {
            "line": {
             "colorbar": {
              "outlinewidth": 0,
              "ticks": ""
             }
            },
            "marker": {
             "colorbar": {
              "outlinewidth": 0,
              "ticks": ""
             }
            },
            "type": "scatter3d"
           }
          ],
          "scattercarpet": [
           {
            "marker": {
             "colorbar": {
              "outlinewidth": 0,
              "ticks": ""
             }
            },
            "type": "scattercarpet"
           }
          ],
          "scattergeo": [
           {
            "marker": {
             "colorbar": {
              "outlinewidth": 0,
              "ticks": ""
             }
            },
            "type": "scattergeo"
           }
          ],
          "scattergl": [
           {
            "marker": {
             "colorbar": {
              "outlinewidth": 0,
              "ticks": ""
             }
            },
            "type": "scattergl"
           }
          ],
          "scattermapbox": [
           {
            "marker": {
             "colorbar": {
              "outlinewidth": 0,
              "ticks": ""
             }
            },
            "type": "scattermapbox"
           }
          ],
          "scatterpolar": [
           {
            "marker": {
             "colorbar": {
              "outlinewidth": 0,
              "ticks": ""
             }
            },
            "type": "scatterpolar"
           }
          ],
          "scatterpolargl": [
           {
            "marker": {
             "colorbar": {
              "outlinewidth": 0,
              "ticks": ""
             }
            },
            "type": "scatterpolargl"
           }
          ],
          "scatterternary": [
           {
            "marker": {
             "colorbar": {
              "outlinewidth": 0,
              "ticks": ""
             }
            },
            "type": "scatterternary"
           }
          ],
          "surface": [
           {
            "colorbar": {
             "outlinewidth": 0,
             "ticks": ""
            },
            "colorscale": [
             [
              0,
              "#0d0887"
             ],
             [
              0.1111111111111111,
              "#46039f"
             ],
             [
              0.2222222222222222,
              "#7201a8"
             ],
             [
              0.3333333333333333,
              "#9c179e"
             ],
             [
              0.4444444444444444,
              "#bd3786"
             ],
             [
              0.5555555555555556,
              "#d8576b"
             ],
             [
              0.6666666666666666,
              "#ed7953"
             ],
             [
              0.7777777777777778,
              "#fb9f3a"
             ],
             [
              0.8888888888888888,
              "#fdca26"
             ],
             [
              1,
              "#f0f921"
             ]
            ],
            "type": "surface"
           }
          ],
          "table": [
           {
            "cells": {
             "fill": {
              "color": "#EBF0F8"
             },
             "line": {
              "color": "white"
             }
            },
            "header": {
             "fill": {
              "color": "#C8D4E3"
             },
             "line": {
              "color": "white"
             }
            },
            "type": "table"
           }
          ]
         },
         "layout": {
          "annotationdefaults": {
           "arrowcolor": "#2a3f5f",
           "arrowhead": 0,
           "arrowwidth": 1
          },
          "autotypenumbers": "strict",
          "coloraxis": {
           "colorbar": {
            "outlinewidth": 0,
            "ticks": ""
           }
          },
          "colorscale": {
           "diverging": [
            [
             0,
             "#8e0152"
            ],
            [
             0.1,
             "#c51b7d"
            ],
            [
             0.2,
             "#de77ae"
            ],
            [
             0.3,
             "#f1b6da"
            ],
            [
             0.4,
             "#fde0ef"
            ],
            [
             0.5,
             "#f7f7f7"
            ],
            [
             0.6,
             "#e6f5d0"
            ],
            [
             0.7,
             "#b8e186"
            ],
            [
             0.8,
             "#7fbc41"
            ],
            [
             0.9,
             "#4d9221"
            ],
            [
             1,
             "#276419"
            ]
           ],
           "sequential": [
            [
             0,
             "#0d0887"
            ],
            [
             0.1111111111111111,
             "#46039f"
            ],
            [
             0.2222222222222222,
             "#7201a8"
            ],
            [
             0.3333333333333333,
             "#9c179e"
            ],
            [
             0.4444444444444444,
             "#bd3786"
            ],
            [
             0.5555555555555556,
             "#d8576b"
            ],
            [
             0.6666666666666666,
             "#ed7953"
            ],
            [
             0.7777777777777778,
             "#fb9f3a"
            ],
            [
             0.8888888888888888,
             "#fdca26"
            ],
            [
             1,
             "#f0f921"
            ]
           ],
           "sequentialminus": [
            [
             0,
             "#0d0887"
            ],
            [
             0.1111111111111111,
             "#46039f"
            ],
            [
             0.2222222222222222,
             "#7201a8"
            ],
            [
             0.3333333333333333,
             "#9c179e"
            ],
            [
             0.4444444444444444,
             "#bd3786"
            ],
            [
             0.5555555555555556,
             "#d8576b"
            ],
            [
             0.6666666666666666,
             "#ed7953"
            ],
            [
             0.7777777777777778,
             "#fb9f3a"
            ],
            [
             0.8888888888888888,
             "#fdca26"
            ],
            [
             1,
             "#f0f921"
            ]
           ]
          },
          "colorway": [
           "#636efa",
           "#EF553B",
           "#00cc96",
           "#ab63fa",
           "#FFA15A",
           "#19d3f3",
           "#FF6692",
           "#B6E880",
           "#FF97FF",
           "#FECB52"
          ],
          "font": {
           "color": "#2a3f5f"
          },
          "geo": {
           "bgcolor": "white",
           "lakecolor": "white",
           "landcolor": "#E5ECF6",
           "showlakes": true,
           "showland": true,
           "subunitcolor": "white"
          },
          "hoverlabel": {
           "align": "left"
          },
          "hovermode": "closest",
          "mapbox": {
           "style": "light"
          },
          "paper_bgcolor": "white",
          "plot_bgcolor": "#E5ECF6",
          "polar": {
           "angularaxis": {
            "gridcolor": "white",
            "linecolor": "white",
            "ticks": ""
           },
           "bgcolor": "#E5ECF6",
           "radialaxis": {
            "gridcolor": "white",
            "linecolor": "white",
            "ticks": ""
           }
          },
          "scene": {
           "xaxis": {
            "backgroundcolor": "#E5ECF6",
            "gridcolor": "white",
            "gridwidth": 2,
            "linecolor": "white",
            "showbackground": true,
            "ticks": "",
            "zerolinecolor": "white"
           },
           "yaxis": {
            "backgroundcolor": "#E5ECF6",
            "gridcolor": "white",
            "gridwidth": 2,
            "linecolor": "white",
            "showbackground": true,
            "ticks": "",
            "zerolinecolor": "white"
           },
           "zaxis": {
            "backgroundcolor": "#E5ECF6",
            "gridcolor": "white",
            "gridwidth": 2,
            "linecolor": "white",
            "showbackground": true,
            "ticks": "",
            "zerolinecolor": "white"
           }
          },
          "shapedefaults": {
           "line": {
            "color": "#2a3f5f"
           }
          },
          "ternary": {
           "aaxis": {
            "gridcolor": "white",
            "linecolor": "white",
            "ticks": ""
           },
           "baxis": {
            "gridcolor": "white",
            "linecolor": "white",
            "ticks": ""
           },
           "bgcolor": "#E5ECF6",
           "caxis": {
            "gridcolor": "white",
            "linecolor": "white",
            "ticks": ""
           }
          },
          "title": {
           "x": 0.05
          },
          "xaxis": {
           "automargin": true,
           "gridcolor": "white",
           "linecolor": "white",
           "ticks": "",
           "title": {
            "standoff": 15
           },
           "zerolinecolor": "white",
           "zerolinewidth": 2
          },
          "yaxis": {
           "automargin": true,
           "gridcolor": "white",
           "linecolor": "white",
           "ticks": "",
           "title": {
            "standoff": 15
           },
           "zerolinecolor": "white",
           "zerolinewidth": 2
          }
         }
        },
        "title": {
         "text": ""
        },
        "width": 1600,
        "xaxis": {
         "anchor": "y",
         "domain": [
          0,
          0.45
         ]
        },
        "xaxis2": {
         "anchor": "y2",
         "domain": [
          0.55,
          1
         ]
        },
        "xaxis3": {
         "anchor": "y3",
         "domain": [
          0,
          0.45
         ]
        },
        "xaxis4": {
         "anchor": "y4",
         "domain": [
          0.55,
          1
         ]
        },
        "xaxis5": {
         "anchor": "y5",
         "domain": [
          0,
          0.45
         ]
        },
        "xaxis6": {
         "anchor": "y6",
         "domain": [
          0.55,
          1
         ]
        },
        "xaxis7": {
         "anchor": "y7",
         "domain": [
          0,
          0.45
         ]
        },
        "xaxis8": {
         "anchor": "y8",
         "domain": [
          0.55,
          1
         ]
        },
        "yaxis": {
         "anchor": "x",
         "domain": [
          0.84375,
          1
         ]
        },
        "yaxis2": {
         "anchor": "x2",
         "domain": [
          0.84375,
          1
         ]
        },
        "yaxis3": {
         "anchor": "x3",
         "domain": [
          0.5625,
          0.71875
         ]
        },
        "yaxis4": {
         "anchor": "x4",
         "domain": [
          0.5625,
          0.71875
         ]
        },
        "yaxis5": {
         "anchor": "x5",
         "domain": [
          0.28125,
          0.4375
         ]
        },
        "yaxis6": {
         "anchor": "x6",
         "domain": [
          0.28125,
          0.4375
         ]
        },
        "yaxis7": {
         "anchor": "x7",
         "domain": [
          0,
          0.15625
         ]
        },
        "yaxis8": {
         "anchor": "x8",
         "domain": [
          0,
          0.15625
         ]
        }
       }
      }
     },
     "metadata": {},
     "output_type": "display_data"
    }
   ],
   "source": [
    "# Model-level data\n",
    "fig = sp.make_subplots(rows=int(len(model_data.columns)/2), cols=2, subplot_titles=model_data.columns)\n",
    "color_discrete_sequence=px.colors.qualitative.Plotly  # Default color sequence\n",
    "\n",
    "for i, col in enumerate(model_data.columns, start=1):\n",
    "    fig.add_trace(go.Scatter(x=model_data.index, y=model_data[col], mode='lines', name=col, line=dict(color=color_discrete_sequence[(i-1) % len(color_discrete_sequence)])), row=int((i-1)/2)+1, col=((i-1)%2)+1)\n",
    "\n",
    "fig.update_layout(height=400*int(len(model_data.columns)/2), width=1600, title_text=\"\", showlegend=False)\n",
    "\n",
    "# Update the subplot titles\n",
    "for i in fig['layout']['annotations']:\n",
    "    i['font'] = dict(size=24, color='black', family=\"Arial\")  # Adjust size, color, and font here\n",
    "\n",
    "fig.show()\n"
   ]
  },
  {
   "cell_type": "code",
   "execution_count": 9,
   "metadata": {},
   "outputs": [
    {
     "data": {
      "application/vnd.plotly.v1+json": {
       "config": {
        "plotlyServerURL": "https://plot.ly"
       },
       "data": [
        {
         "line": {
          "color": "#636EFA"
         },
         "mode": "lines",
         "name": "Inability",
         "type": "scatter",
         "x": [
          0,
          1,
          2,
          3,
          4,
          5,
          6,
          7,
          8,
          9,
          10,
          11,
          12,
          13,
          14
         ],
         "xaxis": "x",
         "y": [
          0.2,
          0.2,
          0.2,
          0.2,
          0.2,
          0.2,
          0.471,
          0.46,
          0.436,
          0.396,
          0.308,
          0.228,
          0.2,
          0.2,
          0.2
         ],
         "yaxis": "y"
        },
        {
         "line": {
          "color": "#EF553B"
         },
         "mode": "lines",
         "name": "Arrears",
         "type": "scatter",
         "x": [
          0,
          1,
          2,
          3,
          4,
          5,
          6,
          7,
          8,
          9,
          10,
          11,
          12,
          13,
          14
         ],
         "xaxis": "x2",
         "y": [
          97.84733990144693,
          91.35812116893014,
          84.89801353223423,
          78.23478262574804,
          71.34466585324199,
          64.20225952313075,
          57.32505347221146,
          50.30701523550757,
          42.98742252520447,
          35.58553294887959,
          27.770621523611776,
          19.739875347428633,
          13.045610515307073,
          7.1398166622728265,
          3.0876067182849485
         ],
         "yaxis": "y2"
        },
        {
         "line": {
          "color": "#00CC96"
         },
         "mode": "lines",
         "name": "Allowences",
         "type": "scatter",
         "x": [
          0,
          1,
          2,
          3,
          4,
          5,
          6,
          7,
          8,
          9,
          10,
          11,
          12,
          13,
          14
         ],
         "xaxis": "x3",
         "y": [
          0,
          0,
          0,
          0,
          0,
          0,
          0,
          0,
          0,
          0,
          16.1,
          27.9,
          35.6,
          41.7,
          47.65
         ],
         "yaxis": "y3"
        },
        {
         "line": {
          "color": "#AB63FA"
         },
         "mode": "lines",
         "name": "Energy Price",
         "type": "scatter",
         "x": [
          0,
          1,
          2,
          3,
          4,
          5,
          6,
          7,
          8,
          9,
          10,
          11,
          12,
          13,
          14
         ],
         "xaxis": "x4",
         "y": [
          0.15799999999999997,
          0.15857068113577935,
          0.15887805754811068,
          0.1577793602446924,
          0.1602875337379856,
          0.1598718466736725,
          0.23127789761656692,
          0.23538445883631054,
          0.23838782164610198,
          0.2371892074850421,
          0.23588849288405328,
          0.2402469565700475,
          0.2404166176142255,
          0.2430404738914977,
          0.2455309256175756
         ],
         "yaxis": "y4"
        },
        {
         "line": {
          "color": "#FFA15A"
         },
         "mode": "lines",
         "name": "Price Yellow Fuel",
         "type": "scatter",
         "x": [
          0,
          1,
          2,
          3,
          4,
          5,
          6,
          7,
          8,
          9,
          10,
          11,
          12,
          13,
          14
         ],
         "xaxis": "x5",
         "y": [
          0.2,
          0.2008546680046247,
          0.20113782725468787,
          0.19937588314769888,
          0.20313108607475985,
          0.20240695445987145,
          0.3045304049610197,
          0.31053031895117567,
          0.3148824851266224,
          0.3130401279655207,
          0.31101589996138496,
          0.31714240466620025,
          0.3173298337208434,
          0.3210598668361302,
          0.3247625454649402
         ],
         "yaxis": "y5"
        },
        {
         "line": {
          "color": "#19D3F3"
         },
         "mode": "lines",
         "name": "Price Brown Fuel",
         "type": "scatter",
         "x": [
          0,
          1,
          2,
          3,
          4,
          5,
          6,
          7,
          8,
          9,
          10,
          11,
          12,
          13,
          14
         ],
         "xaxis": "x6",
         "y": [
          0.06,
          0.0599080451084735,
          0.06027192823276401,
          0.06072080680434401,
          0.06031924495217908,
          0.06062326183920832,
          0.0603553804795105,
          0.060044118568291976,
          0.05990027352488771,
          0.06020372636392535,
          0.06059120970361271,
          0.06082424434569116,
          0.06095244669878384,
          0.06099522368735521,
          0.06065714597372498
         ],
         "yaxis": "y6"
        },
        {
         "line": {
          "color": "#FF6692"
         },
         "mode": "lines",
         "name": "Average Dwelling Over Time",
         "type": "scatter",
         "x": [
          0,
          1,
          2,
          3,
          4,
          5,
          6,
          7,
          8,
          9,
          10,
          11,
          12,
          13,
          14
         ],
         "xaxis": "x7",
         "y": [
          916.935,
          916.935,
          916.935,
          916.935,
          916.935,
          916.935,
          916.935,
          916.935,
          904.9395,
          904.9395,
          904.9395,
          904.9395,
          904.9395,
          904.9395,
          904.9395
         ],
         "yaxis": "y7"
        },
        {
         "line": {
          "color": "#B6E880"
         },
         "mode": "lines",
         "name": "Restorations",
         "type": "scatter",
         "x": [
          0,
          1,
          2,
          3,
          4,
          5,
          6,
          7,
          8,
          9,
          10,
          11,
          12,
          13,
          14
         ],
         "xaxis": "x8",
         "y": [
          0,
          0,
          0,
          0,
          0,
          0,
          0,
          0,
          23,
          23,
          23,
          23,
          23,
          23,
          23
         ],
         "yaxis": "y8"
        }
       ],
       "layout": {
        "annotations": [
         {
          "font": {
           "size": 16
          },
          "showarrow": false,
          "text": "Inability",
          "x": 0.225,
          "xanchor": "center",
          "xref": "paper",
          "y": 1,
          "yanchor": "bottom",
          "yref": "paper"
         },
         {
          "font": {
           "size": 16
          },
          "showarrow": false,
          "text": "Arrears",
          "x": 0.775,
          "xanchor": "center",
          "xref": "paper",
          "y": 1,
          "yanchor": "bottom",
          "yref": "paper"
         },
         {
          "font": {
           "size": 16
          },
          "showarrow": false,
          "text": "Allowences",
          "x": 0.225,
          "xanchor": "center",
          "xref": "paper",
          "y": 0.71875,
          "yanchor": "bottom",
          "yref": "paper"
         },
         {
          "font": {
           "size": 16
          },
          "showarrow": false,
          "text": "Energy Price",
          "x": 0.775,
          "xanchor": "center",
          "xref": "paper",
          "y": 0.71875,
          "yanchor": "bottom",
          "yref": "paper"
         },
         {
          "font": {
           "size": 16
          },
          "showarrow": false,
          "text": "Price Yellow Fuel",
          "x": 0.225,
          "xanchor": "center",
          "xref": "paper",
          "y": 0.4375,
          "yanchor": "bottom",
          "yref": "paper"
         },
         {
          "font": {
           "size": 16
          },
          "showarrow": false,
          "text": "Price Brown Fuel",
          "x": 0.775,
          "xanchor": "center",
          "xref": "paper",
          "y": 0.4375,
          "yanchor": "bottom",
          "yref": "paper"
         },
         {
          "font": {
           "size": 16
          },
          "showarrow": false,
          "text": "Average Dwelling Over Time",
          "x": 0.225,
          "xanchor": "center",
          "xref": "paper",
          "y": 0.15625,
          "yanchor": "bottom",
          "yref": "paper"
         },
         {
          "font": {
           "size": 16
          },
          "showarrow": false,
          "text": "Restorations",
          "x": 0.775,
          "xanchor": "center",
          "xref": "paper",
          "y": 0.15625,
          "yanchor": "bottom",
          "yref": "paper"
         }
        ],
        "height": 1600,
        "showlegend": false,
        "template": {
         "data": {
          "bar": [
           {
            "error_x": {
             "color": "#2a3f5f"
            },
            "error_y": {
             "color": "#2a3f5f"
            },
            "marker": {
             "line": {
              "color": "#E5ECF6",
              "width": 0.5
             },
             "pattern": {
              "fillmode": "overlay",
              "size": 10,
              "solidity": 0.2
             }
            },
            "type": "bar"
           }
          ],
          "barpolar": [
           {
            "marker": {
             "line": {
              "color": "#E5ECF6",
              "width": 0.5
             },
             "pattern": {
              "fillmode": "overlay",
              "size": 10,
              "solidity": 0.2
             }
            },
            "type": "barpolar"
           }
          ],
          "carpet": [
           {
            "aaxis": {
             "endlinecolor": "#2a3f5f",
             "gridcolor": "white",
             "linecolor": "white",
             "minorgridcolor": "white",
             "startlinecolor": "#2a3f5f"
            },
            "baxis": {
             "endlinecolor": "#2a3f5f",
             "gridcolor": "white",
             "linecolor": "white",
             "minorgridcolor": "white",
             "startlinecolor": "#2a3f5f"
            },
            "type": "carpet"
           }
          ],
          "choropleth": [
           {
            "colorbar": {
             "outlinewidth": 0,
             "ticks": ""
            },
            "type": "choropleth"
           }
          ],
          "contour": [
           {
            "colorbar": {
             "outlinewidth": 0,
             "ticks": ""
            },
            "colorscale": [
             [
              0,
              "#0d0887"
             ],
             [
              0.1111111111111111,
              "#46039f"
             ],
             [
              0.2222222222222222,
              "#7201a8"
             ],
             [
              0.3333333333333333,
              "#9c179e"
             ],
             [
              0.4444444444444444,
              "#bd3786"
             ],
             [
              0.5555555555555556,
              "#d8576b"
             ],
             [
              0.6666666666666666,
              "#ed7953"
             ],
             [
              0.7777777777777778,
              "#fb9f3a"
             ],
             [
              0.8888888888888888,
              "#fdca26"
             ],
             [
              1,
              "#f0f921"
             ]
            ],
            "type": "contour"
           }
          ],
          "contourcarpet": [
           {
            "colorbar": {
             "outlinewidth": 0,
             "ticks": ""
            },
            "type": "contourcarpet"
           }
          ],
          "heatmap": [
           {
            "colorbar": {
             "outlinewidth": 0,
             "ticks": ""
            },
            "colorscale": [
             [
              0,
              "#0d0887"
             ],
             [
              0.1111111111111111,
              "#46039f"
             ],
             [
              0.2222222222222222,
              "#7201a8"
             ],
             [
              0.3333333333333333,
              "#9c179e"
             ],
             [
              0.4444444444444444,
              "#bd3786"
             ],
             [
              0.5555555555555556,
              "#d8576b"
             ],
             [
              0.6666666666666666,
              "#ed7953"
             ],
             [
              0.7777777777777778,
              "#fb9f3a"
             ],
             [
              0.8888888888888888,
              "#fdca26"
             ],
             [
              1,
              "#f0f921"
             ]
            ],
            "type": "heatmap"
           }
          ],
          "heatmapgl": [
           {
            "colorbar": {
             "outlinewidth": 0,
             "ticks": ""
            },
            "colorscale": [
             [
              0,
              "#0d0887"
             ],
             [
              0.1111111111111111,
              "#46039f"
             ],
             [
              0.2222222222222222,
              "#7201a8"
             ],
             [
              0.3333333333333333,
              "#9c179e"
             ],
             [
              0.4444444444444444,
              "#bd3786"
             ],
             [
              0.5555555555555556,
              "#d8576b"
             ],
             [
              0.6666666666666666,
              "#ed7953"
             ],
             [
              0.7777777777777778,
              "#fb9f3a"
             ],
             [
              0.8888888888888888,
              "#fdca26"
             ],
             [
              1,
              "#f0f921"
             ]
            ],
            "type": "heatmapgl"
           }
          ],
          "histogram": [
           {
            "marker": {
             "pattern": {
              "fillmode": "overlay",
              "size": 10,
              "solidity": 0.2
             }
            },
            "type": "histogram"
           }
          ],
          "histogram2d": [
           {
            "colorbar": {
             "outlinewidth": 0,
             "ticks": ""
            },
            "colorscale": [
             [
              0,
              "#0d0887"
             ],
             [
              0.1111111111111111,
              "#46039f"
             ],
             [
              0.2222222222222222,
              "#7201a8"
             ],
             [
              0.3333333333333333,
              "#9c179e"
             ],
             [
              0.4444444444444444,
              "#bd3786"
             ],
             [
              0.5555555555555556,
              "#d8576b"
             ],
             [
              0.6666666666666666,
              "#ed7953"
             ],
             [
              0.7777777777777778,
              "#fb9f3a"
             ],
             [
              0.8888888888888888,
              "#fdca26"
             ],
             [
              1,
              "#f0f921"
             ]
            ],
            "type": "histogram2d"
           }
          ],
          "histogram2dcontour": [
           {
            "colorbar": {
             "outlinewidth": 0,
             "ticks": ""
            },
            "colorscale": [
             [
              0,
              "#0d0887"
             ],
             [
              0.1111111111111111,
              "#46039f"
             ],
             [
              0.2222222222222222,
              "#7201a8"
             ],
             [
              0.3333333333333333,
              "#9c179e"
             ],
             [
              0.4444444444444444,
              "#bd3786"
             ],
             [
              0.5555555555555556,
              "#d8576b"
             ],
             [
              0.6666666666666666,
              "#ed7953"
             ],
             [
              0.7777777777777778,
              "#fb9f3a"
             ],
             [
              0.8888888888888888,
              "#fdca26"
             ],
             [
              1,
              "#f0f921"
             ]
            ],
            "type": "histogram2dcontour"
           }
          ],
          "mesh3d": [
           {
            "colorbar": {
             "outlinewidth": 0,
             "ticks": ""
            },
            "type": "mesh3d"
           }
          ],
          "parcoords": [
           {
            "line": {
             "colorbar": {
              "outlinewidth": 0,
              "ticks": ""
             }
            },
            "type": "parcoords"
           }
          ],
          "pie": [
           {
            "automargin": true,
            "type": "pie"
           }
          ],
          "scatter": [
           {
            "fillpattern": {
             "fillmode": "overlay",
             "size": 10,
             "solidity": 0.2
            },
            "type": "scatter"
           }
          ],
          "scatter3d": [
           {
            "line": {
             "colorbar": {
              "outlinewidth": 0,
              "ticks": ""
             }
            },
            "marker": {
             "colorbar": {
              "outlinewidth": 0,
              "ticks": ""
             }
            },
            "type": "scatter3d"
           }
          ],
          "scattercarpet": [
           {
            "marker": {
             "colorbar": {
              "outlinewidth": 0,
              "ticks": ""
             }
            },
            "type": "scattercarpet"
           }
          ],
          "scattergeo": [
           {
            "marker": {
             "colorbar": {
              "outlinewidth": 0,
              "ticks": ""
             }
            },
            "type": "scattergeo"
           }
          ],
          "scattergl": [
           {
            "marker": {
             "colorbar": {
              "outlinewidth": 0,
              "ticks": ""
             }
            },
            "type": "scattergl"
           }
          ],
          "scattermapbox": [
           {
            "marker": {
             "colorbar": {
              "outlinewidth": 0,
              "ticks": ""
             }
            },
            "type": "scattermapbox"
           }
          ],
          "scatterpolar": [
           {
            "marker": {
             "colorbar": {
              "outlinewidth": 0,
              "ticks": ""
             }
            },
            "type": "scatterpolar"
           }
          ],
          "scatterpolargl": [
           {
            "marker": {
             "colorbar": {
              "outlinewidth": 0,
              "ticks": ""
             }
            },
            "type": "scatterpolargl"
           }
          ],
          "scatterternary": [
           {
            "marker": {
             "colorbar": {
              "outlinewidth": 0,
              "ticks": ""
             }
            },
            "type": "scatterternary"
           }
          ],
          "surface": [
           {
            "colorbar": {
             "outlinewidth": 0,
             "ticks": ""
            },
            "colorscale": [
             [
              0,
              "#0d0887"
             ],
             [
              0.1111111111111111,
              "#46039f"
             ],
             [
              0.2222222222222222,
              "#7201a8"
             ],
             [
              0.3333333333333333,
              "#9c179e"
             ],
             [
              0.4444444444444444,
              "#bd3786"
             ],
             [
              0.5555555555555556,
              "#d8576b"
             ],
             [
              0.6666666666666666,
              "#ed7953"
             ],
             [
              0.7777777777777778,
              "#fb9f3a"
             ],
             [
              0.8888888888888888,
              "#fdca26"
             ],
             [
              1,
              "#f0f921"
             ]
            ],
            "type": "surface"
           }
          ],
          "table": [
           {
            "cells": {
             "fill": {
              "color": "#EBF0F8"
             },
             "line": {
              "color": "white"
             }
            },
            "header": {
             "fill": {
              "color": "#C8D4E3"
             },
             "line": {
              "color": "white"
             }
            },
            "type": "table"
           }
          ]
         },
         "layout": {
          "annotationdefaults": {
           "arrowcolor": "#2a3f5f",
           "arrowhead": 0,
           "arrowwidth": 1
          },
          "autotypenumbers": "strict",
          "coloraxis": {
           "colorbar": {
            "outlinewidth": 0,
            "ticks": ""
           }
          },
          "colorscale": {
           "diverging": [
            [
             0,
             "#8e0152"
            ],
            [
             0.1,
             "#c51b7d"
            ],
            [
             0.2,
             "#de77ae"
            ],
            [
             0.3,
             "#f1b6da"
            ],
            [
             0.4,
             "#fde0ef"
            ],
            [
             0.5,
             "#f7f7f7"
            ],
            [
             0.6,
             "#e6f5d0"
            ],
            [
             0.7,
             "#b8e186"
            ],
            [
             0.8,
             "#7fbc41"
            ],
            [
             0.9,
             "#4d9221"
            ],
            [
             1,
             "#276419"
            ]
           ],
           "sequential": [
            [
             0,
             "#0d0887"
            ],
            [
             0.1111111111111111,
             "#46039f"
            ],
            [
             0.2222222222222222,
             "#7201a8"
            ],
            [
             0.3333333333333333,
             "#9c179e"
            ],
            [
             0.4444444444444444,
             "#bd3786"
            ],
            [
             0.5555555555555556,
             "#d8576b"
            ],
            [
             0.6666666666666666,
             "#ed7953"
            ],
            [
             0.7777777777777778,
             "#fb9f3a"
            ],
            [
             0.8888888888888888,
             "#fdca26"
            ],
            [
             1,
             "#f0f921"
            ]
           ],
           "sequentialminus": [
            [
             0,
             "#0d0887"
            ],
            [
             0.1111111111111111,
             "#46039f"
            ],
            [
             0.2222222222222222,
             "#7201a8"
            ],
            [
             0.3333333333333333,
             "#9c179e"
            ],
            [
             0.4444444444444444,
             "#bd3786"
            ],
            [
             0.5555555555555556,
             "#d8576b"
            ],
            [
             0.6666666666666666,
             "#ed7953"
            ],
            [
             0.7777777777777778,
             "#fb9f3a"
            ],
            [
             0.8888888888888888,
             "#fdca26"
            ],
            [
             1,
             "#f0f921"
            ]
           ]
          },
          "colorway": [
           "#636efa",
           "#EF553B",
           "#00cc96",
           "#ab63fa",
           "#FFA15A",
           "#19d3f3",
           "#FF6692",
           "#B6E880",
           "#FF97FF",
           "#FECB52"
          ],
          "font": {
           "color": "#2a3f5f"
          },
          "geo": {
           "bgcolor": "white",
           "lakecolor": "white",
           "landcolor": "#E5ECF6",
           "showlakes": true,
           "showland": true,
           "subunitcolor": "white"
          },
          "hoverlabel": {
           "align": "left"
          },
          "hovermode": "closest",
          "mapbox": {
           "style": "light"
          },
          "paper_bgcolor": "white",
          "plot_bgcolor": "#E5ECF6",
          "polar": {
           "angularaxis": {
            "gridcolor": "white",
            "linecolor": "white",
            "ticks": ""
           },
           "bgcolor": "#E5ECF6",
           "radialaxis": {
            "gridcolor": "white",
            "linecolor": "white",
            "ticks": ""
           }
          },
          "scene": {
           "xaxis": {
            "backgroundcolor": "#E5ECF6",
            "gridcolor": "white",
            "gridwidth": 2,
            "linecolor": "white",
            "showbackground": true,
            "ticks": "",
            "zerolinecolor": "white"
           },
           "yaxis": {
            "backgroundcolor": "#E5ECF6",
            "gridcolor": "white",
            "gridwidth": 2,
            "linecolor": "white",
            "showbackground": true,
            "ticks": "",
            "zerolinecolor": "white"
           },
           "zaxis": {
            "backgroundcolor": "#E5ECF6",
            "gridcolor": "white",
            "gridwidth": 2,
            "linecolor": "white",
            "showbackground": true,
            "ticks": "",
            "zerolinecolor": "white"
           }
          },
          "shapedefaults": {
           "line": {
            "color": "#2a3f5f"
           }
          },
          "ternary": {
           "aaxis": {
            "gridcolor": "white",
            "linecolor": "white",
            "ticks": ""
           },
           "baxis": {
            "gridcolor": "white",
            "linecolor": "white",
            "ticks": ""
           },
           "bgcolor": "#E5ECF6",
           "caxis": {
            "gridcolor": "white",
            "linecolor": "white",
            "ticks": ""
           }
          },
          "title": {
           "x": 0.05
          },
          "xaxis": {
           "automargin": true,
           "gridcolor": "white",
           "linecolor": "white",
           "ticks": "",
           "title": {
            "standoff": 15
           },
           "zerolinecolor": "white",
           "zerolinewidth": 2
          },
          "yaxis": {
           "automargin": true,
           "gridcolor": "white",
           "linecolor": "white",
           "ticks": "",
           "title": {
            "standoff": 15
           },
           "zerolinecolor": "white",
           "zerolinewidth": 2
          }
         }
        },
        "title": {
         "font": {
          "color": "black",
          "family": "Courier New, monospace",
          "size": 24
         },
         "text": ""
        },
        "width": 1600,
        "xaxis": {
         "anchor": "y",
         "domain": [
          0,
          0.45
         ]
        },
        "xaxis2": {
         "anchor": "y2",
         "domain": [
          0.55,
          1
         ]
        },
        "xaxis3": {
         "anchor": "y3",
         "domain": [
          0,
          0.45
         ]
        },
        "xaxis4": {
         "anchor": "y4",
         "domain": [
          0.55,
          1
         ]
        },
        "xaxis5": {
         "anchor": "y5",
         "domain": [
          0,
          0.45
         ]
        },
        "xaxis6": {
         "anchor": "y6",
         "domain": [
          0.55,
          1
         ]
        },
        "xaxis7": {
         "anchor": "y7",
         "domain": [
          0,
          0.45
         ]
        },
        "xaxis8": {
         "anchor": "y8",
         "domain": [
          0.55,
          1
         ]
        },
        "yaxis": {
         "anchor": "x",
         "domain": [
          0.84375,
          1
         ]
        },
        "yaxis2": {
         "anchor": "x2",
         "domain": [
          0.84375,
          1
         ]
        },
        "yaxis3": {
         "anchor": "x3",
         "domain": [
          0.5625,
          0.71875
         ]
        },
        "yaxis4": {
         "anchor": "x4",
         "domain": [
          0.5625,
          0.71875
         ]
        },
        "yaxis5": {
         "anchor": "x5",
         "domain": [
          0.28125,
          0.4375
         ]
        },
        "yaxis6": {
         "anchor": "x6",
         "domain": [
          0.28125,
          0.4375
         ]
        },
        "yaxis7": {
         "anchor": "x7",
         "domain": [
          0,
          0.15625
         ]
        },
        "yaxis8": {
         "anchor": "x8",
         "domain": [
          0,
          0.15625
         ]
        }
       }
      }
     },
     "metadata": {},
     "output_type": "display_data"
    },
    {
     "data": {
      "application/vnd.plotly.v1+json": {
       "config": {
        "plotlyServerURL": "https://plot.ly"
       },
       "data": [
        {
         "line": {
          "color": "gold"
         },
         "mode": "lines",
         "name": "Price Yellow Fuel",
         "type": "scatter",
         "x": [
          0,
          1,
          2,
          3,
          4,
          5,
          6,
          7,
          8,
          9,
          10,
          11,
          12,
          13,
          14
         ],
         "y": [
          0.2,
          0.2008546680046247,
          0.20113782725468787,
          0.19937588314769888,
          0.20313108607475985,
          0.20240695445987145,
          0.3045304049610197,
          0.31053031895117567,
          0.3148824851266224,
          0.3130401279655207,
          0.31101589996138496,
          0.31714240466620025,
          0.3173298337208434,
          0.3210598668361302,
          0.3247625454649402
         ]
        },
        {
         "line": {
          "color": "brown"
         },
         "mode": "lines",
         "name": "Price Brown Fuel",
         "type": "scatter",
         "x": [
          0,
          1,
          2,
          3,
          4,
          5,
          6,
          7,
          8,
          9,
          10,
          11,
          12,
          13,
          14
         ],
         "y": [
          0.06,
          0.0599080451084735,
          0.06027192823276401,
          0.06072080680434401,
          0.06031924495217908,
          0.06062326183920832,
          0.0603553804795105,
          0.060044118568291976,
          0.05990027352488771,
          0.06020372636392535,
          0.06059120970361271,
          0.06082424434569116,
          0.06095244669878384,
          0.06099522368735521,
          0.06065714597372498
         ]
        },
        {
         "line": {
          "color": "green"
         },
         "mode": "lines",
         "name": "Energy Price",
         "type": "scatter",
         "x": [
          0,
          1,
          2,
          3,
          4,
          5,
          6,
          7,
          8,
          9,
          10,
          11,
          12,
          13,
          14
         ],
         "y": [
          0.15799999999999997,
          0.15857068113577935,
          0.15887805754811068,
          0.1577793602446924,
          0.1602875337379856,
          0.1598718466736725,
          0.23127789761656692,
          0.23538445883631054,
          0.23838782164610198,
          0.2371892074850421,
          0.23588849288405328,
          0.2402469565700475,
          0.2404166176142255,
          0.2430404738914977,
          0.2455309256175756
         ]
        }
       ],
       "layout": {
        "showlegend": false,
        "template": {
         "data": {
          "bar": [
           {
            "error_x": {
             "color": "#2a3f5f"
            },
            "error_y": {
             "color": "#2a3f5f"
            },
            "marker": {
             "line": {
              "color": "#E5ECF6",
              "width": 0.5
             },
             "pattern": {
              "fillmode": "overlay",
              "size": 10,
              "solidity": 0.2
             }
            },
            "type": "bar"
           }
          ],
          "barpolar": [
           {
            "marker": {
             "line": {
              "color": "#E5ECF6",
              "width": 0.5
             },
             "pattern": {
              "fillmode": "overlay",
              "size": 10,
              "solidity": 0.2
             }
            },
            "type": "barpolar"
           }
          ],
          "carpet": [
           {
            "aaxis": {
             "endlinecolor": "#2a3f5f",
             "gridcolor": "white",
             "linecolor": "white",
             "minorgridcolor": "white",
             "startlinecolor": "#2a3f5f"
            },
            "baxis": {
             "endlinecolor": "#2a3f5f",
             "gridcolor": "white",
             "linecolor": "white",
             "minorgridcolor": "white",
             "startlinecolor": "#2a3f5f"
            },
            "type": "carpet"
           }
          ],
          "choropleth": [
           {
            "colorbar": {
             "outlinewidth": 0,
             "ticks": ""
            },
            "type": "choropleth"
           }
          ],
          "contour": [
           {
            "colorbar": {
             "outlinewidth": 0,
             "ticks": ""
            },
            "colorscale": [
             [
              0,
              "#0d0887"
             ],
             [
              0.1111111111111111,
              "#46039f"
             ],
             [
              0.2222222222222222,
              "#7201a8"
             ],
             [
              0.3333333333333333,
              "#9c179e"
             ],
             [
              0.4444444444444444,
              "#bd3786"
             ],
             [
              0.5555555555555556,
              "#d8576b"
             ],
             [
              0.6666666666666666,
              "#ed7953"
             ],
             [
              0.7777777777777778,
              "#fb9f3a"
             ],
             [
              0.8888888888888888,
              "#fdca26"
             ],
             [
              1,
              "#f0f921"
             ]
            ],
            "type": "contour"
           }
          ],
          "contourcarpet": [
           {
            "colorbar": {
             "outlinewidth": 0,
             "ticks": ""
            },
            "type": "contourcarpet"
           }
          ],
          "heatmap": [
           {
            "colorbar": {
             "outlinewidth": 0,
             "ticks": ""
            },
            "colorscale": [
             [
              0,
              "#0d0887"
             ],
             [
              0.1111111111111111,
              "#46039f"
             ],
             [
              0.2222222222222222,
              "#7201a8"
             ],
             [
              0.3333333333333333,
              "#9c179e"
             ],
             [
              0.4444444444444444,
              "#bd3786"
             ],
             [
              0.5555555555555556,
              "#d8576b"
             ],
             [
              0.6666666666666666,
              "#ed7953"
             ],
             [
              0.7777777777777778,
              "#fb9f3a"
             ],
             [
              0.8888888888888888,
              "#fdca26"
             ],
             [
              1,
              "#f0f921"
             ]
            ],
            "type": "heatmap"
           }
          ],
          "heatmapgl": [
           {
            "colorbar": {
             "outlinewidth": 0,
             "ticks": ""
            },
            "colorscale": [
             [
              0,
              "#0d0887"
             ],
             [
              0.1111111111111111,
              "#46039f"
             ],
             [
              0.2222222222222222,
              "#7201a8"
             ],
             [
              0.3333333333333333,
              "#9c179e"
             ],
             [
              0.4444444444444444,
              "#bd3786"
             ],
             [
              0.5555555555555556,
              "#d8576b"
             ],
             [
              0.6666666666666666,
              "#ed7953"
             ],
             [
              0.7777777777777778,
              "#fb9f3a"
             ],
             [
              0.8888888888888888,
              "#fdca26"
             ],
             [
              1,
              "#f0f921"
             ]
            ],
            "type": "heatmapgl"
           }
          ],
          "histogram": [
           {
            "marker": {
             "pattern": {
              "fillmode": "overlay",
              "size": 10,
              "solidity": 0.2
             }
            },
            "type": "histogram"
           }
          ],
          "histogram2d": [
           {
            "colorbar": {
             "outlinewidth": 0,
             "ticks": ""
            },
            "colorscale": [
             [
              0,
              "#0d0887"
             ],
             [
              0.1111111111111111,
              "#46039f"
             ],
             [
              0.2222222222222222,
              "#7201a8"
             ],
             [
              0.3333333333333333,
              "#9c179e"
             ],
             [
              0.4444444444444444,
              "#bd3786"
             ],
             [
              0.5555555555555556,
              "#d8576b"
             ],
             [
              0.6666666666666666,
              "#ed7953"
             ],
             [
              0.7777777777777778,
              "#fb9f3a"
             ],
             [
              0.8888888888888888,
              "#fdca26"
             ],
             [
              1,
              "#f0f921"
             ]
            ],
            "type": "histogram2d"
           }
          ],
          "histogram2dcontour": [
           {
            "colorbar": {
             "outlinewidth": 0,
             "ticks": ""
            },
            "colorscale": [
             [
              0,
              "#0d0887"
             ],
             [
              0.1111111111111111,
              "#46039f"
             ],
             [
              0.2222222222222222,
              "#7201a8"
             ],
             [
              0.3333333333333333,
              "#9c179e"
             ],
             [
              0.4444444444444444,
              "#bd3786"
             ],
             [
              0.5555555555555556,
              "#d8576b"
             ],
             [
              0.6666666666666666,
              "#ed7953"
             ],
             [
              0.7777777777777778,
              "#fb9f3a"
             ],
             [
              0.8888888888888888,
              "#fdca26"
             ],
             [
              1,
              "#f0f921"
             ]
            ],
            "type": "histogram2dcontour"
           }
          ],
          "mesh3d": [
           {
            "colorbar": {
             "outlinewidth": 0,
             "ticks": ""
            },
            "type": "mesh3d"
           }
          ],
          "parcoords": [
           {
            "line": {
             "colorbar": {
              "outlinewidth": 0,
              "ticks": ""
             }
            },
            "type": "parcoords"
           }
          ],
          "pie": [
           {
            "automargin": true,
            "type": "pie"
           }
          ],
          "scatter": [
           {
            "fillpattern": {
             "fillmode": "overlay",
             "size": 10,
             "solidity": 0.2
            },
            "type": "scatter"
           }
          ],
          "scatter3d": [
           {
            "line": {
             "colorbar": {
              "outlinewidth": 0,
              "ticks": ""
             }
            },
            "marker": {
             "colorbar": {
              "outlinewidth": 0,
              "ticks": ""
             }
            },
            "type": "scatter3d"
           }
          ],
          "scattercarpet": [
           {
            "marker": {
             "colorbar": {
              "outlinewidth": 0,
              "ticks": ""
             }
            },
            "type": "scattercarpet"
           }
          ],
          "scattergeo": [
           {
            "marker": {
             "colorbar": {
              "outlinewidth": 0,
              "ticks": ""
             }
            },
            "type": "scattergeo"
           }
          ],
          "scattergl": [
           {
            "marker": {
             "colorbar": {
              "outlinewidth": 0,
              "ticks": ""
             }
            },
            "type": "scattergl"
           }
          ],
          "scattermapbox": [
           {
            "marker": {
             "colorbar": {
              "outlinewidth": 0,
              "ticks": ""
             }
            },
            "type": "scattermapbox"
           }
          ],
          "scatterpolar": [
           {
            "marker": {
             "colorbar": {
              "outlinewidth": 0,
              "ticks": ""
             }
            },
            "type": "scatterpolar"
           }
          ],
          "scatterpolargl": [
           {
            "marker": {
             "colorbar": {
              "outlinewidth": 0,
              "ticks": ""
             }
            },
            "type": "scatterpolargl"
           }
          ],
          "scatterternary": [
           {
            "marker": {
             "colorbar": {
              "outlinewidth": 0,
              "ticks": ""
             }
            },
            "type": "scatterternary"
           }
          ],
          "surface": [
           {
            "colorbar": {
             "outlinewidth": 0,
             "ticks": ""
            },
            "colorscale": [
             [
              0,
              "#0d0887"
             ],
             [
              0.1111111111111111,
              "#46039f"
             ],
             [
              0.2222222222222222,
              "#7201a8"
             ],
             [
              0.3333333333333333,
              "#9c179e"
             ],
             [
              0.4444444444444444,
              "#bd3786"
             ],
             [
              0.5555555555555556,
              "#d8576b"
             ],
             [
              0.6666666666666666,
              "#ed7953"
             ],
             [
              0.7777777777777778,
              "#fb9f3a"
             ],
             [
              0.8888888888888888,
              "#fdca26"
             ],
             [
              1,
              "#f0f921"
             ]
            ],
            "type": "surface"
           }
          ],
          "table": [
           {
            "cells": {
             "fill": {
              "color": "#EBF0F8"
             },
             "line": {
              "color": "white"
             }
            },
            "header": {
             "fill": {
              "color": "#C8D4E3"
             },
             "line": {
              "color": "white"
             }
            },
            "type": "table"
           }
          ]
         },
         "layout": {
          "annotationdefaults": {
           "arrowcolor": "#2a3f5f",
           "arrowhead": 0,
           "arrowwidth": 1
          },
          "autotypenumbers": "strict",
          "coloraxis": {
           "colorbar": {
            "outlinewidth": 0,
            "ticks": ""
           }
          },
          "colorscale": {
           "diverging": [
            [
             0,
             "#8e0152"
            ],
            [
             0.1,
             "#c51b7d"
            ],
            [
             0.2,
             "#de77ae"
            ],
            [
             0.3,
             "#f1b6da"
            ],
            [
             0.4,
             "#fde0ef"
            ],
            [
             0.5,
             "#f7f7f7"
            ],
            [
             0.6,
             "#e6f5d0"
            ],
            [
             0.7,
             "#b8e186"
            ],
            [
             0.8,
             "#7fbc41"
            ],
            [
             0.9,
             "#4d9221"
            ],
            [
             1,
             "#276419"
            ]
           ],
           "sequential": [
            [
             0,
             "#0d0887"
            ],
            [
             0.1111111111111111,
             "#46039f"
            ],
            [
             0.2222222222222222,
             "#7201a8"
            ],
            [
             0.3333333333333333,
             "#9c179e"
            ],
            [
             0.4444444444444444,
             "#bd3786"
            ],
            [
             0.5555555555555556,
             "#d8576b"
            ],
            [
             0.6666666666666666,
             "#ed7953"
            ],
            [
             0.7777777777777778,
             "#fb9f3a"
            ],
            [
             0.8888888888888888,
             "#fdca26"
            ],
            [
             1,
             "#f0f921"
            ]
           ],
           "sequentialminus": [
            [
             0,
             "#0d0887"
            ],
            [
             0.1111111111111111,
             "#46039f"
            ],
            [
             0.2222222222222222,
             "#7201a8"
            ],
            [
             0.3333333333333333,
             "#9c179e"
            ],
            [
             0.4444444444444444,
             "#bd3786"
            ],
            [
             0.5555555555555556,
             "#d8576b"
            ],
            [
             0.6666666666666666,
             "#ed7953"
            ],
            [
             0.7777777777777778,
             "#fb9f3a"
            ],
            [
             0.8888888888888888,
             "#fdca26"
            ],
            [
             1,
             "#f0f921"
            ]
           ]
          },
          "colorway": [
           "#636efa",
           "#EF553B",
           "#00cc96",
           "#ab63fa",
           "#FFA15A",
           "#19d3f3",
           "#FF6692",
           "#B6E880",
           "#FF97FF",
           "#FECB52"
          ],
          "font": {
           "color": "#2a3f5f"
          },
          "geo": {
           "bgcolor": "white",
           "lakecolor": "white",
           "landcolor": "#E5ECF6",
           "showlakes": true,
           "showland": true,
           "subunitcolor": "white"
          },
          "hoverlabel": {
           "align": "left"
          },
          "hovermode": "closest",
          "mapbox": {
           "style": "light"
          },
          "paper_bgcolor": "white",
          "plot_bgcolor": "#E5ECF6",
          "polar": {
           "angularaxis": {
            "gridcolor": "white",
            "linecolor": "white",
            "ticks": ""
           },
           "bgcolor": "#E5ECF6",
           "radialaxis": {
            "gridcolor": "white",
            "linecolor": "white",
            "ticks": ""
           }
          },
          "scene": {
           "xaxis": {
            "backgroundcolor": "#E5ECF6",
            "gridcolor": "white",
            "gridwidth": 2,
            "linecolor": "white",
            "showbackground": true,
            "ticks": "",
            "zerolinecolor": "white"
           },
           "yaxis": {
            "backgroundcolor": "#E5ECF6",
            "gridcolor": "white",
            "gridwidth": 2,
            "linecolor": "white",
            "showbackground": true,
            "ticks": "",
            "zerolinecolor": "white"
           },
           "zaxis": {
            "backgroundcolor": "#E5ECF6",
            "gridcolor": "white",
            "gridwidth": 2,
            "linecolor": "white",
            "showbackground": true,
            "ticks": "",
            "zerolinecolor": "white"
           }
          },
          "shapedefaults": {
           "line": {
            "color": "#2a3f5f"
           }
          },
          "ternary": {
           "aaxis": {
            "gridcolor": "white",
            "linecolor": "white",
            "ticks": ""
           },
           "baxis": {
            "gridcolor": "white",
            "linecolor": "white",
            "ticks": ""
           },
           "bgcolor": "#E5ECF6",
           "caxis": {
            "gridcolor": "white",
            "linecolor": "white",
            "ticks": ""
           }
          },
          "title": {
           "x": 0.05
          },
          "xaxis": {
           "automargin": true,
           "gridcolor": "white",
           "linecolor": "white",
           "ticks": "",
           "title": {
            "standoff": 15
           },
           "zerolinecolor": "white",
           "zerolinewidth": 2
          },
          "yaxis": {
           "automargin": true,
           "gridcolor": "white",
           "linecolor": "white",
           "ticks": "",
           "title": {
            "standoff": 15
           },
           "zerolinecolor": "white",
           "zerolinewidth": 2
          }
         }
        },
        "title": {
         "font": {
          "color": "black",
          "family": "Courier New, monospace",
          "size": 24
         },
         "text": "Prices over time"
        },
        "xaxis": {
         "title": {
          "text": "Time (steps)"
         }
        },
        "yaxis": {
         "title": {
          "text": "Price"
         }
        }
       }
      }
     },
     "metadata": {},
     "output_type": "display_data"
    }
   ],
   "source": [
    "# Model-level data\n",
    "fig = sp.make_subplots(rows=int(len(model_data.columns)/2), cols=2, subplot_titles=model_data.columns)\n",
    "color_discrete_sequence=px.colors.qualitative.Plotly  # Default color sequence\n",
    "\n",
    "for i, col in enumerate(model_data.columns, start=1):\n",
    "    fig.add_trace(go.Scatter(x=model_data.index, y=model_data[col], mode='lines', name=col, line=dict(color=color_discrete_sequence[(i-1) % len(color_discrete_sequence)])), row=int((i-1)/2)+1, col=((i-1)%2)+1)\n",
    "\n",
    "fig.update_layout(height=400*int(len(model_data.columns)/2), width=1600, title_text=\"\", showlegend=False, \n",
    "                  title_font=dict(size=24, color='black', family=\"Courier New, monospace\"), # Adjust size and font here\n",
    "                  )\n",
    "\n",
    "fig.show()\n",
    "\n",
    "# For Price1, Price2, and Energy Price\n",
    "fig = go.Figure()\n",
    "fig.add_trace(go.Scatter(x=model_data.index, y=model_data['Price Yellow Fuel'], mode='lines', name='Price Yellow Fuel', line=dict(color='gold')))\n",
    "fig.add_trace(go.Scatter(x=model_data.index, y=model_data['Price Brown Fuel'], mode='lines', name='Price Brown Fuel', line=dict(color='brown')))\n",
    "fig.add_trace(go.Scatter(x=model_data.index, y=model_data['Energy Price'], mode='lines', name='Energy Price', line=dict(color='green')))\n",
    "\n",
    "fig.update_layout(title='Prices over time', xaxis_title='Time (steps)', yaxis_title='Price', showlegend=False,\n",
    "                  title_font=dict(size=24, color='black', family=\"Courier New, monospace\"), # Adjust size and font here\n",
    "                  )\n",
    "\n",
    "fig.show()\n"
   ]
  },
  {
   "cell_type": "code",
   "execution_count": 10,
   "metadata": {},
   "outputs": [
    {
     "data": {
      "application/vnd.jupyter.widget-view+json": {
       "model_id": "6598c8ce922742af805aba4aff1b5c67",
       "version_major": 2,
       "version_minor": 0
      },
      "text/plain": [
       "interactive(children=(IntSlider(value=7, description='step', max=14), Output()), _dom_classes=('widget-interac…"
      ]
     },
     "metadata": {},
     "output_type": "display_data"
    },
    {
     "data": {
      "text/plain": [
       "<function __main__.plot_step(step)>"
      ]
     },
     "execution_count": 10,
     "metadata": {},
     "output_type": "execute_result"
    }
   ],
   "source": [
    "import matplotlib.pyplot as plt\n",
    "from ipywidgets import interact\n",
    "\n",
    "\n",
    "# reset index to make X, Y, Inability into columns\n",
    "df = agent_data.reset_index()\n",
    "\n",
    "def plot_step(step):\n",
    "    df_step = df[df['Step'] == step]\n",
    "    fig, ax = plt.subplots()\n",
    "    colors = ['red' if inability else 'green' for inability in df_step['Inability']]\n",
    "    ax.scatter(df_step['X'], df_step['Y'], color=colors)\n",
    "    plt.show()\n",
    "\n",
    "# create slider for steps\n",
    "interact(plot_step, step=(0, df['Step'].max()))"
   ]
  },
  {
   "cell_type": "code",
   "execution_count": 11,
   "metadata": {},
   "outputs": [],
   "source": [
    "def plot_dwelling(step):\n",
    "    df_step = df[df['Step'] == step].copy()  # Make a copy to prevent the warning\n",
    "    \n",
    "    # Assuming income and dwelling are attributes in your DataFrame\n",
    "    try:\n",
    "        df_step.loc[:, 'Income Quintile'] = pd.qcut(df_step['Income'], 5, labels=False, duplicates='drop')\n",
    "        average_dwelling = df_step.groupby('Income Quintile')['Dwelling'].mean().reset_index()\n",
    "        \n",
    "        plt.figure(figsize=(10, 6))\n",
    "        sns.barplot(x='Income Quintile', y='Dwelling', data=average_dwelling)\n",
    "        plt.title('Average Dwelling by Income Quintile at Step ' + str(step))\n",
    "        plt.xlabel('Income Quintile')\n",
    "        plt.ylabel('Average Dwelling')\n",
    "        plt.show()\n",
    "    except ValueError as e:\n",
    "        print(f\"Could not plot for step {step} due to error: {e}\")\n"
   ]
  },
  {
   "cell_type": "code",
   "execution_count": 12,
   "metadata": {},
   "outputs": [
    {
     "data": {
      "application/vnd.jupyter.widget-view+json": {
       "model_id": "b715215fcd68434a86cb6110fa92dbe8",
       "version_major": 2,
       "version_minor": 0
      },
      "text/plain": [
       "interactive(children=(IntSlider(value=7, description='step', max=14), Output()), _dom_classes=('widget-interac…"
      ]
     },
     "metadata": {},
     "output_type": "display_data"
    },
    {
     "data": {
      "text/plain": [
       "<function __main__.plot_dwelling(step)>"
      ]
     },
     "execution_count": 12,
     "metadata": {},
     "output_type": "execute_result"
    }
   ],
   "source": [
    "# create slider for steps\n",
    "interact(plot_dwelling, step=(0, df['Step'].max()))\n"
   ]
  },
  {
   "cell_type": "code",
   "execution_count": 13,
   "metadata": {},
   "outputs": [],
   "source": [
    "def plot_dwelling(step):\n",
    "    df_step = df[df['Step'] == step].copy()  # Make a copy to prevent the warning\n",
    "    \n",
    "    # Assuming income and dwelling are attributes in your DataFrame\n",
    "    try:\n",
    "        df_step.loc[:, 'Income Quintile'] = pd.qcut(df_step['Income'], 5, labels=False, duplicates='drop')\n",
    "        average_dwelling = df_step.groupby('Income Quintile')['Dwelling'].mean().reset_index()\n",
    "        \n",
    "        plt.figure(figsize=(10, 6))\n",
    "        sns.barplot(x='Income Quintile', y='Dwelling', data=average_dwelling)\n",
    "        plt.title('Average Dwelling by Income Quintile at Step ' + str(step))\n",
    "        plt.xlabel('Income Quintile')\n",
    "        plt.ylabel('Average Dwelling')\n",
    "        plt.show()\n",
    "    except ValueError as e:\n",
    "        print(f\"Could not plot for step {step} due to error: {e}\")\n"
   ]
  },
  {
   "cell_type": "code",
   "execution_count": 14,
   "metadata": {},
   "outputs": [
    {
     "data": {
      "application/vnd.jupyter.widget-view+json": {
       "model_id": "6644dccd01684bcd9aab5c6430ffb646",
       "version_major": 2,
       "version_minor": 0
      },
      "text/plain": [
       "interactive(children=(IntSlider(value=7, description='step', max=14), Output()), _dom_classes=('widget-interac…"
      ]
     },
     "metadata": {},
     "output_type": "display_data"
    },
    {
     "data": {
      "text/plain": [
       "<function __main__.plot_all(step)>"
      ]
     },
     "execution_count": 14,
     "metadata": {},
     "output_type": "execute_result"
    }
   ],
   "source": [
    "from IPython.display import display\n",
    "\n",
    "def plot_all(step):\n",
    "    df_step = df[df['Step'] == step].copy()  # Make a copy to prevent the warning\n",
    "    \n",
    "    # Assuming income and dwelling are attributes in your DataFrame\n",
    "    try:\n",
    "        df_step.loc[:, 'Income Quintile'] = pd.qcut(df_step['Income'], 5, labels=False, duplicates='drop')\n",
    "        \n",
    "        fig, axs = plt.subplots(2, 2, figsize=(20, 12))  # Create a subplot with 2 rows and 2 columns\n",
    "\n",
    "        # Plot Inability\n",
    "        colors = ['red' if inability else 'green' for inability in df_step['Inability']]\n",
    "        axs[0, 0].scatter(df_step['X'], df_step['Y'], color=colors)\n",
    "        axs[0, 0].set_title('Inability at Step ' + str(step))\n",
    "        \n",
    "        # Plot Average Disposable Income by Income Quintile\n",
    "        average_inability = df_step.groupby('Income Quintile')['Inability'].mean().reset_index()\n",
    "        sns.barplot(x='Income Quintile', y='Inability', data=average_inability, ax=axs[0, 1])\n",
    "        axs[0, 1].set_title('Average Inability by Income Quintile at Step ' + str(step))\n",
    "        axs[0, 1].set_xlabel('Income Quintile')\n",
    "        axs[0, 1].set_ylabel('Average Inability')\n",
    "\n",
    "        # Plot Total Disposable Income by Income Quintile\n",
    "        total_income = df_step.groupby('Income Quintile')['Income'].mean().reset_index()\n",
    "        sns.barplot(x='Income Quintile', y='Income', data=total_income, ax=axs[1, 0])\n",
    "        axs[1, 0].set_title('Average Disposable Income by Income Quintile at Step ' + str(step))\n",
    "        axs[1, 0].set_xlabel('Income Quintile')\n",
    "        axs[1, 0].set_ylabel('Average Disposable Income')\n",
    "        \n",
    "        # Leave last plot empty (or you can add something else here)\n",
    "        axs[1, 1].axis('off')\n",
    "        \n",
    "        plt.tight_layout()\n",
    "        plt.show()\n",
    "\n",
    "    except ValueError as e:\n",
    "        print(f\"Could not plot for step {step} due to error: {e}\")\n",
    "\n",
    "# create slider for steps\n",
    "interact(plot_all, step=(0, df['Step'].max()))\n"
   ]
  },
  {
   "cell_type": "code",
   "execution_count": 15,
   "metadata": {},
   "outputs": [
    {
     "data": {
      "image/png": "[encoded data removed]",
      "text/plain": [
       "<Figure size 720x432 with 1 Axes>"
      ]
     },
     "metadata": {
      "needs_background": "light"
     },
     "output_type": "display_data"
    }
   ],
   "source": [
    "import seaborn as sns\n",
    "import matplotlib.pyplot as plt\n",
    "\n",
    "# Assuming 'agent_df' is your DataFrame\n",
    "agent_df = model.datacollector.get_agent_vars_dataframe()\n",
    "\n",
    "# Calculate quintiles\n",
    "agent_df['Income Quintile'] = pd.qcut(agent_df['Income'], 5, labels=False)\n",
    "\n",
    "# Calculate average dwelling by income quintile\n",
    "average_dwelling = agent_df.groupby('Income Quintile')['Dwelling'].mean().reset_index()\n",
    "\n",
    "# Create bar plot\n",
    "plt.figure(figsize=(10, 6))\n",
    "sns.barplot(x='Income Quintile', y='Dwelling', data=average_dwelling)\n",
    "plt.title('Average Dwelling by Income Quintile')\n",
    "plt.xlabel('Income Quintile')\n",
    "plt.ylabel('Average Dwelling')\n",
    "plt.show()"
   ]
  },
  {
   "cell_type": "code",
   "execution_count": 16,
   "metadata": {},
   "outputs": [
    {
     "data": {
      "image/png": "[encoded data removed]",
      "text/plain": [
       "<Figure size 720x432 with 1 Axes>"
      ]
     },
     "metadata": {
      "needs_background": "light"
     },
     "output_type": "display_data"
    }
   ],
   "source": [
    "import seaborn as sns\n",
    "import matplotlib.pyplot as plt\n",
    "\n",
    "# Assuming 'agent_df' is your DataFrame\n",
    "agent_df = model.datacollector.get_agent_vars_dataframe()\n",
    "\n",
    "# Calculate quintiles\n",
    "agent_df['Income Quintile'] = pd.qcut(agent_df['Income'], 5, labels=False)\n",
    "\n",
    "# Calculate average dwelling by income quintile\n",
    "average_dwelling = agent_df.groupby('Income Quintile')['Inability'].mean().reset_index()\n",
    "\n",
    "# Create bar plot\n",
    "plt.figure(figsize=(10, 6))\n",
    "sns.barplot(x='Income Quintile', y='Inability', data=average_dwelling)\n",
    "plt.title('Average Inability by Income Quintile')\n",
    "plt.xlabel('Income Quintile')\n",
    "plt.ylabel('Average Inability')\n",
    "plt.show()"
   ]
  },
  {
   "cell_type": "code",
   "execution_count": 17,
   "metadata": {},
   "outputs": [
    {
     "data": {
      "image/png": "[encoded data removed]",
      "text/plain": [
       "<Figure size 720x432 with 1 Axes>"
      ]
     },
     "metadata": {
      "needs_background": "light"
     },
     "output_type": "display_data"
    }
   ],
   "source": [
    "import seaborn as sns\n",
    "import matplotlib.pyplot as plt\n",
    "\n",
    "# Assuming 'agent_df' is your DataFrame\n",
    "agent_df = model.datacollector.get_agent_vars_dataframe()\n",
    "\n",
    "# Calculate quintiles\n",
    "agent_df['Income Quintile'] = pd.qcut(agent_df['Income'], 5, labels=False)\n",
    "\n",
    "# Calculate average dwelling by income quintile\n",
    "average_dwelling = agent_df.groupby('Income Quintile')['Inability'].sum().reset_index()\n",
    "\n",
    "# Create bar plot\n",
    "plt.figure(figsize=(10, 6))\n",
    "sns.barplot(x='Income Quintile', y='Inability', data=average_dwelling)\n",
    "plt.title('Total Inability by Income Quintile')\n",
    "plt.xlabel('Income Quintile')\n",
    "plt.ylabel('Total Inability')\n",
    "plt.show()"
   ]
  },
  {
   "cell_type": "code",
   "execution_count": null,
   "metadata": {},
   "outputs": [],
   "source": []
  },
  {
   "cell_type": "code",
   "execution_count": null,
   "metadata": {},
   "outputs": [],
   "source": []
  }
 ],
 "metadata": {
  "kernelspec": {
   "display_name": "Python 3",
   "language": "python",
   "name": "python3"
  },
  "language_info": {
   "codemirror_mode": {
    "name": "ipython",
    "version": 3
   },
   "file_extension": ".py",
   "mimetype": "text/x-python",
   "name": "python",
   "nbconvert_exporter": "python",
   "pygments_lexer": "ipython3",
   "version": "3.8.10"
  },
  "orig_nbformat": 4
 },
 "nbformat": 4,
 "nbformat_minor": 2
}
