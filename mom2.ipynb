{
 "cells": [
  {
   "cell_type": "code",
   "execution_count": 46,
   "metadata": {},
   "outputs": [],
   "source": [
    "## The treshold adjusting "
   ]
  },
  {
   "cell_type": "code",
   "execution_count": 47,
   "metadata": {},
   "outputs": [],
   "source": [
    "from mesa import Agent, Model\n",
    "from mesa.time import RandomActivation\n",
    "from mesa.datacollection import DataCollector\n",
    "import numpy as np\n",
    "import scipy.stats as stats\n",
    "\n",
    "class WealthAgent(Agent):\n",
    "    def __init__(self, unique_id, model, disposable_income, dwelling, technology, bad_dwelling=False, inability=False, arrears=False):\n",
    "        super().__init__(unique_id, model)\n",
    "        self.disposable_income = disposable_income\n",
    "        self.dwelling = dwelling\n",
    "        self.technology = technology\n",
    "        self.bad_dwelling = bad_dwelling\n",
    "        self.inability = inability\n",
    "        self.arrears = arrears\n",
    "\n",
    "    @property\n",
    "    def energy_cost(self):\n",
    "        return self.model.energy_price * (self.dwelling + self.technology)\n",
    "\n",
    "    def check_arrears(self):\n",
    "        if self.disposable_income < self.energy_cost:\n",
    "            self.arrears = True\n",
    "        else:\n",
    "            self.arrears = False\n",
    "\n",
    "    def check_inability(self):\n",
    "        if self.energy_cost > self.model.inability_threshold * self.disposable_income:\n",
    "            self.inability = True\n",
    "        else:\n",
    "            self.inability = False\n",
    "\n",
    "    def step(self):\n",
    "        self.check_arrears()\n",
    "        self.check_inability()\n",
    "\n",
    "\n",
    "class WealthModel(Model):\n",
    "    @staticmethod\n",
    "    def calculate_gini(incomes):\n",
    "        incomes = np.sort(incomes)\n",
    "        n = len(incomes)\n",
    "        index = np.arange(1, n + 1)\n",
    "        return ((np.sum((2 * index - n  - 1) * incomes)) / (n * np.sum(incomes)))\n",
    "\n",
    "    @staticmethod\n",
    "    def generate_income_distribution(num_people, median_income, gini_target):\n",
    "        alpha = (gini_target + 1) / (2 - gini_target)\n",
    "        for _ in range(10000):\n",
    "            incomes = stats.gamma.rvs(alpha, scale=median_income/alpha, size=num_people)\n",
    "            gini_current = WealthModel.calculate_gini(incomes)\n",
    "            if np.isclose(gini_current, gini_target, atol=0.01):\n",
    "                return incomes\n",
    "            elif gini_current < gini_target:\n",
    "                alpha *= 0.9\n",
    "            else:\n",
    "                alpha *= 1.1\n",
    "        raise Exception(f\"Failed to reach target Gini coefficient in 1000 iterations. Current Gini: {gini_current}\")\n",
    "\n",
    "    def __init__(self, N, median_income, gini_target, rate, energy_price_x, share_fuel_x, energy_price_y, share_fuel_y, inability_target):\n",
    "        self.num_agents = N\n",
    "        self.median_income = median_income\n",
    "        self.gini_target = gini_target\n",
    "        self.rate = rate\n",
    "        self.energy_price_x = energy_price_x\n",
    "        self.share_fuel_x = share_fuel_x\n",
    "        self.energy_price_y = energy_price_y\n",
    "        self.share_fuel_y = share_fuel_y\n",
    "        self.schedule = RandomActivation(self)\n",
    "        self.datacollector = DataCollector(\n",
    "            agent_reporters={\"Dwelling\": \"dwelling\", \n",
    "                             \"Technology\": \"technology\", \n",
    "                             \"Income\": \"disposable_income\", \n",
    "                             \"Arrears\": \"arrears\", \n",
    "                             \"Inability\": \"inability\",\n",
    "                             \"EnergyCost\": \"energy_cost\"})\n",
    "        self.inability_target = inability_target\n",
    "        self.inability_threshold = 0.1  # Initialize inability_threshold to 0.1\n",
    "\n",
    "        incomes = self.generate_income_distribution(self.num_agents, self.median_income, self.gini_target)\n",
    "        \n",
    "        for i in range(self.num_agents):\n",
    "            a = WealthAgent(i, self, incomes[i], np.random.randint(500, 1800), np.random.randint(200, 600))\n",
    "            self.schedule.add(a)\n",
    "\n",
    "    @property\n",
    "    def energy_price(self):\n",
    "        return self.energy_price_x * self.share_fuel_x + self.energy_price_y * self.share_fuel_y\n",
    "    def adjust_inability_threshold(self):\n",
    "        inability_share = sum(agent.inability for agent in self.schedule.agents) / self.num_agents\n",
    "        if inability_share < self.inability_target and self.inability_threshold < 1:\n",
    "            self.inability_threshold += 0.001  # Decreased step size\n",
    "        elif inability_share > self.inability_target and self.inability_threshold > 0:\n",
    "            self.inability_threshold -= 0.001  # Decreased step size\n",
    "\n",
    "    def step(self):\n",
    "        self.schedule.step()\n",
    "        self.adjust_inability_threshold()\n",
    "        self.datacollector.collect(self)\n",
    "\n",
    "\n",
    "model = WealthModel(100, 60000, 0.3, [0.01, 0.05], 1, 0.5, 1, 0.5, 0.2)  # added the inability_target parameter\n",
    "\n",
    "for i in range(100):\n",
    "    model.step()\n",
    "\n",
    "agent_data = model.datacollector.get_agent_vars_dataframe()\n"
   ]
  },
  {
   "cell_type": "code",
   "execution_count": 48,
   "metadata": {},
   "outputs": [],
   "source": [
    "model = WealthModel(100, 3000, 0.5, [0.01, 0.05], 1, 0.5, 1, 0.5,0.1)\n",
    "\n",
    "for i in range(100):   # this is the simulation loop\n",
    "    model.step()\n",
    "\n",
    "agent_data = model.datacollector.get_agent_vars_dataframe()"
   ]
  },
  {
   "cell_type": "code",
   "execution_count": null,
   "metadata": {},
   "outputs": [],
   "source": []
  },
  {
   "cell_type": "code",
   "execution_count": 49,
   "metadata": {},
   "outputs": [
    {
     "data": {
      "text/plain": [
       "99"
      ]
     },
     "execution_count": 49,
     "metadata": {},
     "output_type": "execute_result"
    }
   ],
   "source": [
    "agent_data.Inability.tail(99).sum()"
   ]
  },
  {
   "cell_type": "code",
   "execution_count": null,
   "metadata": {},
   "outputs": [],
   "source": []
  }
 ],
 "metadata": {
  "kernelspec": {
   "display_name": "Python 3",
   "language": "python",
   "name": "python3"
  },
  "language_info": {
   "codemirror_mode": {
    "name": "ipython",
    "version": 3
   },
   "file_extension": ".py",
   "mimetype": "text/x-python",
   "name": "python",
   "nbconvert_exporter": "python",
   "pygments_lexer": "ipython3",
   "version": "3.8.10"
  },
  "orig_nbformat": 4
 },
 "nbformat": 4,
 "nbformat_minor": 2
}
