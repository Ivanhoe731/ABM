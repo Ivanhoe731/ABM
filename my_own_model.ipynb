{
 "cells": [
  {
   "cell_type": "code",
   "execution_count": 364,
   "metadata": {},
   "outputs": [],
   "source": [
    "from mesa import Agent, Model\n",
    "from mesa.time import RandomActivation\n",
    "from mesa.datacollection import DataCollector\n",
    "from IPython.display import clear_output\n",
    "import numpy as np\n",
    "import scipy.stats as stats\n",
    "import matplotlib.pyplot as plt\n",
    "import random\n",
    "import ipywidgets as widgets\n",
    "import pandas as pd\n",
    "\n",
    "\n",
    "dwellings_share = 0.15\n",
    "\n",
    "\n",
    "class WealthAgent(Agent):\n",
    "    def __init__(self, unique_id, model, disposable_income, dwelling, technology, bad_dwelling=False, inability=False, arrears=False):\n",
    "        super().__init__(unique_id, model)\n",
    "        self.disposable_income = disposable_income\n",
    "        self.dwelling = dwelling\n",
    "        self.technology = technology\n",
    "        self.bad_dwelling = bad_dwelling\n",
    "        self.inability = inability\n",
    "        self.arrears = arrears\n",
    "    \n",
    "    @property\n",
    "    def energy_cost(self):\n",
    "        \"\"\"Calculate and return the current energy cost for the agent.\"\"\"\n",
    "        # As per your description: energy_price * (dwelling + technology)\n",
    "        # We will need to access energy_price from the model.\n",
    "        return self.model.energy_price * (self.dwelling + self.technology)\n",
    "\n",
    "    def check_arrears(self):\n",
    "        \"\"\"Check if the agent has arrears and update the agent's status.\"\"\"\n",
    "        # As per your description: disposable_income < energy_price * (dwelling + technology)\n",
    "        if self.disposable_income < self.energy_cost:\n",
    "            self.arrears = True\n",
    "        else:\n",
    "            self.arrears = False\n",
    "\n",
    "    def check_inability(self):\n",
    "        \"\"\"Check if the agent has inability to keep home adequately warm and update the agent's status.\"\"\"\n",
    "        # As per your description: energy_cost > 0.1 * disposable_income\n",
    "        if self.energy_cost > 0.1 * self.disposable_income:\n",
    "            self.inability = True\n",
    "        else:\n",
    "            self.inability = False\n",
    "\n",
    "    def improve_dwelling_or_technology(self, improvement_budget):\n",
    "        \"\"\"Agent can improve their dwelling or technology if they have enough disposable income.\"\"\"\n",
    "        # We'll need to determine the specifics of how improvements affect dwelling and technology,\n",
    "        # and how much they cost.\n",
    "        pass\n",
    "\n",
    "    def step(self):\n",
    "        \"\"\"Define the agent's behavior in a single step of the model.\"\"\"\n",
    "        self.check_arrears()\n",
    "        self.check_inability()\n",
    "\n",
    "class GiniCalculationError(Exception):\n",
    "    pass\n",
    "\n",
    "class WealthModel(Model):\n",
    "\n",
    "    @classmethod\n",
    "    def calculate_gini(cls, incomes):\n",
    "        incomes = np.sort(incomes)\n",
    "        n = len(incomes)\n",
    "        index = np.arange(1, n + 1)\n",
    "        return ((np.sum((2 * index - n  - 1) * incomes)) / (n * np.sum(incomes)))\n",
    "\n",
    "    @classmethod\n",
    "    def generate_income_distribution(cls, num_people, median_income, gini_target):\n",
    "        alpha = (gini_target + 1) / (2 - gini_target)\n",
    "        for _ in range(10000):\n",
    "            incomes = stats.gamma.rvs(alpha, scale=median_income/alpha, size=num_people)\n",
    "            gini_current = cls.calculate_gini(incomes)\n",
    "            if np.isclose(gini_current, gini_target, atol=0.01):\n",
    "                return incomes\n",
    "            elif gini_current < gini_target:\n",
    "                alpha *= 0.9\n",
    "            else:\n",
    "                alpha *= 1.1\n",
    "\n",
    "        error_message = f\"Failed to reach target Gini coefficient in 1000 iterations. Current Gini: {gini_current}\"\n",
    "        raise GiniCalculationError(error_message)\n",
    "    \n",
    "\n",
    "    def assign_dwelling_and_technology(self):\n",
    "        # Generate enough dwelling and technology values for all agents\n",
    "        dwelling_values = np.sort(np.random.randint(500, 1800, self.num_agents))\n",
    "        technology_values = np.sort(np.random.randint(200, 600, self.num_agents))\n",
    "\n",
    "        incomes_check = [agent.disposable_income for agent in self.schedule.agents]\n",
    "        lower_threshold = np.percentile(incomes_check, 25)\n",
    "        upper_threshold = np.percentile(incomes_check, 75)\n",
    "\n",
    "        # Separate agents by income levels\n",
    "        low_income_agents = [a for a in self.schedule.agents if a.disposable_income < lower_threshold]\n",
    "        medium_income_agents = [a for a in self.schedule.agents if lower_threshold <= a.disposable_income < upper_threshold]\n",
    "        high_income_agents = [a for a in self.schedule.agents if a.disposable_income >= upper_threshold]\n",
    "\n",
    "\n",
    "        # Assign high dwelling and technology values to a proportion of each income group\n",
    "        for agents, proportion in zip([low_income_agents, medium_income_agents, high_income_agents], [0.6, 0.25, 0.15]):\n",
    "            num_high_values = int(proportion * len(agents))\n",
    "            for agent in np.random.choice(agents, num_high_values, replace=False):\n",
    "                if len(dwelling_values) > 0 and len(technology_values) > 0:\n",
    "                    agent.dwelling = dwelling_values[-1]\n",
    "                    agent.technology = technology_values[-1]\n",
    "                    dwelling_values = np.delete(dwelling_values, np.where(dwelling_values == agent.dwelling)[0][0])\n",
    "                    technology_values = np.delete(technology_values, np.where(technology_values == agent.technology)[0][0])\n",
    "\n",
    "        # Assign remaining dwelling and technology values randomly to the rest of the agents\n",
    "        remaining_agents = [agent for agent in self.schedule.agents if agent.dwelling == None]\n",
    "        for agent in remaining_agents:\n",
    "            if len(dwelling_values) > 0 and len(technology_values) > 0:\n",
    "                agent.dwelling = np.random.choice(dwelling_values)\n",
    "                dwelling_values = np.delete(dwelling_values, np.where(dwelling_values == agent.dwelling)[0][0])\n",
    "                agent.technology = np.random.choice(technology_values)\n",
    "                technology_values = np.delete(technology_values, np.where(technology_values == agent.technology)[0][0])\n",
    "\n",
    "\n",
    "\n",
    "    def __init__(self, N, median_income, gini_target, rate, energy_price_x, share_fuel_x, energy_price_y, share_fuel_y):\n",
    "        self.num_agents = N\n",
    "        self.median_income = median_income\n",
    "        self.gini_target = gini_target\n",
    "        self.rate = rate\n",
    "        self.energy_price_x = energy_price_x\n",
    "        self.share_fuel_x = share_fuel_x\n",
    "        self.energy_price_y = energy_price_y\n",
    "        self.share_fuel_y = share_fuel_y\n",
    "        self.schedule = RandomActivation(self)\n",
    "        self.datacollector = DataCollector(\n",
    "            # We can update what data to collect here later.\n",
    "        )\n",
    "\n",
    "        # Generate disposable incomes according to a gamma distribution shaped by the Gini coefficient\n",
    "        incomes = WealthModel.generate_income_distribution(self.num_agents, self.median_income, self.gini_target)\n",
    "\n",
    "\n",
    "        \n",
    "        # Create agents\n",
    "        for i in range(self.num_agents):\n",
    "            # We will update this section with the detailed logic for initializing\n",
    "            # agents' dwellings, and technologies.\n",
    "            a = WealthAgent(i, self, disposable_income=incomes[i], dwelling=None, technology=None)\n",
    "            self.schedule.add(a)\n",
    "\n",
    "        self.assign_dwelling_and_technology()\n",
    "\n",
    "        self.datacollector = DataCollector(\n",
    "            agent_reporters={\"Dwelling\": \"dwelling\", \n",
    "                             \"Technology\": \"technology\", \n",
    "                             \"Income\": \"disposable_income\",\n",
    "                             \"arrears\":\"arrears\",\n",
    "                             \"Inability\":\"inability\",\n",
    "                             \"EnergyCost\": \"energy_cost\",\n",
    "                            \"disp_utility\": lambda agent: agent.disposable_income - agent.energy_cost}\n",
    "        )\n",
    "\n",
    "    @property\n",
    "    def energy_price(self):\n",
    "        \"\"\"Calculate and return the current energy price in the model.\"\"\"\n",
    "        # As per your description: energy_price_x * share_fuel_x + energy_price_y * share_fuel_y\n",
    "        return self.energy_price_x * self.share_fuel_x + self.energy_price_y * self.share_fuel_y\n",
    "\n",
    "    def step(self):\n",
    "        \"\"\"Advance the model by one step.\"\"\"\n",
    "        self.datacollector.collect(self)\n",
    "        self.schedule.step()\n",
    "\n",
    "model = WealthModel(100, 50000, 0.5, [0.01, 0.05], 1, 0.5, 1, 0.5)\n",
    "\n",
    "for i in range(100):   # this is the simulation loop\n",
    "    model.step()\n",
    "\n",
    "\n",
    "\n",
    "agent_data = model.datacollector.get_agent_vars_dataframe()"
   ]
  },
  {
   "cell_type": "code",
   "execution_count": 365,
   "metadata": {},
   "outputs": [
    {
     "data": {
      "text/plain": [
       "array([False,  True])"
      ]
     },
     "execution_count": 365,
     "metadata": {},
     "output_type": "execute_result"
    }
   ],
   "source": [
    "agent_data.Inability.unique()"
   ]
  },
  {
   "cell_type": "code",
   "execution_count": 366,
   "metadata": {},
   "outputs": [
    {
     "data": {
      "text/html": [
       "<div>\n",
       "<style scoped>\n",
       "    .dataframe tbody tr th:only-of-type {\n",
       "        vertical-align: middle;\n",
       "    }\n",
       "\n",
       "    .dataframe tbody tr th {\n",
       "        vertical-align: top;\n",
       "    }\n",
       "\n",
       "    .dataframe thead th {\n",
       "        text-align: right;\n",
       "    }\n",
       "</style>\n",
       "<table border=\"1\" class=\"dataframe\">\n",
       "  <thead>\n",
       "    <tr style=\"text-align: right;\">\n",
       "      <th></th>\n",
       "      <th></th>\n",
       "      <th>Dwelling</th>\n",
       "      <th>Technology</th>\n",
       "      <th>Income</th>\n",
       "      <th>arrears</th>\n",
       "      <th>Inability</th>\n",
       "      <th>EnergyCost</th>\n",
       "      <th>disp_utility</th>\n",
       "    </tr>\n",
       "    <tr>\n",
       "      <th>Step</th>\n",
       "      <th>AgentID</th>\n",
       "      <th></th>\n",
       "      <th></th>\n",
       "      <th></th>\n",
       "      <th></th>\n",
       "      <th></th>\n",
       "      <th></th>\n",
       "      <th></th>\n",
       "    </tr>\n",
       "  </thead>\n",
       "  <tbody>\n",
       "    <tr>\n",
       "      <th rowspan=\"11\" valign=\"top\">99</th>\n",
       "      <th>38</th>\n",
       "      <td>1685</td>\n",
       "      <td>573</td>\n",
       "      <td>1713.487368</td>\n",
       "      <td>True</td>\n",
       "      <td>True</td>\n",
       "      <td>2258.0</td>\n",
       "      <td>-544.512632</td>\n",
       "    </tr>\n",
       "    <tr>\n",
       "      <th>65</th>\n",
       "      <td>1596</td>\n",
       "      <td>534</td>\n",
       "      <td>1604.671051</td>\n",
       "      <td>True</td>\n",
       "      <td>True</td>\n",
       "      <td>2130.0</td>\n",
       "      <td>-525.328949</td>\n",
       "    </tr>\n",
       "    <tr>\n",
       "      <th>87</th>\n",
       "      <td>1762</td>\n",
       "      <td>595</td>\n",
       "      <td>2177.067628</td>\n",
       "      <td>True</td>\n",
       "      <td>True</td>\n",
       "      <td>2357.0</td>\n",
       "      <td>-179.932372</td>\n",
       "    </tr>\n",
       "    <tr>\n",
       "      <th>36</th>\n",
       "      <td>1392</td>\n",
       "      <td>251</td>\n",
       "      <td>2083.497271</td>\n",
       "      <td>False</td>\n",
       "      <td>True</td>\n",
       "      <td>1643.0</td>\n",
       "      <td>440.497271</td>\n",
       "    </tr>\n",
       "    <tr>\n",
       "      <th>86</th>\n",
       "      <td>1206</td>\n",
       "      <td>216</td>\n",
       "      <td>2373.773800</td>\n",
       "      <td>False</td>\n",
       "      <td>True</td>\n",
       "      <td>1422.0</td>\n",
       "      <td>951.773800</td>\n",
       "    </tr>\n",
       "    <tr>\n",
       "      <th>...</th>\n",
       "      <td>...</td>\n",
       "      <td>...</td>\n",
       "      <td>...</td>\n",
       "      <td>...</td>\n",
       "      <td>...</td>\n",
       "      <td>...</td>\n",
       "      <td>...</td>\n",
       "    </tr>\n",
       "    <tr>\n",
       "      <th>20</th>\n",
       "      <td>613</td>\n",
       "      <td>324</td>\n",
       "      <td>127487.130192</td>\n",
       "      <td>False</td>\n",
       "      <td>False</td>\n",
       "      <td>937.0</td>\n",
       "      <td>126550.130192</td>\n",
       "    </tr>\n",
       "    <tr>\n",
       "      <th>32</th>\n",
       "      <td>1298</td>\n",
       "      <td>336</td>\n",
       "      <td>130220.213227</td>\n",
       "      <td>False</td>\n",
       "      <td>False</td>\n",
       "      <td>1634.0</td>\n",
       "      <td>128586.213227</td>\n",
       "    </tr>\n",
       "    <tr>\n",
       "      <th>60</th>\n",
       "      <td>1004</td>\n",
       "      <td>339</td>\n",
       "      <td>167739.178890</td>\n",
       "      <td>False</td>\n",
       "      <td>False</td>\n",
       "      <td>1343.0</td>\n",
       "      <td>166396.178890</td>\n",
       "    </tr>\n",
       "    <tr>\n",
       "      <th>18</th>\n",
       "      <td>961</td>\n",
       "      <td>295</td>\n",
       "      <td>208899.210280</td>\n",
       "      <td>False</td>\n",
       "      <td>False</td>\n",
       "      <td>1256.0</td>\n",
       "      <td>207643.210280</td>\n",
       "    </tr>\n",
       "    <tr>\n",
       "      <th>50</th>\n",
       "      <td>716</td>\n",
       "      <td>300</td>\n",
       "      <td>232648.258183</td>\n",
       "      <td>False</td>\n",
       "      <td>False</td>\n",
       "      <td>1016.0</td>\n",
       "      <td>231632.258183</td>\n",
       "    </tr>\n",
       "  </tbody>\n",
       "</table>\n",
       "<p>99 rows × 7 columns</p>\n",
       "</div>"
      ],
      "text/plain": [
       "              Dwelling  Technology         Income  arrears  Inability  \\\n",
       "Step AgentID                                                            \n",
       "99   38           1685         573    1713.487368     True       True   \n",
       "     65           1596         534    1604.671051     True       True   \n",
       "     87           1762         595    2177.067628     True       True   \n",
       "     36           1392         251    2083.497271    False       True   \n",
       "     86           1206         216    2373.773800    False       True   \n",
       "...                ...         ...            ...      ...        ...   \n",
       "     20            613         324  127487.130192    False      False   \n",
       "     32           1298         336  130220.213227    False      False   \n",
       "     60           1004         339  167739.178890    False      False   \n",
       "     18            961         295  208899.210280    False      False   \n",
       "     50            716         300  232648.258183    False      False   \n",
       "\n",
       "              EnergyCost   disp_utility  \n",
       "Step AgentID                             \n",
       "99   38           2258.0    -544.512632  \n",
       "     65           2130.0    -525.328949  \n",
       "     87           2357.0    -179.932372  \n",
       "     36           1643.0     440.497271  \n",
       "     86           1422.0     951.773800  \n",
       "...                  ...            ...  \n",
       "     20            937.0  126550.130192  \n",
       "     32           1634.0  128586.213227  \n",
       "     60           1343.0  166396.178890  \n",
       "     18           1256.0  207643.210280  \n",
       "     50           1016.0  231632.258183  \n",
       "\n",
       "[99 rows x 7 columns]"
      ]
     },
     "execution_count": 366,
     "metadata": {},
     "output_type": "execute_result"
    }
   ],
   "source": [
    "agent_data.tail(99).sort_values(['disp_utility'])"
   ]
  },
  {
   "cell_type": "code",
   "execution_count": 367,
   "metadata": {},
   "outputs": [],
   "source": [
    "sorted_agent_data = agent_data.tail(99).sort_values(by='disp_utility', key=lambda x: abs(x))"
   ]
  },
  {
   "cell_type": "code",
   "execution_count": 368,
   "metadata": {},
   "outputs": [
    {
     "data": {
      "text/html": [
       "<div>\n",
       "<style scoped>\n",
       "    .dataframe tbody tr th:only-of-type {\n",
       "        vertical-align: middle;\n",
       "    }\n",
       "\n",
       "    .dataframe tbody tr th {\n",
       "        vertical-align: top;\n",
       "    }\n",
       "\n",
       "    .dataframe thead th {\n",
       "        text-align: right;\n",
       "    }\n",
       "</style>\n",
       "<table border=\"1\" class=\"dataframe\">\n",
       "  <thead>\n",
       "    <tr style=\"text-align: right;\">\n",
       "      <th></th>\n",
       "      <th></th>\n",
       "      <th>Dwelling</th>\n",
       "      <th>Technology</th>\n",
       "      <th>Income</th>\n",
       "      <th>arrears</th>\n",
       "      <th>Inability</th>\n",
       "      <th>EnergyCost</th>\n",
       "      <th>disp_utility</th>\n",
       "    </tr>\n",
       "    <tr>\n",
       "      <th>Step</th>\n",
       "      <th>AgentID</th>\n",
       "      <th></th>\n",
       "      <th></th>\n",
       "      <th></th>\n",
       "      <th></th>\n",
       "      <th></th>\n",
       "      <th></th>\n",
       "      <th></th>\n",
       "    </tr>\n",
       "  </thead>\n",
       "  <tbody>\n",
       "    <tr>\n",
       "      <th rowspan=\"11\" valign=\"top\">99</th>\n",
       "      <th>87</th>\n",
       "      <td>1762</td>\n",
       "      <td>595</td>\n",
       "      <td>2177.067628</td>\n",
       "      <td>True</td>\n",
       "      <td>True</td>\n",
       "      <td>2357.0</td>\n",
       "      <td>-179.932372</td>\n",
       "    </tr>\n",
       "    <tr>\n",
       "      <th>36</th>\n",
       "      <td>1392</td>\n",
       "      <td>251</td>\n",
       "      <td>2083.497271</td>\n",
       "      <td>False</td>\n",
       "      <td>True</td>\n",
       "      <td>1643.0</td>\n",
       "      <td>440.497271</td>\n",
       "    </tr>\n",
       "    <tr>\n",
       "      <th>65</th>\n",
       "      <td>1596</td>\n",
       "      <td>534</td>\n",
       "      <td>1604.671051</td>\n",
       "      <td>True</td>\n",
       "      <td>True</td>\n",
       "      <td>2130.0</td>\n",
       "      <td>-525.328949</td>\n",
       "    </tr>\n",
       "    <tr>\n",
       "      <th>38</th>\n",
       "      <td>1685</td>\n",
       "      <td>573</td>\n",
       "      <td>1713.487368</td>\n",
       "      <td>True</td>\n",
       "      <td>True</td>\n",
       "      <td>2258.0</td>\n",
       "      <td>-544.512632</td>\n",
       "    </tr>\n",
       "    <tr>\n",
       "      <th>86</th>\n",
       "      <td>1206</td>\n",
       "      <td>216</td>\n",
       "      <td>2373.773800</td>\n",
       "      <td>False</td>\n",
       "      <td>True</td>\n",
       "      <td>1422.0</td>\n",
       "      <td>951.773800</td>\n",
       "    </tr>\n",
       "    <tr>\n",
       "      <th>...</th>\n",
       "      <td>...</td>\n",
       "      <td>...</td>\n",
       "      <td>...</td>\n",
       "      <td>...</td>\n",
       "      <td>...</td>\n",
       "      <td>...</td>\n",
       "      <td>...</td>\n",
       "    </tr>\n",
       "    <tr>\n",
       "      <th>20</th>\n",
       "      <td>613</td>\n",
       "      <td>324</td>\n",
       "      <td>127487.130192</td>\n",
       "      <td>False</td>\n",
       "      <td>False</td>\n",
       "      <td>937.0</td>\n",
       "      <td>126550.130192</td>\n",
       "    </tr>\n",
       "    <tr>\n",
       "      <th>32</th>\n",
       "      <td>1298</td>\n",
       "      <td>336</td>\n",
       "      <td>130220.213227</td>\n",
       "      <td>False</td>\n",
       "      <td>False</td>\n",
       "      <td>1634.0</td>\n",
       "      <td>128586.213227</td>\n",
       "    </tr>\n",
       "    <tr>\n",
       "      <th>60</th>\n",
       "      <td>1004</td>\n",
       "      <td>339</td>\n",
       "      <td>167739.178890</td>\n",
       "      <td>False</td>\n",
       "      <td>False</td>\n",
       "      <td>1343.0</td>\n",
       "      <td>166396.178890</td>\n",
       "    </tr>\n",
       "    <tr>\n",
       "      <th>18</th>\n",
       "      <td>961</td>\n",
       "      <td>295</td>\n",
       "      <td>208899.210280</td>\n",
       "      <td>False</td>\n",
       "      <td>False</td>\n",
       "      <td>1256.0</td>\n",
       "      <td>207643.210280</td>\n",
       "    </tr>\n",
       "    <tr>\n",
       "      <th>50</th>\n",
       "      <td>716</td>\n",
       "      <td>300</td>\n",
       "      <td>232648.258183</td>\n",
       "      <td>False</td>\n",
       "      <td>False</td>\n",
       "      <td>1016.0</td>\n",
       "      <td>231632.258183</td>\n",
       "    </tr>\n",
       "  </tbody>\n",
       "</table>\n",
       "<p>99 rows × 7 columns</p>\n",
       "</div>"
      ],
      "text/plain": [
       "              Dwelling  Technology         Income  arrears  Inability  \\\n",
       "Step AgentID                                                            \n",
       "99   87           1762         595    2177.067628     True       True   \n",
       "     36           1392         251    2083.497271    False       True   \n",
       "     65           1596         534    1604.671051     True       True   \n",
       "     38           1685         573    1713.487368     True       True   \n",
       "     86           1206         216    2373.773800    False       True   \n",
       "...                ...         ...            ...      ...        ...   \n",
       "     20            613         324  127487.130192    False      False   \n",
       "     32           1298         336  130220.213227    False      False   \n",
       "     60           1004         339  167739.178890    False      False   \n",
       "     18            961         295  208899.210280    False      False   \n",
       "     50            716         300  232648.258183    False      False   \n",
       "\n",
       "              EnergyCost   disp_utility  \n",
       "Step AgentID                             \n",
       "99   87           2357.0    -179.932372  \n",
       "     36           1643.0     440.497271  \n",
       "     65           2130.0    -525.328949  \n",
       "     38           2258.0    -544.512632  \n",
       "     86           1422.0     951.773800  \n",
       "...                  ...            ...  \n",
       "     20            937.0  126550.130192  \n",
       "     32           1634.0  128586.213227  \n",
       "     60           1343.0  166396.178890  \n",
       "     18           1256.0  207643.210280  \n",
       "     50           1016.0  231632.258183  \n",
       "\n",
       "[99 rows x 7 columns]"
      ]
     },
     "execution_count": 368,
     "metadata": {},
     "output_type": "execute_result"
    }
   ],
   "source": [
    "sorted_agent_data"
   ]
  },
  {
   "cell_type": "code",
   "execution_count": 369,
   "metadata": {},
   "outputs": [
    {
     "data": {
      "text/plain": [
       "Dwelling               1596\n",
       "Technology              534\n",
       "Income          1604.671051\n",
       "arrears                True\n",
       "Inability              True\n",
       "EnergyCost           2130.0\n",
       "disp_utility    -525.328949\n",
       "Name: (99, 65), dtype: object"
      ]
     },
     "execution_count": 369,
     "metadata": {},
     "output_type": "execute_result"
    }
   ],
   "source": [
    "agent_data.loc[agent_data.tail(99).sort_values(['Inability','Income','EnergyCost'])['Inability'].idxmax()]"
   ]
  },
  {
   "cell_type": "code",
   "execution_count": 370,
   "metadata": {},
   "outputs": [
    {
     "data": {
      "text/plain": [
       "18844.7591126785"
      ]
     },
     "execution_count": 370,
     "metadata": {},
     "output_type": "execute_result"
    }
   ],
   "source": [
    "agent_data[agent_data['Inability'] == True]['Income'].max()"
   ]
  },
  {
   "cell_type": "code",
   "execution_count": 371,
   "metadata": {},
   "outputs": [
    {
     "data": {
      "text/plain": [
       "1604.671051191763"
      ]
     },
     "execution_count": 371,
     "metadata": {},
     "output_type": "execute_result"
    }
   ],
   "source": [
    "agent_data[agent_data['Inability'] == False]['Income'].min()"
   ]
  },
  {
   "cell_type": "code",
   "execution_count": 372,
   "metadata": {},
   "outputs": [
    {
     "data": {
      "text/plain": [
       "0.3434343434343434"
      ]
     },
     "execution_count": 372,
     "metadata": {},
     "output_type": "execute_result"
    }
   ],
   "source": [
    "agent_data.Inability.tail(99).sum() / 99"
   ]
  },
  {
   "cell_type": "code",
   "execution_count": 373,
   "metadata": {},
   "outputs": [
    {
     "data": {
      "image/png": "[encoded data removed]",
      "text/plain": [
       "<Figure size 432x288 with 1 Axes>"
      ]
     },
     "metadata": {
      "needs_background": "light"
     },
     "output_type": "display_data"
    }
   ],
   "source": [
    "agent_data.reset_index().plot(kind='scatter', x='Income', y='EnergyCost')\n",
    "plt.show()"
   ]
  },
  {
   "cell_type": "code",
   "execution_count": 374,
   "metadata": {},
   "outputs": [
    {
     "data": {
      "image/png": "[encoded data removed]",
      "text/plain": [
       "<Figure size 432x288 with 1 Axes>"
      ]
     },
     "metadata": {
      "needs_background": "light"
     },
     "output_type": "display_data"
    }
   ],
   "source": [
    "agent_data[\"Income\"].hist(bins=30)\n",
    "plt.xlabel('Disposable Income')\n",
    "plt.ylabel('Number of Agents')\n",
    "plt.show()\n"
   ]
  },
  {
   "cell_type": "code",
   "execution_count": 375,
   "metadata": {},
   "outputs": [
    {
     "data": {
      "image/png": "[encoded data removed]",
      "text/plain": [
       "<Figure size 432x432 with 1 Axes>"
      ]
     },
     "metadata": {
      "needs_background": "light"
     },
     "output_type": "display_data"
    }
   ],
   "source": [
    "def plot_lorenz_curve(X, yummy_figs = (6, 6)):\n",
    "\n",
    "    X_sorted = np.sort(X)  # Sort the incomes\n",
    "    lorenz = np.cumsum(X_sorted) / np.sum(X_sorted)\n",
    "    lorenz = np.insert(lorenz, 0, 0)\n",
    "    lorenz[0], lorenz[-1]\n",
    "\n",
    "    fig, ax = plt.subplots(figsize=[yummy_figs[0],yummy_figs[1]])\n",
    "    ax.scatter(np.arange(lorenz.size)/(lorenz.size-1), lorenz, \n",
    "            marker='.', color='darkgreen', s=100)\n",
    "    ## line plot of equality\n",
    "    ax.plot([0,1], [0,1], color='k')\n",
    "\n",
    "plot_lorenz_curve(agent_data[\"Income\"])"
   ]
  },
  {
   "cell_type": "code",
   "execution_count": 376,
   "metadata": {},
   "outputs": [
    {
     "data": {
      "image/png": "[encoded data removed]",
      "text/plain": [
       "<Figure size 432x432 with 1 Axes>"
      ]
     },
     "metadata": {
      "needs_background": "light"
     },
     "output_type": "display_data"
    }
   ],
   "source": [
    "plot_lorenz_curve(agent_data[\"Income\"])"
   ]
  },
  {
   "cell_type": "code",
   "execution_count": 377,
   "metadata": {},
   "outputs": [
    {
     "data": {
      "image/png": "[encoded data removed]",
      "text/plain": [
       "<Figure size 864x432 with 2 Axes>"
      ]
     },
     "metadata": {
      "needs_background": "light"
     },
     "output_type": "display_data"
    },
    {
     "data": {
      "image/png": "[encoded data removed]",
      "text/plain": [
       "<Figure size 864x432 with 2 Axes>"
      ]
     },
     "metadata": {
      "needs_background": "light"
     },
     "output_type": "display_data"
    },
    {
     "data": {
      "image/png": "[encoded data removed]",
      "text/plain": [
       "<Figure size 864x432 with 2 Axes>"
      ]
     },
     "metadata": {
      "needs_background": "light"
     },
     "output_type": "display_data"
    }
   ],
   "source": [
    "import matplotlib.pyplot as plt\n",
    "import seaborn as sns\n",
    "\n",
    "# Group data by income\n",
    "data['IncomeGroup'] = pd.qcut(data['Income'], q=3, labels=[\"Low\", \"Medium\", \"High\"])\n",
    "\n",
    "# Plot histograms for 'Dwelling' and 'Technology' for each income group\n",
    "for group in [\"Low\", \"Medium\", \"High\"]:\n",
    "    group_data = data[data['IncomeGroup'] == group]\n",
    "    \n",
    "    fig, axs = plt.subplots(1, 2, figsize=(12, 6))\n",
    "\n",
    "    sns.histplot(data=group_data, x=\"Dwelling\", ax=axs[0])\n",
    "    axs[0].set_title(f'Dwelling - {group} income group')\n",
    "\n",
    "    sns.histplot(data=group_data, x=\"Technology\", ax=axs[1])\n",
    "    axs[1].set_title(f'Technology - {group} income group')\n",
    "\n",
    "    plt.tight_layout()\n",
    "    plt.show()\n"
   ]
  },
  {
   "cell_type": "code",
   "execution_count": 378,
   "metadata": {},
   "outputs": [
    {
     "data": {
      "image/png": "[encoded data removed]",
      "text/plain": [
       "<Figure size 648x864 with 3 Axes>"
      ]
     },
     "metadata": {
      "needs_background": "light"
     },
     "output_type": "display_data"
    }
   ],
   "source": [
    "import matplotlib.pyplot as plt\n",
    "\n",
    "# Instantiate the model\n",
    "model = WealthModel(N=1000, median_income=800, gini_target=0.2, \n",
    "                    rate=[0.01, 0.05], energy_price_x=1, share_fuel_x=0.5, \n",
    "                    energy_price_y=1, share_fuel_y=0.5)\n",
    "\n",
    "# Collect data\n",
    "incomes = [agent.disposable_income for agent in model.schedule.agents]\n",
    "dwellings = [agent.dwelling for agent in model.schedule.agents]\n",
    "technologies = [agent.technology for agent in model.schedule.agents]\n",
    "\n",
    "# Create subplots\n",
    "fig, axs = plt.subplots(3, 1, figsize=(9, 12))\n",
    "\n",
    "# Plot income distribution\n",
    "axs[0].hist(incomes, bins=30, color='blue', alpha=0.7)\n",
    "axs[0].set_title('Income distribution')\n",
    "axs[0].set_xlabel('Income')\n",
    "axs[0].set_ylabel('Number of Agents')\n",
    "\n",
    "# Plot dwelling values distribution\n",
    "axs[1].hist(dwellings, bins=30, color='green', alpha=0.7)\n",
    "axs[1].set_title('Dwelling values distribution')\n",
    "axs[1].set_xlabel('Dwelling value')\n",
    "axs[1].set_ylabel('Number of Agents')\n",
    "\n",
    "# Plot technology values distribution\n",
    "axs[2].hist(technologies, bins=30, color='red', alpha=0.7)\n",
    "axs[2].set_title('Technology values distribution')\n",
    "axs[2].set_xlabel('Technology value')\n",
    "axs[2].set_ylabel('Number of Agents')\n",
    "\n",
    "# Show plots\n",
    "plt.tight_layout()\n",
    "plt.show()\n"
   ]
  },
  {
   "cell_type": "code",
   "execution_count": 1,
   "metadata": {},
   "outputs": [
    {
     "ename": "TypeError",
     "evalue": "__init__() missing 1 required positional argument: 'dwelling'",
     "output_type": "error",
     "traceback": [
      "\u001b[1;31m---------------------------------------------------------------------------\u001b[0m",
      "\u001b[1;31mTypeError\u001b[0m                                 Traceback (most recent call last)",
      "\u001b[1;32mc:\\Users\\novak\\Desktop\\abm_model\\my_own_model.ipynb Cell 16\u001b[0m in \u001b[0;36m<cell line: 105>\u001b[1;34m()\u001b[0m\n\u001b[0;32m    <a href='vscode-notebook-cell:/c%3A/Users/novak/Desktop/abm_model/my_own_model.ipynb#X36sZmlsZQ%3D%3D?line=101'>102</a>\u001b[0m         \u001b[39mself\u001b[39m\u001b[39m.\u001b[39mdatacollector\u001b[39m.\u001b[39mcollect(\u001b[39mself\u001b[39m)\n\u001b[0;32m    <a href='vscode-notebook-cell:/c%3A/Users/novak/Desktop/abm_model/my_own_model.ipynb#X36sZmlsZQ%3D%3D?line=102'>103</a>\u001b[0m         \u001b[39mself\u001b[39m\u001b[39m.\u001b[39mschedule\u001b[39m.\u001b[39mstep()\n\u001b[1;32m--> <a href='vscode-notebook-cell:/c%3A/Users/novak/Desktop/abm_model/my_own_model.ipynb#X36sZmlsZQ%3D%3D?line=104'>105</a>\u001b[0m model \u001b[39m=\u001b[39m Country(\u001b[39m100\u001b[39;49m, \u001b[39m50000\u001b[39;49m, \u001b[39m0.5\u001b[39;49m, [\u001b[39m0.01\u001b[39;49m, \u001b[39m0.05\u001b[39;49m], \u001b[39m1\u001b[39;49m, \u001b[39m0.5\u001b[39;49m, \u001b[39m1\u001b[39;49m, \u001b[39m0.5\u001b[39;49m)\n\u001b[0;32m    <a href='vscode-notebook-cell:/c%3A/Users/novak/Desktop/abm_model/my_own_model.ipynb#X36sZmlsZQ%3D%3D?line=106'>107</a>\u001b[0m \u001b[39mfor\u001b[39;00m i \u001b[39min\u001b[39;00m \u001b[39mrange\u001b[39m(\u001b[39m100\u001b[39m):   \u001b[39m# this is the simulation loop\u001b[39;00m\n\u001b[0;32m    <a href='vscode-notebook-cell:/c%3A/Users/novak/Desktop/abm_model/my_own_model.ipynb#X36sZmlsZQ%3D%3D?line=107'>108</a>\u001b[0m     model\u001b[39m.\u001b[39mstep()\n",
      "\u001b[1;32mc:\\Users\\novak\\Desktop\\abm_model\\my_own_model.ipynb Cell 16\u001b[0m in \u001b[0;36mCountry.__init__\u001b[1;34m(self, N, median_income, gini_target, rate, energy_price_x, share_fuel_x, energy_price_y, share_fuel_y)\u001b[0m\n\u001b[0;32m     <a href='vscode-notebook-cell:/c%3A/Users/novak/Desktop/abm_model/my_own_model.ipynb#X36sZmlsZQ%3D%3D?line=77'>78</a>\u001b[0m \u001b[39m# Create agents\u001b[39;00m\n\u001b[0;32m     <a href='vscode-notebook-cell:/c%3A/Users/novak/Desktop/abm_model/my_own_model.ipynb#X36sZmlsZQ%3D%3D?line=78'>79</a>\u001b[0m \u001b[39mfor\u001b[39;00m i \u001b[39min\u001b[39;00m \u001b[39mrange\u001b[39m(\u001b[39mself\u001b[39m\u001b[39m.\u001b[39mpopulation):\n\u001b[0;32m     <a href='vscode-notebook-cell:/c%3A/Users/novak/Desktop/abm_model/my_own_model.ipynb#X36sZmlsZQ%3D%3D?line=79'>80</a>\u001b[0m     \u001b[39m# We will update this section with the detailed logic for initializing\u001b[39;00m\n\u001b[0;32m     <a href='vscode-notebook-cell:/c%3A/Users/novak/Desktop/abm_model/my_own_model.ipynb#X36sZmlsZQ%3D%3D?line=80'>81</a>\u001b[0m     \u001b[39m# agents' dwellings, and technologies.\u001b[39;00m\n\u001b[1;32m---> <a href='vscode-notebook-cell:/c%3A/Users/novak/Desktop/abm_model/my_own_model.ipynb#X36sZmlsZQ%3D%3D?line=81'>82</a>\u001b[0m     a \u001b[39m=\u001b[39m Household(i, \u001b[39mself\u001b[39;49m, disposable_income\u001b[39m=\u001b[39;49mincomes[i])\n\u001b[0;32m     <a href='vscode-notebook-cell:/c%3A/Users/novak/Desktop/abm_model/my_own_model.ipynb#X36sZmlsZQ%3D%3D?line=82'>83</a>\u001b[0m     \u001b[39mself\u001b[39m\u001b[39m.\u001b[39mschedule\u001b[39m.\u001b[39madd(a)\n\u001b[0;32m     <a href='vscode-notebook-cell:/c%3A/Users/novak/Desktop/abm_model/my_own_model.ipynb#X36sZmlsZQ%3D%3D?line=84'>85</a>\u001b[0m \u001b[39mself\u001b[39m\u001b[39m.\u001b[39mdatacollector \u001b[39m=\u001b[39m DataCollector(\n\u001b[0;32m     <a href='vscode-notebook-cell:/c%3A/Users/novak/Desktop/abm_model/my_own_model.ipynb#X36sZmlsZQ%3D%3D?line=85'>86</a>\u001b[0m     agent_reporters\u001b[39m=\u001b[39m{\u001b[39m\"\u001b[39m\u001b[39mDwelling\u001b[39m\u001b[39m\"\u001b[39m: \u001b[39m\"\u001b[39m\u001b[39mdwelling\u001b[39m\u001b[39m\"\u001b[39m, \n\u001b[0;32m     <a href='vscode-notebook-cell:/c%3A/Users/novak/Desktop/abm_model/my_own_model.ipynb#X36sZmlsZQ%3D%3D?line=86'>87</a>\u001b[0m                      \u001b[39m\"\u001b[39m\u001b[39mIncome\u001b[39m\u001b[39m\"\u001b[39m: \u001b[39m\"\u001b[39m\u001b[39mdisposable_income\u001b[39m\u001b[39m\"\u001b[39m,\n\u001b[1;32m   (...)\u001b[0m\n\u001b[0;32m     <a href='vscode-notebook-cell:/c%3A/Users/novak/Desktop/abm_model/my_own_model.ipynb#X36sZmlsZQ%3D%3D?line=90'>91</a>\u001b[0m                     \u001b[39m\"\u001b[39m\u001b[39mdisp_utility\u001b[39m\u001b[39m\"\u001b[39m: \u001b[39mlambda\u001b[39;00m agent: agent\u001b[39m.\u001b[39mdisposable_income \u001b[39m-\u001b[39m agent\u001b[39m.\u001b[39menergy_cost}\n\u001b[0;32m     <a href='vscode-notebook-cell:/c%3A/Users/novak/Desktop/abm_model/my_own_model.ipynb#X36sZmlsZQ%3D%3D?line=91'>92</a>\u001b[0m )\n",
      "\u001b[1;31mTypeError\u001b[0m: __init__() missing 1 required positional argument: 'dwelling'"
     ]
    }
   ],
   "source": [
    "from mesa import Agent, Model\n",
    "from mesa.time import RandomActivation\n",
    "from mesa.datacollection import DataCollector\n",
    "from IPython.display import clear_output\n",
    "import numpy as np\n",
    "import scipy.stats as stats\n",
    "import matplotlib.pyplot as plt\n",
    "import random\n",
    "import ipywidgets as widgets\n",
    "import pandas as pd\n",
    "\n",
    "\n",
    "class Household(Agent):\n",
    "    def __init__(self, unique_id, model, disposable_income, dwelling, bad_dwelling=False, inability=False, arrears=False):\n",
    "        super().__init__(unique_id, model)\n",
    "        self.disposable_income = disposable_income\n",
    "        self.dwelling = dwelling\n",
    "        self.bad_dwelling = bad_dwelling\n",
    "        self.inability = inability\n",
    "        self.arrears = arrears\n",
    "\n",
    "    def improve_dwelling(self, improvement_budget):\n",
    "        \"\"\"Agent can improve their dwelling or technology if they have enough disposable income.\"\"\"\n",
    "        # We'll need to determine the specifics of how improvements affect dwelling and technology,\n",
    "        # and how much they cost.\n",
    "        pass\n",
    "\n",
    "    def step(self):\n",
    "        \"\"\"Define the agent's behavior in a single step of the model.\"\"\"\n",
    "        self.check_arrears()\n",
    "        self.check_inability()\n",
    "\n",
    "class GiniCalculationError(Exception):\n",
    "    pass\n",
    "\n",
    "class Country(Model):\n",
    "\n",
    "    @classmethod\n",
    "    def calculate_gini(cls, incomes):\n",
    "        incomes = np.sort(incomes)\n",
    "        n = len(incomes)\n",
    "        index = np.arange(1, n + 1)\n",
    "        return ((np.sum((2 * index - n  - 1) * incomes)) / (n * np.sum(incomes)))\n",
    "\n",
    "    @classmethod\n",
    "    def generate_income_distribution(cls, population, median_income, gini_target):\n",
    "        alpha = (gini_target + 1) / (2 - gini_target)\n",
    "        for _ in range(10000):\n",
    "            incomes = stats.gamma.rvs(alpha, scale=median_income/alpha, size=population)\n",
    "            gini_current = cls.calculate_gini(incomes)\n",
    "            if np.isclose(gini_current, gini_target, atol=0.01):\n",
    "                return incomes\n",
    "            elif gini_current < gini_target:\n",
    "                alpha *= 0.9\n",
    "            else:\n",
    "                alpha *= 1.1\n",
    "\n",
    "        error_message = f\"Failed to reach target Gini coefficient in 1000 iterations. Current Gini: {gini_current}\"\n",
    "        raise GiniCalculationError(error_message)\n",
    "    \n",
    "    def __init__(self, N, median_income, gini_target, rate, energy_price_x, share_fuel_x, energy_price_y, share_fuel_y):\n",
    "        self.population = N\n",
    "        self.median_income = median_income\n",
    "        self.gini_target = gini_target\n",
    "        self.rate = rate\n",
    "        self.energy_price_x = energy_price_x\n",
    "        self.share_fuel_x = share_fuel_x\n",
    "        self.energy_price_y = energy_price_y\n",
    "        self.share_fuel_y = share_fuel_y\n",
    "        self.schedule = RandomActivation(self)\n",
    "        self.datacollector = DataCollector(\n",
    "            # We can update what data to collect here later.\n",
    "        )\n",
    "\n",
    "        # Generate disposable incomes according to a gamma distribution shaped by the Gini coefficient\n",
    "        incomes = Country.generate_income_distribution(self.population, self.median_income, self.gini_target)\n",
    "        \n",
    "        # Create agents\n",
    "        for i in range(self.population):\n",
    "            # We will update this section with the detailed logic for initializing\n",
    "            # agents' dwellings, and technologies.\n",
    "            a = Household(i, self, disposable_income=incomes[i])\n",
    "            self.schedule.add(a)\n",
    "\n",
    "        self.datacollector = DataCollector(\n",
    "            agent_reporters={\"Dwelling\": \"dwelling\", \n",
    "                             \"Income\": \"disposable_income\",\n",
    "                             \"arrears\":\"arrears\",\n",
    "                             \"Inability\":\"inability\",\n",
    "                             \"EnergyCost\": \"energy_cost\",\n",
    "                            \"disp_utility\": lambda agent: agent.disposable_income - agent.energy_cost}\n",
    "        )\n",
    "\n",
    "    @property\n",
    "    def energy_price(self):\n",
    "        \"\"\"Calculate and return the current energy price in the model.\"\"\"\n",
    "        # As per your description: energy_price_x * share_fuel_x + energy_price_y * share_fuel_y\n",
    "        return self.energy_price_x * self.share_fuel_x + self.energy_price_y * self.share_fuel_y\n",
    "\n",
    "    def step(self):\n",
    "        \"\"\"Advance the model by one step.\"\"\"\n",
    "        self.datacollector.collect(self)\n",
    "        self.schedule.step()\n",
    "\n",
    "model = Country(100, 50000, 0.5, [0.01, 0.05], 1, 0.5, 1, 0.5)\n",
    "\n",
    "for i in range(100):   # this is the simulation loop\n",
    "    model.step()\n",
    "\n",
    "\n",
    "\n",
    "agent_data = model.datacollector.get_agent_vars_dataframe()"
   ]
  },
  {
   "cell_type": "code",
   "execution_count": null,
   "metadata": {},
   "outputs": [],
   "source": []
  }
 ],
 "metadata": {
  "kernelspec": {
   "display_name": "Python 3",
   "language": "python",
   "name": "python3"
  },
  "language_info": {
   "codemirror_mode": {
    "name": "ipython",
    "version": 3
   },
   "file_extension": ".py",
   "mimetype": "text/x-python",
   "name": "python",
   "nbconvert_exporter": "python",
   "pygments_lexer": "ipython3",
   "version": "3.8.10"
  },
  "orig_nbformat": 4
 },
 "nbformat": 4,
 "nbformat_minor": 2
}
