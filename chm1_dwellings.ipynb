{
 "cells": [
  {
   "cell_type": "code",
   "execution_count": 725,
   "metadata": {},
   "outputs": [],
   "source": [
    "from mesa import Agent, Model\n",
    "from mesa.time import RandomActivation\n",
    "from mesa.datacollection import DataCollector\n",
    "import numpy as np\n",
    "import scipy.stats as stats\n",
    "import matplotlib.pyplot as plt\n",
    "import pandas as pd\n",
    "\n",
    "class Household(Agent):\n",
    "    def __init__(self, unique_id, model, disposable_income, dwelling, inability=False):\n",
    "        super().__init__(unique_id, model)\n",
    "        self.disposable_income = disposable_income\n",
    "        self.dwelling = dwelling\n",
    "        self.inability = inability\n",
    "        self.savings = 0  # savings is initialized as 0\n",
    "        self.arrears = 0\n",
    "\n",
    "    @property\n",
    "    def energy_cost(self):\n",
    "        \"\"\"Calculate and return the current energy cost for the agent.\"\"\"\n",
    "        return self.model.energy_price * (self.dwelling)\n",
    "        \n",
    "    def step(self):\n",
    "        \"\"\"Update the agent's savings in a step.\"\"\"\n",
    "        # Calculate energy costs\n",
    "        energy_costs = self.energy_cost\n",
    "\n",
    "        # Check if the agent is in arrears\n",
    "        if energy_costs > self.disposable_income * 0.3:  # now considering arrears if energy cost exceeds 60% of disposable income\n",
    "            self.arrears += energy_costs\n",
    "        else:\n",
    "            self.savings += self.disposable_income - energy_costs\n",
    "\n",
    "        # If the agent has arrears\n",
    "        if self.arrears > 0:\n",
    "            if self.savings >= self.arrears:  # and if savings can cover it\n",
    "                self.savings -= self.arrears\n",
    "                self.arrears = 0\n",
    "            else:  # if savings cannot cover it\n",
    "                self.arrears = self.arrears - self.savings  # set arrears to remaining amount\n",
    "                self.savings = 0\n",
    "\n",
    "        self.inability = self.energy_cost > self.disposable_income * 0.1  # agent is in inability state if energy costs exceed 10% of income\n",
    "\n",
    "        # Update disposable income based on growth rate\n",
    "        growth_rate = np.random.uniform(self.model.growth_boundaries[0], self.model.growth_boundaries[1])\n",
    "        self.disposable_income *= (1 + growth_rate)\n",
    "\n",
    "\n",
    "class Country(Model):\n",
    "    \n",
    "    @classmethod\n",
    "    def calculate_gini(cls, incomes):\n",
    "        incomes = np.sort(incomes)\n",
    "        n = len(incomes)\n",
    "        index = np.arange(1, n + 1)\n",
    "        return ((np.sum((2 * index - n  - 1) * incomes)) / (n * np.sum(incomes)))\n",
    "\n",
    "    @classmethod\n",
    "    def generate_income_distribution(cls, num_people, median_income, gini_target, lower_bound):\n",
    "        alpha = (gini_target + 1) / (2 - gini_target)\n",
    "        for _ in range(10000):\n",
    "            incomes = stats.gamma.rvs(alpha, scale=median_income/alpha, size=num_people)\n",
    "            incomes = np.clip(incomes, lower_bound, None)  # None means there is no upper bound\n",
    "            gini_current = cls.calculate_gini(incomes)\n",
    "            if np.isclose(gini_current, gini_target, atol=0.01):\n",
    "                return incomes\n",
    "            elif gini_current < gini_target:\n",
    "                alpha *= 0.9\n",
    "            else:\n",
    "                alpha *= 1.1\n",
    "\n",
    "        raise Exception(f\"Failed to reach target Gini coefficient in 1000 iterations. Current Gini: {gini_current}\")\n",
    "    \n",
    "    @staticmethod\n",
    "    def assign_inability(agents, inability_start):\n",
    "        \"\"\"\n",
    "        Assigns the inability to the agents.\n",
    "        \"\"\"\n",
    "        agents.sort(key=lambda x: x.disposable_income)\n",
    "\n",
    "        num_agents = len(agents)\n",
    "        num_unable = int(inability_start * num_agents)\n",
    "        inability_per_quintile = np.array([2, 1.6, 1.2, 0.8, 0])\n",
    "        inability_per_quintile *= num_unable / np.sum(inability_per_quintile)\n",
    "        inability_per_quintile = inability_per_quintile.astype(int)\n",
    "\n",
    "        assigned_unable = 0\n",
    "        for i in range(5):  # For each quintile\n",
    "            start = i * num_agents // 5\n",
    "            end = (i + 1) * num_agents // 5 if i < 4 else num_agents\n",
    "            quintile = agents[start:end]\n",
    "            num_unable_quintile = min(inability_per_quintile[i], len(quintile))\n",
    "            unable_agents = np.random.choice(quintile, num_unable_quintile, replace=False)\n",
    "            for agent in unable_agents:\n",
    "                agent.inability = True\n",
    "            assigned_unable += num_unable_quintile\n",
    "\n",
    "        # Assign remaining inability if any\n",
    "        i = 0\n",
    "        while assigned_unable < num_unable:\n",
    "            start = i * num_agents // 5\n",
    "            end = (i + 1) * num_agents // 5 if i < 4 else num_agents\n",
    "            quintile = [agent for agent in agents[start:end] if not agent.inability]\n",
    "            if quintile:\n",
    "                agent = np.random.choice(quintile)\n",
    "                agent.inability = True\n",
    "                assigned_unable += 1\n",
    "            else:\n",
    "                i += 1\n",
    "\n",
    "\n",
    "    @staticmethod\n",
    "    def assign_dwelling(agents, energy_price):\n",
    "        \"\"\"\n",
    "        Assigns the dwelling to the agents.\n",
    "        \"\"\"\n",
    "        buffer = 0.02  # 2% buffer or margin\n",
    "        for agent in agents:\n",
    "            min_dwelling, max_dwelling = 500, 2000\n",
    "            if agent.inability:\n",
    "                min_dwelling = max(min_dwelling, int(np.ceil((agent.disposable_income * (0.1 + buffer)) / energy_price)))\n",
    "            else:\n",
    "                max_dwelling = min(max_dwelling, int((agent.disposable_income * (0.1 - buffer)) / energy_price))\n",
    "\n",
    "            # Generate a list of feasible dwelling values\n",
    "            feasible_dwelling = list(range(min_dwelling, max_dwelling + 1))\n",
    "\n",
    "            # If the list is not empty, select a random dwelling from the list\n",
    "            if feasible_dwelling:\n",
    "                agent.dwelling = np.random.choice(feasible_dwelling)\n",
    "            else:\n",
    "                agent.dwelling = min_dwelling  # fallback to the min_dwelling if no other options\n",
    "\n",
    "\n",
    "\n",
    "    def __init__(self, N, median_income, min_disposal, gini_target, inability_target, growth_boundaries, prices, shares_p, growth_rate_lower_bound, growth_rate_upper_bound):\n",
    "        self.num_agents = N\n",
    "        self.median_income = median_income\n",
    "        self.min_disposal = min_disposal\n",
    "        self.gini_target = gini_target\n",
    "        self.inability_target = inability_target\n",
    "        self.growth_boundaries = growth_boundaries\n",
    "        self.prices = prices\n",
    "        self.shares_p = shares_p\n",
    "        self.growth_rate_lower_bound = growth_rate_lower_bound\n",
    "        self.growth_rate_upper_bound = growth_rate_upper_bound\n",
    "        # Other initialization code...\n",
    "        self.schedule = RandomActivation(self)\n",
    "        self.datacollector = DataCollector(\n",
    "        agent_reporters={\"Dwelling\": \"dwelling\", \n",
    "                        \"Income\": \"disposable_income\",\n",
    "                        \"Inability\": \"inability\",\n",
    "                        \"Savings\":\"savings\",\n",
    "                        \"Arrears\":\"arrears\",\n",
    "                        \"EnergyCost\": \"energy_cost\"},\n",
    "        model_reporters = {\n",
    "                        \"Inability Over Time\": lambda model: sum(agent.inability for agent in model.schedule.agents) / model.num_agents,\n",
    "                        \"Arrears Over Time\": lambda model: sum(agent.arrears for agent in model.schedule.agents) / model.num_agents,\n",
    "                        \"Energy Price\": lambda model: model.energy_price,\n",
    "                        \"Initial Energy Price\": lambda model: model.initial_energy_price\n",
    "                        })\n",
    "\n",
    "        # Generate disposable incomes and assign dwelling and technology\n",
    "        incomes = self.generate_income_distribution(self.num_agents, self.median_income, self.gini_target, self.min_disposal)\n",
    "\n",
    "        self.initial_energy_price = np.dot(self.prices, self.shares_p)\n",
    "\n",
    " \n",
    "        # Create agents\n",
    "        agents = []\n",
    "        for i in range(self.num_agents):\n",
    "            a = Household(i, self, disposable_income=incomes[i], dwelling=0, inability=False)\n",
    "            agents.append(a)\n",
    "\n",
    "        \n",
    "        self.assign_inability(agents, self.inability_target)\n",
    "        self.assign_dwelling(agents, self.energy_price)\n",
    "\n",
    "        # Add agents to the model\n",
    "        for a in agents:\n",
    "            self.schedule.add(a)\n",
    "\n",
    "    @property\n",
    "    def energy_price(self):\n",
    "        \"\"\"Calculate and return the current energy price.\"\"\"\n",
    "        return np.dot(self.prices, self.shares_p)\n",
    "\n",
    "    def step(self):\n",
    "        \"\"\"Advance the model by one step.\"\"\"\n",
    "        self.datacollector.collect(self)  # Collect data before updating the prices\n",
    "\n",
    "        # Update prices based on unique growth rates\n",
    "        growth_rates = np.random.uniform(self.growth_rate_lower_bound, self.growth_rate_upper_bound)\n",
    "        self.prices = np.maximum(0, self.prices * (1 + growth_rates))\n",
    "\n",
    "        self.schedule.step()"
   ]
  },
  {
   "cell_type": "code",
   "execution_count": 726,
   "metadata": {},
   "outputs": [],
   "source": [
    "# population, median_income, min_disposal, gini_target, inability_target, growth_boundaries:[], prices, shares_p, growth_rate_lower_bound, growth_rate_upper_bound"
   ]
  },
  {
   "cell_type": "code",
   "execution_count": 727,
   "metadata": {},
   "outputs": [],
   "source": [
    "\n",
    "model = Country(1000, 1700, 900, 0.30, 0.2, [-0.02,0.02], np.array([0.2, 0.06]), np.array([0.5, 0.5]), np.array([-0.01, -0.01]), np.array([0.01, 0.01]) )\n",
    "\n",
    " \n",
    "for i in range(84):\n",
    "    model.step()\n",
    "\n",
    "\n",
    "agent_data = model.datacollector.get_agent_vars_dataframe()\n",
    "model_data = model.datacollector.get_model_vars_dataframe()\n"
   ]
  },
  {
   "cell_type": "code",
   "execution_count": 728,
   "metadata": {},
   "outputs": [
    {
     "data": {
      "text/html": [
       "<div>\n",
       "<style scoped>\n",
       "    .dataframe tbody tr th:only-of-type {\n",
       "        vertical-align: middle;\n",
       "    }\n",
       "\n",
       "    .dataframe tbody tr th {\n",
       "        vertical-align: top;\n",
       "    }\n",
       "\n",
       "    .dataframe thead th {\n",
       "        text-align: right;\n",
       "    }\n",
       "</style>\n",
       "<table border=\"1\" class=\"dataframe\">\n",
       "  <thead>\n",
       "    <tr style=\"text-align: right;\">\n",
       "      <th></th>\n",
       "      <th></th>\n",
       "      <th>Dwelling</th>\n",
       "      <th>Income</th>\n",
       "      <th>Inability</th>\n",
       "      <th>Savings</th>\n",
       "      <th>Arrears</th>\n",
       "      <th>EnergyCost</th>\n",
       "    </tr>\n",
       "    <tr>\n",
       "      <th>Step</th>\n",
       "      <th>AgentID</th>\n",
       "      <th></th>\n",
       "      <th></th>\n",
       "      <th></th>\n",
       "      <th></th>\n",
       "      <th></th>\n",
       "      <th></th>\n",
       "    </tr>\n",
       "  </thead>\n",
       "  <tbody>\n",
       "    <tr>\n",
       "      <th rowspan=\"5\" valign=\"top\">0</th>\n",
       "      <th>5</th>\n",
       "      <td>1140</td>\n",
       "      <td>900.000000</td>\n",
       "      <td>True</td>\n",
       "      <td>0.000000</td>\n",
       "      <td>0.0</td>\n",
       "      <td>148.200000</td>\n",
       "    </tr>\n",
       "    <tr>\n",
       "      <th>10</th>\n",
       "      <td>522</td>\n",
       "      <td>900.000000</td>\n",
       "      <td>False</td>\n",
       "      <td>0.000000</td>\n",
       "      <td>0.0</td>\n",
       "      <td>67.860000</td>\n",
       "    </tr>\n",
       "    <tr>\n",
       "      <th>17</th>\n",
       "      <td>522</td>\n",
       "      <td>900.000000</td>\n",
       "      <td>False</td>\n",
       "      <td>0.000000</td>\n",
       "      <td>0.0</td>\n",
       "      <td>67.860000</td>\n",
       "    </tr>\n",
       "    <tr>\n",
       "      <th>19</th>\n",
       "      <td>1435</td>\n",
       "      <td>900.000000</td>\n",
       "      <td>True</td>\n",
       "      <td>0.000000</td>\n",
       "      <td>0.0</td>\n",
       "      <td>186.550000</td>\n",
       "    </tr>\n",
       "    <tr>\n",
       "      <th>22</th>\n",
       "      <td>528</td>\n",
       "      <td>900.000000</td>\n",
       "      <td>False</td>\n",
       "      <td>0.000000</td>\n",
       "      <td>0.0</td>\n",
       "      <td>68.640000</td>\n",
       "    </tr>\n",
       "    <tr>\n",
       "      <th>...</th>\n",
       "      <th>...</th>\n",
       "      <td>...</td>\n",
       "      <td>...</td>\n",
       "      <td>...</td>\n",
       "      <td>...</td>\n",
       "      <td>...</td>\n",
       "      <td>...</td>\n",
       "    </tr>\n",
       "    <tr>\n",
       "      <th rowspan=\"5\" valign=\"top\">83</th>\n",
       "      <th>367</th>\n",
       "      <td>1802</td>\n",
       "      <td>6606.011489</td>\n",
       "      <td>False</td>\n",
       "      <td>566873.205286</td>\n",
       "      <td>0.0</td>\n",
       "      <td>226.562499</td>\n",
       "    </tr>\n",
       "    <tr>\n",
       "      <th>769</th>\n",
       "      <td>1792</td>\n",
       "      <td>7528.470705</td>\n",
       "      <td>False</td>\n",
       "      <td>603355.291974</td>\n",
       "      <td>0.0</td>\n",
       "      <td>225.305215</td>\n",
       "    </tr>\n",
       "    <tr>\n",
       "      <th>151</th>\n",
       "      <td>619</td>\n",
       "      <td>7272.711285</td>\n",
       "      <td>False</td>\n",
       "      <td>598542.518129</td>\n",
       "      <td>0.0</td>\n",
       "      <td>77.825853</td>\n",
       "    </tr>\n",
       "    <tr>\n",
       "      <th>920</th>\n",
       "      <td>1942</td>\n",
       "      <td>8409.707398</td>\n",
       "      <td>False</td>\n",
       "      <td>720538.405783</td>\n",
       "      <td>0.0</td>\n",
       "      <td>244.164469</td>\n",
       "    </tr>\n",
       "    <tr>\n",
       "      <th>187</th>\n",
       "      <td>1587</td>\n",
       "      <td>10593.890723</td>\n",
       "      <td>False</td>\n",
       "      <td>744964.099894</td>\n",
       "      <td>0.0</td>\n",
       "      <td>199.530902</td>\n",
       "    </tr>\n",
       "  </tbody>\n",
       "</table>\n",
       "<p>84000 rows × 6 columns</p>\n",
       "</div>"
      ],
      "text/plain": [
       "              Dwelling        Income  Inability        Savings  Arrears  \\\n",
       "Step AgentID                                                              \n",
       "0    5            1140    900.000000       True       0.000000      0.0   \n",
       "     10            522    900.000000      False       0.000000      0.0   \n",
       "     17            522    900.000000      False       0.000000      0.0   \n",
       "     19           1435    900.000000       True       0.000000      0.0   \n",
       "     22            528    900.000000      False       0.000000      0.0   \n",
       "...                ...           ...        ...            ...      ...   \n",
       "83   367          1802   6606.011489      False  566873.205286      0.0   \n",
       "     769          1792   7528.470705      False  603355.291974      0.0   \n",
       "     151           619   7272.711285      False  598542.518129      0.0   \n",
       "     920          1942   8409.707398      False  720538.405783      0.0   \n",
       "     187          1587  10593.890723      False  744964.099894      0.0   \n",
       "\n",
       "              EnergyCost  \n",
       "Step AgentID              \n",
       "0    5        148.200000  \n",
       "     10        67.860000  \n",
       "     17        67.860000  \n",
       "     19       186.550000  \n",
       "     22        68.640000  \n",
       "...                  ...  \n",
       "83   367      226.562499  \n",
       "     769      225.305215  \n",
       "     151       77.825853  \n",
       "     920      244.164469  \n",
       "     187      199.530902  \n",
       "\n",
       "[84000 rows x 6 columns]"
      ]
     },
     "execution_count": 728,
     "metadata": {},
     "output_type": "execute_result"
    }
   ],
   "source": [
    "agent_data"
   ]
  },
  {
   "cell_type": "code",
   "execution_count": 730,
   "metadata": {},
   "outputs": [
    {
     "data": {
      "application/vnd.plotly.v1+json": {
       "config": {
        "plotlyServerURL": "https://plot.ly"
       },
       "data": [
        {
         "mode": "lines",
         "type": "scatter",
         "x": [
          0,
          1,
          2,
          3,
          4,
          5,
          6,
          7,
          8,
          9,
          10,
          11,
          12,
          13,
          14,
          15,
          16,
          17,
          18,
          19,
          20,
          21,
          22,
          23,
          24,
          25,
          26,
          27,
          28,
          29,
          30,
          31,
          32,
          33,
          34,
          35,
          36,
          37,
          38,
          39,
          40,
          41,
          42,
          43,
          44,
          45,
          46,
          47,
          48,
          49,
          50,
          51,
          52,
          53,
          54,
          55,
          56,
          57,
          58,
          59,
          60,
          61,
          62,
          63,
          64,
          65,
          66,
          67,
          68,
          69,
          70,
          71,
          72,
          73,
          74,
          75,
          76,
          77,
          78,
          79,
          80,
          81,
          82,
          83
         ],
         "y": [
          0.2,
          0.2,
          0.2,
          0.2,
          0.2,
          0.2,
          0.2,
          0.2,
          0.2,
          0.2,
          0.2,
          0.2,
          0.2,
          0.2,
          0.2,
          0.2,
          0.2,
          0.2,
          0.2,
          0.2,
          0.2,
          0.2,
          0.2,
          0.2,
          0.2,
          0.2,
          0.2,
          0.2,
          0.2,
          0.2,
          0.2,
          0.2,
          0.2,
          0.2,
          0.2,
          0.2,
          0.2,
          0.2,
          0.2,
          0.2,
          0.2,
          0.2,
          0.2,
          0.2,
          0.2,
          0.2,
          0.2,
          0.2,
          0.2,
          0.2,
          0.2,
          0.2,
          0.2,
          0.2,
          0.2,
          0.201,
          0.201,
          0.201,
          0.201,
          0.201,
          0.201,
          0.201,
          0.2,
          0.2,
          0.2,
          0.2,
          0.201,
          0.201,
          0.201,
          0.201,
          0.199,
          0.199,
          0.199,
          0.199,
          0.198,
          0.199,
          0.199,
          0.199,
          0.2,
          0.199,
          0.2,
          0.202,
          0.201,
          0.201
         ]
        }
       ],
       "layout": {
        "template": {
         "data": {
          "bar": [
           {
            "error_x": {
             "color": "#2a3f5f"
            },
            "error_y": {
             "color": "#2a3f5f"
            },
            "marker": {
             "line": {
              "color": "#E5ECF6",
              "width": 0.5
             },
             "pattern": {
              "fillmode": "overlay",
              "size": 10,
              "solidity": 0.2
             }
            },
            "type": "bar"
           }
          ],
          "barpolar": [
           {
            "marker": {
             "line": {
              "color": "#E5ECF6",
              "width": 0.5
             },
             "pattern": {
              "fillmode": "overlay",
              "size": 10,
              "solidity": 0.2
             }
            },
            "type": "barpolar"
           }
          ],
          "carpet": [
           {
            "aaxis": {
             "endlinecolor": "#2a3f5f",
             "gridcolor": "white",
             "linecolor": "white",
             "minorgridcolor": "white",
             "startlinecolor": "#2a3f5f"
            },
            "baxis": {
             "endlinecolor": "#2a3f5f",
             "gridcolor": "white",
             "linecolor": "white",
             "minorgridcolor": "white",
             "startlinecolor": "#2a3f5f"
            },
            "type": "carpet"
           }
          ],
          "choropleth": [
           {
            "colorbar": {
             "outlinewidth": 0,
             "ticks": ""
            },
            "type": "choropleth"
           }
          ],
          "contour": [
           {
            "colorbar": {
             "outlinewidth": 0,
             "ticks": ""
            },
            "colorscale": [
             [
              0,
              "#0d0887"
             ],
             [
              0.1111111111111111,
              "#46039f"
             ],
             [
              0.2222222222222222,
              "#7201a8"
             ],
             [
              0.3333333333333333,
              "#9c179e"
             ],
             [
              0.4444444444444444,
              "#bd3786"
             ],
             [
              0.5555555555555556,
              "#d8576b"
             ],
             [
              0.6666666666666666,
              "#ed7953"
             ],
             [
              0.7777777777777778,
              "#fb9f3a"
             ],
             [
              0.8888888888888888,
              "#fdca26"
             ],
             [
              1,
              "#f0f921"
             ]
            ],
            "type": "contour"
           }
          ],
          "contourcarpet": [
           {
            "colorbar": {
             "outlinewidth": 0,
             "ticks": ""
            },
            "type": "contourcarpet"
           }
          ],
          "heatmap": [
           {
            "colorbar": {
             "outlinewidth": 0,
             "ticks": ""
            },
            "colorscale": [
             [
              0,
              "#0d0887"
             ],
             [
              0.1111111111111111,
              "#46039f"
             ],
             [
              0.2222222222222222,
              "#7201a8"
             ],
             [
              0.3333333333333333,
              "#9c179e"
             ],
             [
              0.4444444444444444,
              "#bd3786"
             ],
             [
              0.5555555555555556,
              "#d8576b"
             ],
             [
              0.6666666666666666,
              "#ed7953"
             ],
             [
              0.7777777777777778,
              "#fb9f3a"
             ],
             [
              0.8888888888888888,
              "#fdca26"
             ],
             [
              1,
              "#f0f921"
             ]
            ],
            "type": "heatmap"
           }
          ],
          "heatmapgl": [
           {
            "colorbar": {
             "outlinewidth": 0,
             "ticks": ""
            },
            "colorscale": [
             [
              0,
              "#0d0887"
             ],
             [
              0.1111111111111111,
              "#46039f"
             ],
             [
              0.2222222222222222,
              "#7201a8"
             ],
             [
              0.3333333333333333,
              "#9c179e"
             ],
             [
              0.4444444444444444,
              "#bd3786"
             ],
             [
              0.5555555555555556,
              "#d8576b"
             ],
             [
              0.6666666666666666,
              "#ed7953"
             ],
             [
              0.7777777777777778,
              "#fb9f3a"
             ],
             [
              0.8888888888888888,
              "#fdca26"
             ],
             [
              1,
              "#f0f921"
             ]
            ],
            "type": "heatmapgl"
           }
          ],
          "histogram": [
           {
            "marker": {
             "pattern": {
              "fillmode": "overlay",
              "size": 10,
              "solidity": 0.2
             }
            },
            "type": "histogram"
           }
          ],
          "histogram2d": [
           {
            "colorbar": {
             "outlinewidth": 0,
             "ticks": ""
            },
            "colorscale": [
             [
              0,
              "#0d0887"
             ],
             [
              0.1111111111111111,
              "#46039f"
             ],
             [
              0.2222222222222222,
              "#7201a8"
             ],
             [
              0.3333333333333333,
              "#9c179e"
             ],
             [
              0.4444444444444444,
              "#bd3786"
             ],
             [
              0.5555555555555556,
              "#d8576b"
             ],
             [
              0.6666666666666666,
              "#ed7953"
             ],
             [
              0.7777777777777778,
              "#fb9f3a"
             ],
             [
              0.8888888888888888,
              "#fdca26"
             ],
             [
              1,
              "#f0f921"
             ]
            ],
            "type": "histogram2d"
           }
          ],
          "histogram2dcontour": [
           {
            "colorbar": {
             "outlinewidth": 0,
             "ticks": ""
            },
            "colorscale": [
             [
              0,
              "#0d0887"
             ],
             [
              0.1111111111111111,
              "#46039f"
             ],
             [
              0.2222222222222222,
              "#7201a8"
             ],
             [
              0.3333333333333333,
              "#9c179e"
             ],
             [
              0.4444444444444444,
              "#bd3786"
             ],
             [
              0.5555555555555556,
              "#d8576b"
             ],
             [
              0.6666666666666666,
              "#ed7953"
             ],
             [
              0.7777777777777778,
              "#fb9f3a"
             ],
             [
              0.8888888888888888,
              "#fdca26"
             ],
             [
              1,
              "#f0f921"
             ]
            ],
            "type": "histogram2dcontour"
           }
          ],
          "mesh3d": [
           {
            "colorbar": {
             "outlinewidth": 0,
             "ticks": ""
            },
            "type": "mesh3d"
           }
          ],
          "parcoords": [
           {
            "line": {
             "colorbar": {
              "outlinewidth": 0,
              "ticks": ""
             }
            },
            "type": "parcoords"
           }
          ],
          "pie": [
           {
            "automargin": true,
            "type": "pie"
           }
          ],
          "scatter": [
           {
            "fillpattern": {
             "fillmode": "overlay",
             "size": 10,
             "solidity": 0.2
            },
            "type": "scatter"
           }
          ],
          "scatter3d": [
           {
            "line": {
             "colorbar": {
              "outlinewidth": 0,
              "ticks": ""
             }
            },
            "marker": {
             "colorbar": {
              "outlinewidth": 0,
              "ticks": ""
             }
            },
            "type": "scatter3d"
           }
          ],
          "scattercarpet": [
           {
            "marker": {
             "colorbar": {
              "outlinewidth": 0,
              "ticks": ""
             }
            },
            "type": "scattercarpet"
           }
          ],
          "scattergeo": [
           {
            "marker": {
             "colorbar": {
              "outlinewidth": 0,
              "ticks": ""
             }
            },
            "type": "scattergeo"
           }
          ],
          "scattergl": [
           {
            "marker": {
             "colorbar": {
              "outlinewidth": 0,
              "ticks": ""
             }
            },
            "type": "scattergl"
           }
          ],
          "scattermapbox": [
           {
            "marker": {
             "colorbar": {
              "outlinewidth": 0,
              "ticks": ""
             }
            },
            "type": "scattermapbox"
           }
          ],
          "scatterpolar": [
           {
            "marker": {
             "colorbar": {
              "outlinewidth": 0,
              "ticks": ""
             }
            },
            "type": "scatterpolar"
           }
          ],
          "scatterpolargl": [
           {
            "marker": {
             "colorbar": {
              "outlinewidth": 0,
              "ticks": ""
             }
            },
            "type": "scatterpolargl"
           }
          ],
          "scatterternary": [
           {
            "marker": {
             "colorbar": {
              "outlinewidth": 0,
              "ticks": ""
             }
            },
            "type": "scatterternary"
           }
          ],
          "surface": [
           {
            "colorbar": {
             "outlinewidth": 0,
             "ticks": ""
            },
            "colorscale": [
             [
              0,
              "#0d0887"
             ],
             [
              0.1111111111111111,
              "#46039f"
             ],
             [
              0.2222222222222222,
              "#7201a8"
             ],
             [
              0.3333333333333333,
              "#9c179e"
             ],
             [
              0.4444444444444444,
              "#bd3786"
             ],
             [
              0.5555555555555556,
              "#d8576b"
             ],
             [
              0.6666666666666666,
              "#ed7953"
             ],
             [
              0.7777777777777778,
              "#fb9f3a"
             ],
             [
              0.8888888888888888,
              "#fdca26"
             ],
             [
              1,
              "#f0f921"
             ]
            ],
            "type": "surface"
           }
          ],
          "table": [
           {
            "cells": {
             "fill": {
              "color": "#EBF0F8"
             },
             "line": {
              "color": "white"
             }
            },
            "header": {
             "fill": {
              "color": "#C8D4E3"
             },
             "line": {
              "color": "white"
             }
            },
            "type": "table"
           }
          ]
         },
         "layout": {
          "annotationdefaults": {
           "arrowcolor": "#2a3f5f",
           "arrowhead": 0,
           "arrowwidth": 1
          },
          "autotypenumbers": "strict",
          "coloraxis": {
           "colorbar": {
            "outlinewidth": 0,
            "ticks": ""
           }
          },
          "colorscale": {
           "diverging": [
            [
             0,
             "#8e0152"
            ],
            [
             0.1,
             "#c51b7d"
            ],
            [
             0.2,
             "#de77ae"
            ],
            [
             0.3,
             "#f1b6da"
            ],
            [
             0.4,
             "#fde0ef"
            ],
            [
             0.5,
             "#f7f7f7"
            ],
            [
             0.6,
             "#e6f5d0"
            ],
            [
             0.7,
             "#b8e186"
            ],
            [
             0.8,
             "#7fbc41"
            ],
            [
             0.9,
             "#4d9221"
            ],
            [
             1,
             "#276419"
            ]
           ],
           "sequential": [
            [
             0,
             "#0d0887"
            ],
            [
             0.1111111111111111,
             "#46039f"
            ],
            [
             0.2222222222222222,
             "#7201a8"
            ],
            [
             0.3333333333333333,
             "#9c179e"
            ],
            [
             0.4444444444444444,
             "#bd3786"
            ],
            [
             0.5555555555555556,
             "#d8576b"
            ],
            [
             0.6666666666666666,
             "#ed7953"
            ],
            [
             0.7777777777777778,
             "#fb9f3a"
            ],
            [
             0.8888888888888888,
             "#fdca26"
            ],
            [
             1,
             "#f0f921"
            ]
           ],
           "sequentialminus": [
            [
             0,
             "#0d0887"
            ],
            [
             0.1111111111111111,
             "#46039f"
            ],
            [
             0.2222222222222222,
             "#7201a8"
            ],
            [
             0.3333333333333333,
             "#9c179e"
            ],
            [
             0.4444444444444444,
             "#bd3786"
            ],
            [
             0.5555555555555556,
             "#d8576b"
            ],
            [
             0.6666666666666666,
             "#ed7953"
            ],
            [
             0.7777777777777778,
             "#fb9f3a"
            ],
            [
             0.8888888888888888,
             "#fdca26"
            ],
            [
             1,
             "#f0f921"
            ]
           ]
          },
          "colorway": [
           "#636efa",
           "#EF553B",
           "#00cc96",
           "#ab63fa",
           "#FFA15A",
           "#19d3f3",
           "#FF6692",
           "#B6E880",
           "#FF97FF",
           "#FECB52"
          ],
          "font": {
           "color": "#2a3f5f"
          },
          "geo": {
           "bgcolor": "white",
           "lakecolor": "white",
           "landcolor": "#E5ECF6",
           "showlakes": true,
           "showland": true,
           "subunitcolor": "white"
          },
          "hoverlabel": {
           "align": "left"
          },
          "hovermode": "closest",
          "mapbox": {
           "style": "light"
          },
          "paper_bgcolor": "white",
          "plot_bgcolor": "#E5ECF6",
          "polar": {
           "angularaxis": {
            "gridcolor": "white",
            "linecolor": "white",
            "ticks": ""
           },
           "bgcolor": "#E5ECF6",
           "radialaxis": {
            "gridcolor": "white",
            "linecolor": "white",
            "ticks": ""
           }
          },
          "scene": {
           "xaxis": {
            "backgroundcolor": "#E5ECF6",
            "gridcolor": "white",
            "gridwidth": 2,
            "linecolor": "white",
            "showbackground": true,
            "ticks": "",
            "zerolinecolor": "white"
           },
           "yaxis": {
            "backgroundcolor": "#E5ECF6",
            "gridcolor": "white",
            "gridwidth": 2,
            "linecolor": "white",
            "showbackground": true,
            "ticks": "",
            "zerolinecolor": "white"
           },
           "zaxis": {
            "backgroundcolor": "#E5ECF6",
            "gridcolor": "white",
            "gridwidth": 2,
            "linecolor": "white",
            "showbackground": true,
            "ticks": "",
            "zerolinecolor": "white"
           }
          },
          "shapedefaults": {
           "line": {
            "color": "#2a3f5f"
           }
          },
          "ternary": {
           "aaxis": {
            "gridcolor": "white",
            "linecolor": "white",
            "ticks": ""
           },
           "baxis": {
            "gridcolor": "white",
            "linecolor": "white",
            "ticks": ""
           },
           "bgcolor": "#E5ECF6",
           "caxis": {
            "gridcolor": "white",
            "linecolor": "white",
            "ticks": ""
           }
          },
          "title": {
           "x": 0.05
          },
          "xaxis": {
           "automargin": true,
           "gridcolor": "white",
           "linecolor": "white",
           "ticks": "",
           "title": {
            "standoff": 15
           },
           "zerolinecolor": "white",
           "zerolinewidth": 2
          },
          "yaxis": {
           "automargin": true,
           "gridcolor": "white",
           "linecolor": "white",
           "ticks": "",
           "title": {
            "standoff": 15
           },
           "zerolinecolor": "white",
           "zerolinewidth": 2
          }
         }
        },
        "title": {
         "text": "Average inability over time"
        },
        "xaxis": {
         "title": {
          "text": "Time (steps)"
         }
        },
        "yaxis": {
         "title": {
          "text": "Average inability"
         }
        }
       }
      }
     },
     "metadata": {},
     "output_type": "display_data"
    }
   ],
   "source": [
    "import plotly.graph_objects as go\n",
    "\n",
    "# Assume that `model` is the instance of your model\n",
    "model_df = model.datacollector.get_model_vars_dataframe()\n",
    "\n",
    "# Create a line plot\n",
    "fig = go.Figure(data=go.Scatter(x=model_df.index, y=model_df['Inability Over Time'], mode='lines'))\n",
    "\n",
    "# Set labels and title\n",
    "fig.update_layout(title='Average inability over time', xaxis_title='Time (steps)', yaxis_title='Average inability')\n",
    "\n",
    "# Show plot\n",
    "fig.show()\n"
   ]
  },
  {
   "cell_type": "code",
   "execution_count": 731,
   "metadata": {},
   "outputs": [],
   "source": [
    "agent_data = model.datacollector.get_agent_vars_dataframe()\n",
    "arrears_data = agent_data['Arrears']\n"
   ]
  },
  {
   "cell_type": "code",
   "execution_count": 732,
   "metadata": {},
   "outputs": [
    {
     "data": {
      "application/vnd.plotly.v1+json": {
       "config": {
        "plotlyServerURL": "https://plot.ly"
       },
       "data": [
        {
         "mode": "lines",
         "type": "scatter",
         "x": [
          0,
          1,
          2,
          3,
          4,
          5,
          6,
          7,
          8,
          9,
          10,
          11,
          12,
          13,
          14,
          15,
          16,
          17,
          18,
          19,
          20,
          21,
          22,
          23,
          24,
          25,
          26,
          27,
          28,
          29,
          30,
          31,
          32,
          33,
          34,
          35,
          36,
          37,
          38,
          39,
          40,
          41,
          42,
          43,
          44,
          45,
          46,
          47,
          48,
          49,
          50,
          51,
          52,
          53,
          54,
          55,
          56,
          57,
          58,
          59,
          60,
          61,
          62,
          63,
          64,
          65,
          66,
          67,
          68,
          69,
          70,
          71,
          72,
          73,
          74,
          75,
          76,
          77,
          78,
          79,
          80,
          81,
          82,
          83
         ],
         "y": [
          0,
          0,
          0,
          0,
          0,
          0,
          0,
          0,
          0,
          0,
          0,
          0,
          0,
          0,
          0,
          0,
          0,
          0,
          0,
          0,
          0,
          0,
          0,
          0,
          0,
          0,
          0,
          0,
          0,
          0,
          0,
          0,
          0,
          0,
          0,
          0,
          0,
          0,
          0,
          0,
          0,
          0,
          0,
          0,
          0,
          0,
          0,
          0,
          0,
          0.23268812812495918,
          0.48866806106338995,
          0.7459659241972336,
          1.0019074895970934,
          1.2576488888529143,
          1.5135896791171495,
          1.7711622636812323,
          2.0303576588547085,
          2.2902645520141416,
          2.549922088948023,
          2.809291775263596,
          3.067643907431847,
          3.3245293799150724,
          3.581538545667099,
          3.8401190681347455,
          4.096625908845545,
          4.351525497501181,
          4.605788833158416,
          4.861072598273977,
          5.115542759962323,
          5.368563449243832,
          5.619265021446509,
          5.869675833602704,
          6.118422986160316,
          6.367469811499768,
          6.615968024935929,
          6.866679943646939,
          7.11722573391426,
          7.366575370778238,
          7.616220167864197,
          7.864383422370364,
          8.114017544058608,
          8.363718035566077,
          8.612473271890002,
          8.862672701607394
         ]
        }
       ],
       "layout": {
        "template": {
         "data": {
          "bar": [
           {
            "error_x": {
             "color": "#2a3f5f"
            },
            "error_y": {
             "color": "#2a3f5f"
            },
            "marker": {
             "line": {
              "color": "#E5ECF6",
              "width": 0.5
             },
             "pattern": {
              "fillmode": "overlay",
              "size": 10,
              "solidity": 0.2
             }
            },
            "type": "bar"
           }
          ],
          "barpolar": [
           {
            "marker": {
             "line": {
              "color": "#E5ECF6",
              "width": 0.5
             },
             "pattern": {
              "fillmode": "overlay",
              "size": 10,
              "solidity": 0.2
             }
            },
            "type": "barpolar"
           }
          ],
          "carpet": [
           {
            "aaxis": {
             "endlinecolor": "#2a3f5f",
             "gridcolor": "white",
             "linecolor": "white",
             "minorgridcolor": "white",
             "startlinecolor": "#2a3f5f"
            },
            "baxis": {
             "endlinecolor": "#2a3f5f",
             "gridcolor": "white",
             "linecolor": "white",
             "minorgridcolor": "white",
             "startlinecolor": "#2a3f5f"
            },
            "type": "carpet"
           }
          ],
          "choropleth": [
           {
            "colorbar": {
             "outlinewidth": 0,
             "ticks": ""
            },
            "type": "choropleth"
           }
          ],
          "contour": [
           {
            "colorbar": {
             "outlinewidth": 0,
             "ticks": ""
            },
            "colorscale": [
             [
              0,
              "#0d0887"
             ],
             [
              0.1111111111111111,
              "#46039f"
             ],
             [
              0.2222222222222222,
              "#7201a8"
             ],
             [
              0.3333333333333333,
              "#9c179e"
             ],
             [
              0.4444444444444444,
              "#bd3786"
             ],
             [
              0.5555555555555556,
              "#d8576b"
             ],
             [
              0.6666666666666666,
              "#ed7953"
             ],
             [
              0.7777777777777778,
              "#fb9f3a"
             ],
             [
              0.8888888888888888,
              "#fdca26"
             ],
             [
              1,
              "#f0f921"
             ]
            ],
            "type": "contour"
           }
          ],
          "contourcarpet": [
           {
            "colorbar": {
             "outlinewidth": 0,
             "ticks": ""
            },
            "type": "contourcarpet"
           }
          ],
          "heatmap": [
           {
            "colorbar": {
             "outlinewidth": 0,
             "ticks": ""
            },
            "colorscale": [
             [
              0,
              "#0d0887"
             ],
             [
              0.1111111111111111,
              "#46039f"
             ],
             [
              0.2222222222222222,
              "#7201a8"
             ],
             [
              0.3333333333333333,
              "#9c179e"
             ],
             [
              0.4444444444444444,
              "#bd3786"
             ],
             [
              0.5555555555555556,
              "#d8576b"
             ],
             [
              0.6666666666666666,
              "#ed7953"
             ],
             [
              0.7777777777777778,
              "#fb9f3a"
             ],
             [
              0.8888888888888888,
              "#fdca26"
             ],
             [
              1,
              "#f0f921"
             ]
            ],
            "type": "heatmap"
           }
          ],
          "heatmapgl": [
           {
            "colorbar": {
             "outlinewidth": 0,
             "ticks": ""
            },
            "colorscale": [
             [
              0,
              "#0d0887"
             ],
             [
              0.1111111111111111,
              "#46039f"
             ],
             [
              0.2222222222222222,
              "#7201a8"
             ],
             [
              0.3333333333333333,
              "#9c179e"
             ],
             [
              0.4444444444444444,
              "#bd3786"
             ],
             [
              0.5555555555555556,
              "#d8576b"
             ],
             [
              0.6666666666666666,
              "#ed7953"
             ],
             [
              0.7777777777777778,
              "#fb9f3a"
             ],
             [
              0.8888888888888888,
              "#fdca26"
             ],
             [
              1,
              "#f0f921"
             ]
            ],
            "type": "heatmapgl"
           }
          ],
          "histogram": [
           {
            "marker": {
             "pattern": {
              "fillmode": "overlay",
              "size": 10,
              "solidity": 0.2
             }
            },
            "type": "histogram"
           }
          ],
          "histogram2d": [
           {
            "colorbar": {
             "outlinewidth": 0,
             "ticks": ""
            },
            "colorscale": [
             [
              0,
              "#0d0887"
             ],
             [
              0.1111111111111111,
              "#46039f"
             ],
             [
              0.2222222222222222,
              "#7201a8"
             ],
             [
              0.3333333333333333,
              "#9c179e"
             ],
             [
              0.4444444444444444,
              "#bd3786"
             ],
             [
              0.5555555555555556,
              "#d8576b"
             ],
             [
              0.6666666666666666,
              "#ed7953"
             ],
             [
              0.7777777777777778,
              "#fb9f3a"
             ],
             [
              0.8888888888888888,
              "#fdca26"
             ],
             [
              1,
              "#f0f921"
             ]
            ],
            "type": "histogram2d"
           }
          ],
          "histogram2dcontour": [
           {
            "colorbar": {
             "outlinewidth": 0,
             "ticks": ""
            },
            "colorscale": [
             [
              0,
              "#0d0887"
             ],
             [
              0.1111111111111111,
              "#46039f"
             ],
             [
              0.2222222222222222,
              "#7201a8"
             ],
             [
              0.3333333333333333,
              "#9c179e"
             ],
             [
              0.4444444444444444,
              "#bd3786"
             ],
             [
              0.5555555555555556,
              "#d8576b"
             ],
             [
              0.6666666666666666,
              "#ed7953"
             ],
             [
              0.7777777777777778,
              "#fb9f3a"
             ],
             [
              0.8888888888888888,
              "#fdca26"
             ],
             [
              1,
              "#f0f921"
             ]
            ],
            "type": "histogram2dcontour"
           }
          ],
          "mesh3d": [
           {
            "colorbar": {
             "outlinewidth": 0,
             "ticks": ""
            },
            "type": "mesh3d"
           }
          ],
          "parcoords": [
           {
            "line": {
             "colorbar": {
              "outlinewidth": 0,
              "ticks": ""
             }
            },
            "type": "parcoords"
           }
          ],
          "pie": [
           {
            "automargin": true,
            "type": "pie"
           }
          ],
          "scatter": [
           {
            "fillpattern": {
             "fillmode": "overlay",
             "size": 10,
             "solidity": 0.2
            },
            "type": "scatter"
           }
          ],
          "scatter3d": [
           {
            "line": {
             "colorbar": {
              "outlinewidth": 0,
              "ticks": ""
             }
            },
            "marker": {
             "colorbar": {
              "outlinewidth": 0,
              "ticks": ""
             }
            },
            "type": "scatter3d"
           }
          ],
          "scattercarpet": [
           {
            "marker": {
             "colorbar": {
              "outlinewidth": 0,
              "ticks": ""
             }
            },
            "type": "scattercarpet"
           }
          ],
          "scattergeo": [
           {
            "marker": {
             "colorbar": {
              "outlinewidth": 0,
              "ticks": ""
             }
            },
            "type": "scattergeo"
           }
          ],
          "scattergl": [
           {
            "marker": {
             "colorbar": {
              "outlinewidth": 0,
              "ticks": ""
             }
            },
            "type": "scattergl"
           }
          ],
          "scattermapbox": [
           {
            "marker": {
             "colorbar": {
              "outlinewidth": 0,
              "ticks": ""
             }
            },
            "type": "scattermapbox"
           }
          ],
          "scatterpolar": [
           {
            "marker": {
             "colorbar": {
              "outlinewidth": 0,
              "ticks": ""
             }
            },
            "type": "scatterpolar"
           }
          ],
          "scatterpolargl": [
           {
            "marker": {
             "colorbar": {
              "outlinewidth": 0,
              "ticks": ""
             }
            },
            "type": "scatterpolargl"
           }
          ],
          "scatterternary": [
           {
            "marker": {
             "colorbar": {
              "outlinewidth": 0,
              "ticks": ""
             }
            },
            "type": "scatterternary"
           }
          ],
          "surface": [
           {
            "colorbar": {
             "outlinewidth": 0,
             "ticks": ""
            },
            "colorscale": [
             [
              0,
              "#0d0887"
             ],
             [
              0.1111111111111111,
              "#46039f"
             ],
             [
              0.2222222222222222,
              "#7201a8"
             ],
             [
              0.3333333333333333,
              "#9c179e"
             ],
             [
              0.4444444444444444,
              "#bd3786"
             ],
             [
              0.5555555555555556,
              "#d8576b"
             ],
             [
              0.6666666666666666,
              "#ed7953"
             ],
             [
              0.7777777777777778,
              "#fb9f3a"
             ],
             [
              0.8888888888888888,
              "#fdca26"
             ],
             [
              1,
              "#f0f921"
             ]
            ],
            "type": "surface"
           }
          ],
          "table": [
           {
            "cells": {
             "fill": {
              "color": "#EBF0F8"
             },
             "line": {
              "color": "white"
             }
            },
            "header": {
             "fill": {
              "color": "#C8D4E3"
             },
             "line": {
              "color": "white"
             }
            },
            "type": "table"
           }
          ]
         },
         "layout": {
          "annotationdefaults": {
           "arrowcolor": "#2a3f5f",
           "arrowhead": 0,
           "arrowwidth": 1
          },
          "autotypenumbers": "strict",
          "coloraxis": {
           "colorbar": {
            "outlinewidth": 0,
            "ticks": ""
           }
          },
          "colorscale": {
           "diverging": [
            [
             0,
             "#8e0152"
            ],
            [
             0.1,
             "#c51b7d"
            ],
            [
             0.2,
             "#de77ae"
            ],
            [
             0.3,
             "#f1b6da"
            ],
            [
             0.4,
             "#fde0ef"
            ],
            [
             0.5,
             "#f7f7f7"
            ],
            [
             0.6,
             "#e6f5d0"
            ],
            [
             0.7,
             "#b8e186"
            ],
            [
             0.8,
             "#7fbc41"
            ],
            [
             0.9,
             "#4d9221"
            ],
            [
             1,
             "#276419"
            ]
           ],
           "sequential": [
            [
             0,
             "#0d0887"
            ],
            [
             0.1111111111111111,
             "#46039f"
            ],
            [
             0.2222222222222222,
             "#7201a8"
            ],
            [
             0.3333333333333333,
             "#9c179e"
            ],
            [
             0.4444444444444444,
             "#bd3786"
            ],
            [
             0.5555555555555556,
             "#d8576b"
            ],
            [
             0.6666666666666666,
             "#ed7953"
            ],
            [
             0.7777777777777778,
             "#fb9f3a"
            ],
            [
             0.8888888888888888,
             "#fdca26"
            ],
            [
             1,
             "#f0f921"
            ]
           ],
           "sequentialminus": [
            [
             0,
             "#0d0887"
            ],
            [
             0.1111111111111111,
             "#46039f"
            ],
            [
             0.2222222222222222,
             "#7201a8"
            ],
            [
             0.3333333333333333,
             "#9c179e"
            ],
            [
             0.4444444444444444,
             "#bd3786"
            ],
            [
             0.5555555555555556,
             "#d8576b"
            ],
            [
             0.6666666666666666,
             "#ed7953"
            ],
            [
             0.7777777777777778,
             "#fb9f3a"
            ],
            [
             0.8888888888888888,
             "#fdca26"
            ],
            [
             1,
             "#f0f921"
            ]
           ]
          },
          "colorway": [
           "#636efa",
           "#EF553B",
           "#00cc96",
           "#ab63fa",
           "#FFA15A",
           "#19d3f3",
           "#FF6692",
           "#B6E880",
           "#FF97FF",
           "#FECB52"
          ],
          "font": {
           "color": "#2a3f5f"
          },
          "geo": {
           "bgcolor": "white",
           "lakecolor": "white",
           "landcolor": "#E5ECF6",
           "showlakes": true,
           "showland": true,
           "subunitcolor": "white"
          },
          "hoverlabel": {
           "align": "left"
          },
          "hovermode": "closest",
          "mapbox": {
           "style": "light"
          },
          "paper_bgcolor": "white",
          "plot_bgcolor": "#E5ECF6",
          "polar": {
           "angularaxis": {
            "gridcolor": "white",
            "linecolor": "white",
            "ticks": ""
           },
           "bgcolor": "#E5ECF6",
           "radialaxis": {
            "gridcolor": "white",
            "linecolor": "white",
            "ticks": ""
           }
          },
          "scene": {
           "xaxis": {
            "backgroundcolor": "#E5ECF6",
            "gridcolor": "white",
            "gridwidth": 2,
            "linecolor": "white",
            "showbackground": true,
            "ticks": "",
            "zerolinecolor": "white"
           },
           "yaxis": {
            "backgroundcolor": "#E5ECF6",
            "gridcolor": "white",
            "gridwidth": 2,
            "linecolor": "white",
            "showbackground": true,
            "ticks": "",
            "zerolinecolor": "white"
           },
           "zaxis": {
            "backgroundcolor": "#E5ECF6",
            "gridcolor": "white",
            "gridwidth": 2,
            "linecolor": "white",
            "showbackground": true,
            "ticks": "",
            "zerolinecolor": "white"
           }
          },
          "shapedefaults": {
           "line": {
            "color": "#2a3f5f"
           }
          },
          "ternary": {
           "aaxis": {
            "gridcolor": "white",
            "linecolor": "white",
            "ticks": ""
           },
           "baxis": {
            "gridcolor": "white",
            "linecolor": "white",
            "ticks": ""
           },
           "bgcolor": "#E5ECF6",
           "caxis": {
            "gridcolor": "white",
            "linecolor": "white",
            "ticks": ""
           }
          },
          "title": {
           "x": 0.05
          },
          "xaxis": {
           "automargin": true,
           "gridcolor": "white",
           "linecolor": "white",
           "ticks": "",
           "title": {
            "standoff": 15
           },
           "zerolinecolor": "white",
           "zerolinewidth": 2
          },
          "yaxis": {
           "automargin": true,
           "gridcolor": "white",
           "linecolor": "white",
           "ticks": "",
           "title": {
            "standoff": 15
           },
           "zerolinecolor": "white",
           "zerolinewidth": 2
          }
         }
        },
        "title": {
         "text": "Arrears Over Time"
        },
        "xaxis": {
         "title": {
          "text": "Time (steps)"
         }
        },
        "yaxis": {
         "title": {
          "text": "Arrears"
         }
        }
       }
      }
     },
     "metadata": {},
     "output_type": "display_data"
    }
   ],
   "source": [
    "import plotly.graph_objects as go\n",
    "\n",
    "# Create a dataframe from the agent data\n",
    "model_df = model.datacollector.get_model_vars_dataframe()\n",
    "\n",
    "# Create a line plot for 'Arrears Over Time'\n",
    "fig = go.Figure(data=go.Scatter(x=model_df.index, y=model_df['Arrears Over Time'], mode='lines'))\n",
    "\n",
    "# Set labels and title\n",
    "fig.update_layout(title='Arrears Over Time', xaxis_title='Time (steps)', yaxis_title='Arrears')\n",
    "\n",
    "# Show plot\n",
    "fig.show()\n"
   ]
  },
  {
   "cell_type": "code",
   "execution_count": 733,
   "metadata": {},
   "outputs": [
    {
     "data": {
      "text/plain": [
       "0     0.000000\n",
       "1     0.000000\n",
       "2     0.000000\n",
       "3     0.000000\n",
       "4     0.000000\n",
       "        ...   \n",
       "79    7.864383\n",
       "80    8.114018\n",
       "81    8.363718\n",
       "82    8.612473\n",
       "83    8.862673\n",
       "Name: Arrears Over Time, Length: 84, dtype: float64"
      ]
     },
     "execution_count": 733,
     "metadata": {},
     "output_type": "execute_result"
    }
   ],
   "source": [
    "model_df['Arrears Over Time']"
   ]
  },
  {
   "cell_type": "code",
   "execution_count": 734,
   "metadata": {},
   "outputs": [
    {
     "data": {
      "text/html": [
       "<div>\n",
       "<style scoped>\n",
       "    .dataframe tbody tr th:only-of-type {\n",
       "        vertical-align: middle;\n",
       "    }\n",
       "\n",
       "    .dataframe tbody tr th {\n",
       "        vertical-align: top;\n",
       "    }\n",
       "\n",
       "    .dataframe thead th {\n",
       "        text-align: right;\n",
       "    }\n",
       "</style>\n",
       "<table border=\"1\" class=\"dataframe\">\n",
       "  <thead>\n",
       "    <tr style=\"text-align: right;\">\n",
       "      <th></th>\n",
       "      <th>Dwelling</th>\n",
       "      <th>Income</th>\n",
       "      <th>Inability</th>\n",
       "      <th>Savings</th>\n",
       "      <th>Arrears</th>\n",
       "      <th>EnergyCost</th>\n",
       "    </tr>\n",
       "    <tr>\n",
       "      <th>AgentID</th>\n",
       "      <th></th>\n",
       "      <th></th>\n",
       "      <th></th>\n",
       "      <th></th>\n",
       "      <th></th>\n",
       "      <th></th>\n",
       "    </tr>\n",
       "  </thead>\n",
       "  <tbody>\n",
       "    <tr>\n",
       "      <th>5</th>\n",
       "      <td>1140</td>\n",
       "      <td>914.370128</td>\n",
       "      <td>True</td>\n",
       "      <td>33473.920198</td>\n",
       "      <td>0.0</td>\n",
       "      <td>144.538456</td>\n",
       "    </tr>\n",
       "    <tr>\n",
       "      <th>10</th>\n",
       "      <td>522</td>\n",
       "      <td>872.406616</td>\n",
       "      <td>False</td>\n",
       "      <td>34945.458423</td>\n",
       "      <td>0.0</td>\n",
       "      <td>66.183398</td>\n",
       "    </tr>\n",
       "    <tr>\n",
       "      <th>17</th>\n",
       "      <td>522</td>\n",
       "      <td>930.254042</td>\n",
       "      <td>False</td>\n",
       "      <td>37910.597005</td>\n",
       "      <td>0.0</td>\n",
       "      <td>66.183398</td>\n",
       "    </tr>\n",
       "    <tr>\n",
       "      <th>19</th>\n",
       "      <td>1435</td>\n",
       "      <td>885.729663</td>\n",
       "      <td>True</td>\n",
       "      <td>32975.951715</td>\n",
       "      <td>0.0</td>\n",
       "      <td>181.940951</td>\n",
       "    </tr>\n",
       "    <tr>\n",
       "      <th>22</th>\n",
       "      <td>528</td>\n",
       "      <td>913.960851</td>\n",
       "      <td>False</td>\n",
       "      <td>36799.909979</td>\n",
       "      <td>0.0</td>\n",
       "      <td>66.944127</td>\n",
       "    </tr>\n",
       "    <tr>\n",
       "      <th>...</th>\n",
       "      <td>...</td>\n",
       "      <td>...</td>\n",
       "      <td>...</td>\n",
       "      <td>...</td>\n",
       "      <td>...</td>\n",
       "      <td>...</td>\n",
       "    </tr>\n",
       "    <tr>\n",
       "      <th>367</th>\n",
       "      <td>1802</td>\n",
       "      <td>7040.094883</td>\n",
       "      <td>False</td>\n",
       "      <td>319523.330914</td>\n",
       "      <td>0.0</td>\n",
       "      <td>230.003562</td>\n",
       "    </tr>\n",
       "    <tr>\n",
       "      <th>769</th>\n",
       "      <td>1792</td>\n",
       "      <td>7356.766379</td>\n",
       "      <td>False</td>\n",
       "      <td>327975.742159</td>\n",
       "      <td>0.0</td>\n",
       "      <td>228.727183</td>\n",
       "    </tr>\n",
       "    <tr>\n",
       "      <th>151</th>\n",
       "      <td>619</td>\n",
       "      <td>7305.654553</td>\n",
       "      <td>False</td>\n",
       "      <td>336267.128222</td>\n",
       "      <td>0.0</td>\n",
       "      <td>79.007883</td>\n",
       "    </tr>\n",
       "    <tr>\n",
       "      <th>920</th>\n",
       "      <td>1942</td>\n",
       "      <td>8931.630295</td>\n",
       "      <td>False</td>\n",
       "      <td>399279.012527</td>\n",
       "      <td>0.0</td>\n",
       "      <td>247.872873</td>\n",
       "    </tr>\n",
       "    <tr>\n",
       "      <th>187</th>\n",
       "      <td>1587</td>\n",
       "      <td>9347.859853</td>\n",
       "      <td>False</td>\n",
       "      <td>387512.491636</td>\n",
       "      <td>0.0</td>\n",
       "      <td>202.561406</td>\n",
       "    </tr>\n",
       "  </tbody>\n",
       "</table>\n",
       "<p>3000 rows × 6 columns</p>\n",
       "</div>"
      ],
      "text/plain": [
       "         Dwelling       Income  Inability        Savings  Arrears  EnergyCost\n",
       "AgentID                                                                      \n",
       "5            1140   914.370128       True   33473.920198      0.0  144.538456\n",
       "10            522   872.406616      False   34945.458423      0.0   66.183398\n",
       "17            522   930.254042      False   37910.597005      0.0   66.183398\n",
       "19           1435   885.729663       True   32975.951715      0.0  181.940951\n",
       "22            528   913.960851      False   36799.909979      0.0   66.944127\n",
       "...           ...          ...        ...            ...      ...         ...\n",
       "367          1802  7040.094883      False  319523.330914      0.0  230.003562\n",
       "769          1792  7356.766379      False  327975.742159      0.0  228.727183\n",
       "151           619  7305.654553      False  336267.128222      0.0   79.007883\n",
       "920          1942  8931.630295      False  399279.012527      0.0  247.872873\n",
       "187          1587  9347.859853      False  387512.491636      0.0  202.561406\n",
       "\n",
       "[3000 rows x 6 columns]"
      ]
     },
     "execution_count": 734,
     "metadata": {},
     "output_type": "execute_result"
    }
   ],
   "source": [
    "# Fetch agent-level data\n",
    "agent_df = model.datacollector.get_agent_vars_dataframe()\n",
    "\n",
    "# Get data for steps 44 to 46\n",
    "steps_44_to_46 = agent_df.xs(slice(44, 46), level=\"Step\")\n",
    "\n",
    "steps_44_to_46\n"
   ]
  },
  {
   "cell_type": "code",
   "execution_count": null,
   "metadata": {},
   "outputs": [],
   "source": []
  },
  {
   "cell_type": "code",
   "execution_count": 736,
   "metadata": {},
   "outputs": [
    {
     "data": {
      "image/png": "[encoded data removed]",
      "text/plain": [
       "<Figure size 720x432 with 1 Axes>"
      ]
     },
     "metadata": {
      "needs_background": "light"
     },
     "output_type": "display_data"
    }
   ],
   "source": [
    "# After running the model\n",
    "model_data = model.datacollector.get_model_vars_dataframe()\n",
    "\n",
    "plt.figure(figsize=(10, 6))\n",
    "plt.plot(model_data['Energy Price'])\n",
    "plt.xlabel('Step')\n",
    "plt.ylabel('Inability')\n",
    "plt.title('Inability Over Time')\n",
    "plt.grid(True)\n",
    "plt.show()"
   ]
  },
  {
   "cell_type": "code",
   "execution_count": 737,
   "metadata": {},
   "outputs": [
    {
     "data": {
      "text/plain": [
       "0     0.200\n",
       "1     0.200\n",
       "2     0.200\n",
       "3     0.200\n",
       "4     0.200\n",
       "      ...  \n",
       "79    0.199\n",
       "80    0.200\n",
       "81    0.202\n",
       "82    0.201\n",
       "83    0.201\n",
       "Name: Inability Over Time, Length: 84, dtype: float64"
      ]
     },
     "execution_count": 737,
     "metadata": {},
     "output_type": "execute_result"
    }
   ],
   "source": [
    "model_data['Inability Over Time']"
   ]
  },
  {
   "cell_type": "code",
   "execution_count": 738,
   "metadata": {},
   "outputs": [
    {
     "data": {
      "image/png": "[encoded data removed]",
      "text/plain": [
       "<Figure size 432x288 with 1 Axes>"
      ]
     },
     "metadata": {
      "needs_background": "light"
     },
     "output_type": "display_data"
    }
   ],
   "source": [
    "model_data[[\"Inability Over Time\", \"Energy Price\"]].plot()\n",
    "plt.show()\n"
   ]
  },
  {
   "cell_type": "code",
   "execution_count": 739,
   "metadata": {},
   "outputs": [
    {
     "data": {
      "image/png": "[encoded data removed]",
      "text/plain": [
       "<Figure size 432x288 with 1 Axes>"
      ]
     },
     "metadata": {
      "needs_background": "light"
     },
     "output_type": "display_data"
    }
   ],
   "source": [
    "agent_data.xs(80, level=\"Step\")[\"Income\"].hist()\n",
    "plt.show()\n"
   ]
  }
 ],
 "metadata": {
  "kernelspec": {
   "display_name": "Python 3",
   "language": "python",
   "name": "python3"
  },
  "language_info": {
   "codemirror_mode": {
    "name": "ipython",
    "version": 3
   },
   "file_extension": ".py",
   "mimetype": "text/x-python",
   "name": "python",
   "nbconvert_exporter": "python",
   "pygments_lexer": "ipython3",
   "version": "3.8.10"
  },
  "orig_nbformat": 4
 },
 "nbformat": 4,
 "nbformat_minor": 2
}
